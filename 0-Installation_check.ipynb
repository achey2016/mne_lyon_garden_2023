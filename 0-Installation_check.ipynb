{
 "cells": [
  {
   "cell_type": "markdown",
   "metadata": {},
   "source": [
    "# Hello and welcome!\n",
    " \n",
    "With this short notebook, let's check if your installation was successful."
   ]
  },
  {
   "cell_type": "markdown",
   "metadata": {},
   "source": [
    "Let's first see if you have MNE-Python installed. Run the code cell below. It should _not_ show you an error:"
   ]
  },
  {
   "cell_type": "code",
   "execution_count": 1,
   "metadata": {},
   "outputs": [],
   "source": [
    "import mne"
   ]
  },
  {
   "cell_type": "markdown",
   "metadata": {},
   "source": [
    "Let's also check some dependencies that should have been installed alongside. Again, no errors should arise!"
   ]
  },
  {
   "cell_type": "code",
   "execution_count": 2,
   "metadata": {},
   "outputs": [],
   "source": [
    "import numpy\n",
    "import scipy\n",
    "import matplotlib\n",
    "import pandas"
   ]
  },
  {
   "cell_type": "markdown",
   "metadata": {},
   "source": [
    "Now, if there were any errors, you could check the following things:\n",
    "\n",
    "1. If you installed MNE-Python in a conda environment, did you activate it _before_ starting your Jupyter notebook server?\n",
    "2. Same as 1.: if you are in an IDE, have you chosen the right environment?\n",
    "3. If that does not solve it, you can check this page and see if your problem is discussed: https://mne.tools/stable/install/advanced.html#advanced-setup"
   ]
  },
  {
   "cell_type": "markdown",
   "metadata": {},
   "source": [
    "Let's also see if you have the right version installed. This should give back `1.5.0` or higher."
   ]
  },
  {
   "cell_type": "code",
   "execution_count": 3,
   "metadata": {},
   "outputs": [
    {
     "data": {
      "text/plain": [
       "'1.5.1'"
      ]
     },
     "execution_count": 3,
     "metadata": {},
     "output_type": "execute_result"
    }
   ],
   "source": [
    "mne.__version__"
   ]
  },
  {
   "cell_type": "markdown",
   "metadata": {},
   "source": [
    "If this gives back a different number, you installed the wrong MNE-Python version, or you are in a wrong environment.\n",
    "\n",
    "(Or you have an advanced path setup ... then it's probably easiest to install everything into a new conda/virtualenv environment!)\n",
    "\n",
    "You can get a more detailed report of the versions of MNE dependencies."
   ]
  },
  {
   "cell_type": "code",
   "execution_count": 4,
   "metadata": {},
   "outputs": [
    {
     "name": "stdout",
     "output_type": "stream",
     "text": [
      "Platform             Linux-4.18.0-500.el8.x86_64-x86_64-with-glibc2.28\n",
      "Python               3.11.4 (main, Aug 11 2023, 13:46:19) [GCC 8.5.0 20210514 (Red Hat 8.5.0-20)]\n",
      "Executable           /home/anne.cheylus/.virtualenvs/py311gardens/bin/python3.11\n",
      "CPU                  x86_64 (48 cores)\n",
      "Memory               92.5 GB\n",
      "\n",
      "Core\n",
      "├☑ mne               1.5.1\n",
      "├☑ numpy             1.26.0 (OpenBLAS 0.3.23.dev with 48 threads)\n",
      "├☑ scipy             1.11.3\n",
      "├☑ matplotlib        3.8.0 (backend=module://matplotlib_inline.backend_inline)\n",
      "├☑ pooch             1.7.0\n",
      "└☑ jinja2            3.1.2\n",
      "\n",
      "Numerical (optional)\n",
      "├☑ sklearn           1.3.1\n",
      "├☑ pandas            2.1.1\n",
      "└☐ unavailable       numba, nibabel, nilearn, dipy, openmeeg, cupy\n",
      "\n",
      "Visualization (optional)\n",
      "├☑ qtpy              2.4.0 (PyQt5=5.15.2)\n",
      "├☑ ipywidgets        8.1.1\n",
      "└☐ unavailable       pyvista, pyvistaqt, vtk, ipympl, pyqtgraph, mne-qt-browser, trame_client, trame_server, trame_vtk, trame_vuetify\n",
      "\n",
      "Ecosystem (optional)\n",
      "├☑ mne-bids          0.13\n",
      "└☐ unavailable       mne-nirs, mne-features, mne-connectivity, mne-icalabel, mne-bids-pipeline\n"
     ]
    }
   ],
   "source": [
    "mne.sys_info()"
   ]
  },
  {
   "cell_type": "code",
   "execution_count": null,
   "metadata": {},
   "outputs": [],
   "source": []
  }
 ],
 "metadata": {
  "kernelspec": {
   "display_name": "Python 3 (ipykernel)",
   "language": "python",
   "name": "python3"
  },
  "language_info": {
   "codemirror_mode": {
    "name": "ipython",
    "version": 3
   },
   "file_extension": ".py",
   "mimetype": "text/x-python",
   "name": "python",
   "nbconvert_exporter": "python",
   "pygments_lexer": "ipython3",
   "version": "3.11.4"
  },
  "vscode": {
   "interpreter": {
    "hash": "96118219f514f0f7c28e51c58abb2aa3e9c527721ceabff83c3dd194a32d9fc1"
   }
  }
 },
 "nbformat": 4,
 "nbformat_minor": 4
}
