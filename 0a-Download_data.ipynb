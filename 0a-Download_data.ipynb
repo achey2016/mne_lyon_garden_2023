{
 "cells": [
  {
   "cell_type": "markdown",
   "id": "03746454-285d-4661-bf79-151a88fee120",
   "metadata": {},
   "source": [
    "# Download data with MNE-bids and openneuro\n",
    "\n",
    "Click on the double triangle button above to run all cells, wait for the download to proceed (this can take from several minutes to several hours depending on your connection), and check that no error occurs.\n",
    "\n",
    "\n",
    "We use the openneuro-py package to download only one session for one subject from the working memory dataset.\n"
   ]
  },
  {
   "cell_type": "code",
   "execution_count": 1,
   "id": "af1efc68-4c0b-41aa-8e29-6d22b88fabf8",
   "metadata": {},
   "outputs": [],
   "source": [
    "import os\n",
    "import os.path as op\n",
    "import shutil\n",
    "import openneuro\n",
    "import mne_bids\n",
    "import asyncio\n",
    "import time"
   ]
  },
  {
   "cell_type": "code",
   "execution_count": 2,
   "id": "831e789e-09c9-4a78-9515-b4e5f2740a7f",
   "metadata": {},
   "outputs": [
    {
     "name": "stdout",
     "output_type": "stream",
     "text": [
      "\n",
      "👋 Hello! This is openneuro-py 2023.1.0. Great to see you! 🤗\n",
      "\n",
      "   👉 Please report problems 🤯 and bugs 🪲 at\n",
      "      https://github.com/hoechenberger/openneuro-py/issues\n",
      "\n",
      "🌍 Preparing to download ds002550 …\n"
     ]
    },
    {
     "data": {
      "application/vnd.jupyter.widget-view+json": {
       "model_id": "eda696eaa3df44ebb7fb2714228a4a1e",
       "version_major": 2,
       "version_minor": 0
      },
      "text/plain": [
       "📁 Traversing directories for ds002550 : 0 entities [00:00, ? entities/s]"
      ]
     },
     "metadata": {},
     "output_type": "display_data"
    },
    {
     "name": "stderr",
     "output_type": "stream",
     "text": [
      "log_error - https://openneuro.org/crn/graphql: 502 Server Error: Bad Gateway for url: https://openneuro.org/crn/graphql\n",
      "/Users/cheylus/.virtualenvs/py311-mne_septembre/lib/python3.11/site-packages/openneuro/_download.py:208: RuntimeWarning: coroutine 'sleep' was never awaited\n",
      "  asyncio.sleep(retry_backoff)\n",
      "RuntimeWarning: Enable tracemalloc to get the object allocation traceback\n"
     ]
    },
    {
     "name": "stdout",
     "output_type": "stream",
     "text": [
      "  Request timed out while fetching metadata, retrying …\n",
      "📥 Retrieving up to 275 files (5 concurrent downloads). \n",
      "✅ Finished downloading ds002550.\n",
      " \n",
      "🧠 Please enjoy your brains.\n",
      " \n",
      "\n",
      "👋 Hello! This is openneuro-py 2023.1.0. Great to see you! 🤗\n",
      "\n",
      "   👉 Please report problems 🤯 and bugs 🪲 at\n",
      "      https://github.com/hoechenberger/openneuro-py/issues\n",
      "\n",
      "🌍 Preparing to download ds002550 …\n"
     ]
    },
    {
     "data": {
      "application/vnd.jupyter.widget-view+json": {
       "model_id": "61152c777226432da7db112e14cff052",
       "version_major": 2,
       "version_minor": 0
      },
      "text/plain": [
       "📁 Traversing directories for ds002550 : 0 entities [00:00, ? entities/s]"
      ]
     },
     "metadata": {},
     "output_type": "display_data"
    },
    {
     "name": "stdout",
     "output_type": "stream",
     "text": [
      "📥 Retrieving up to 274 files (5 concurrent downloads). \n",
      "✅ Finished downloading ds002550.\n",
      " \n",
      "🧠 Please enjoy your brains.\n",
      " \n"
     ]
    }
   ],
   "source": [
    "dataset = 'ds002550'\n",
    "subject = '02'\n",
    "session = '01'\n",
    "bids_root = './bids_data'\n",
    "\n",
    "# Download one subject's data from our dataset\n",
    "if not op.isdir(bids_root):\n",
    "    os.makedirs(bids_root)\n",
    "\n",
    "openneuro.download(dataset=dataset, target_dir=bids_root,\n",
    "                   include=[f'sub-{subject}/ses-{session}'])\n",
    "subject = '03'\n",
    "openneuro.download(dataset=dataset, target_dir=bids_root,\n",
    "                   include=[f'sub-{subject}/ses-{session}'])"
   ]
  },
  {
   "cell_type": "code",
   "execution_count": 3,
   "id": "6bea8fc5-8cfe-430f-8c2f-8288999ac769",
   "metadata": {},
   "outputs": [
    {
     "name": "stdout",
     "output_type": "stream",
     "text": [
      "553 tasks still pending\n",
      "<Task pending name='Task-81' coro=<_download_file() running at /Users/cheylus/.virtualenvs/py311-mne_septembre/lib/python3.11/site-packages/openneuro/_download.py:280> wait_for=<Future pending cb=[Task.task_wakeup()]> cb=[gather.<locals>._done_callback() at /usr/local/Cellar/python@3.11/3.11.4_1/Frameworks/Python.framework/Versions/3.11/lib/python3.11/asyncio/tasks.py:754]>\n"
     ]
    },
    {
     "data": {
      "application/vnd.jupyter.widget-view+json": {
       "model_id": "acaee2ef328847c7b348104ebc56585d",
       "version_major": 2,
       "version_minor": 0
      },
      "text/plain": [
       "Skipping participants.tsv: already downloaded.: 100%|##########| 217/217 [00:00<?, ?B/s]"
      ]
     },
     "metadata": {},
     "output_type": "display_data"
    },
    {
     "data": {
      "application/vnd.jupyter.widget-view+json": {
       "model_id": "b7129d48760b43b5bab5ed9b7a1d0139",
       "version_major": 2,
       "version_minor": 0
      },
      "text/plain": [
       "Skipping participants.json: already downloaded.: 100%|##########| 250/250 [00:00<?, ?B/s]"
      ]
     },
     "metadata": {},
     "output_type": "display_data"
    },
    {
     "data": {
      "application/vnd.jupyter.widget-view+json": {
       "model_id": "f8073899ce5743d6b50a418cd391cc27",
       "version_major": 2,
       "version_minor": 0
      },
      "text/plain": [
       "Skipping CHANGES: already downloaded.: 100%|##########| 197/197 [00:00<?, ?B/s]"
      ]
     },
     "metadata": {},
     "output_type": "display_data"
    },
    {
     "data": {
      "application/vnd.jupyter.widget-view+json": {
       "model_id": "c48ac9ec644e43a6ac22828b2f548bf5",
       "version_major": 2,
       "version_minor": 0
      },
      "text/plain": [
       "Skipping CHANGES: already downloaded.: 100%|##########| 197/197 [00:00<?, ?B/s]"
      ]
     },
     "metadata": {},
     "output_type": "display_data"
    },
    {
     "data": {
      "application/vnd.jupyter.widget-view+json": {
       "model_id": "a84ef8d49e7f4d3a96c6f1414f57526b",
       "version_major": 2,
       "version_minor": 0
      },
      "text/plain": [
       "Skipping participants.json: already downloaded.: 100%|##########| 250/250 [00:00<?, ?B/s]"
      ]
     },
     "metadata": {},
     "output_type": "display_data"
    },
    {
     "data": {
      "application/vnd.jupyter.widget-view+json": {
       "model_id": "60918e27824c409a8f543d0a924e7d87",
       "version_major": 2,
       "version_minor": 0
      },
      "text/plain": [
       "Skipping README: already downloaded.: 100%|##########| 4.36k/4.36k [00:00<?, ?B/s]"
      ]
     },
     "metadata": {},
     "output_type": "display_data"
    },
    {
     "data": {
      "application/vnd.jupyter.widget-view+json": {
       "model_id": "4f591b11650c405f891a2027c17d8b61",
       "version_major": 2,
       "version_minor": 0
      },
      "text/plain": [
       "Skipping dataset_description.json: already downloaded.: 100%|##########| 1.14k/1.14k [00:00<?, ?B/s]"
      ]
     },
     "metadata": {},
     "output_type": "display_data"
    },
    {
     "data": {
      "application/vnd.jupyter.widget-view+json": {
       "model_id": "0e325f645476462280653773aa24ecad",
       "version_major": 2,
       "version_minor": 0
      },
      "text/plain": [
       "Skipping README: already downloaded.: 100%|##########| 4.36k/4.36k [00:00<?, ?B/s]"
      ]
     },
     "metadata": {},
     "output_type": "display_data"
    },
    {
     "data": {
      "application/vnd.jupyter.widget-view+json": {
       "model_id": "335d8499580149e29564372b4b68f5da",
       "version_major": 2,
       "version_minor": 0
      },
      "text/plain": [
       "Skipping dataset_description.json: already downloaded.: 100%|##########| 1.14k/1.14k [00:00<?, ?B/s]"
      ]
     },
     "metadata": {},
     "output_type": "display_data"
    },
    {
     "data": {
      "application/vnd.jupyter.widget-view+json": {
       "model_id": "993ddb47d31e446d8aa224fb8a44432f",
       "version_major": 2,
       "version_minor": 0
      },
      "text/plain": [
       "Skipping participants.tsv: already downloaded.: 100%|##########| 217/217 [00:00<?, ?B/s]"
      ]
     },
     "metadata": {},
     "output_type": "display_data"
    },
    {
     "data": {
      "application/vnd.jupyter.widget-view+json": {
       "model_id": "70e09e25f3504b75a5f2073464b876f6",
       "version_major": 2,
       "version_minor": 0
      },
      "text/plain": [
       "Skipping WorkMem_sub02.csv: already downloaded.: 100%|##########| 63.5k/63.5k [00:00<?, ?B/s]"
      ]
     },
     "metadata": {},
     "output_type": "display_data"
    },
    {
     "data": {
      "application/vnd.jupyter.widget-view+json": {
       "model_id": "e6d2590a70ba4df2b4f4c5fd3a480cdd",
       "version_major": 2,
       "version_minor": 0
      },
      "text/plain": [
       "Skipping hpi_mri_surf.txt: already downloaded.: 100%|##########| 987/987 [00:00<?, ?B/s]"
      ]
     },
     "metadata": {},
     "output_type": "display_data"
    },
    {
     "data": {
      "application/vnd.jupyter.widget-view+json": {
       "model_id": "04fb6686119643f1bfc5191723024049",
       "version_major": 2,
       "version_minor": 0
      },
      "text/plain": [
       "Skipping sub-02_ses-01_scans.tsv: already downloaded.: 100%|##########| 458/458 [00:00<?, ?B/s]"
      ]
     },
     "metadata": {},
     "output_type": "display_data"
    },
    {
     "data": {
      "application/vnd.jupyter.widget-view+json": {
       "model_id": "02f460cd0a7f4ec3a879af99dc1d5791",
       "version_major": 2,
       "version_minor": 0
      },
      "text/plain": [
       "Skipping sub-03_ses-01_scans.tsv: already downloaded.: 100%|##########| 458/458 [00:00<?, ?B/s]"
      ]
     },
     "metadata": {},
     "output_type": "display_data"
    },
    {
     "data": {
      "application/vnd.jupyter.widget-view+json": {
       "model_id": "da91786a5b9a4f27bcf9495339b3d186",
       "version_major": 2,
       "version_minor": 0
      },
      "text/plain": [
       "Skipping WorkMem_sub03.csv: already downloaded.: 100%|##########| 65.2k/65.2k [00:00<?, ?B/s]"
      ]
     },
     "metadata": {},
     "output_type": "display_data"
    },
    {
     "data": {
      "application/vnd.jupyter.widget-view+json": {
       "model_id": "9114179d37ba420b842c131516b7ea95",
       "version_major": 2,
       "version_minor": 0
      },
      "text/plain": [
       "Skipping hpi_mri_surf.txt: already downloaded.: 100%|##########| 977/977 [00:00<?, ?B/s]"
      ]
     },
     "metadata": {},
     "output_type": "display_data"
    },
    {
     "data": {
      "application/vnd.jupyter.widget-view+json": {
       "model_id": "fcbcab4637d347598ef0ddb81b9c8900",
       "version_major": 2,
       "version_minor": 0
      },
      "text/plain": [
       "Skipping sub-03_ses-01_task-WorkingMemory_run-01_events.tsv: already downloaded.: 100%|##########| 6.41k/6.41k…"
      ]
     },
     "metadata": {},
     "output_type": "display_data"
    },
    {
     "data": {
      "application/vnd.jupyter.widget-view+json": {
       "model_id": "4e20b6d82a5745c791e4d4afd431e69b",
       "version_major": 2,
       "version_minor": 0
      },
      "text/plain": [
       "Skipping sub-02_ses-01_task-WorkingMemory_run-01_events.tsv: already downloaded.: 100%|##########| 7.41k/7.41k…"
      ]
     },
     "metadata": {},
     "output_type": "display_data"
    },
    {
     "data": {
      "application/vnd.jupyter.widget-view+json": {
       "model_id": "710549fc9e9945d686fa3a8d5aad7069",
       "version_major": 2,
       "version_minor": 0
      },
      "text/plain": [
       "Skipping sub-02_ses-01_task-WorkingMemory_run-02_events.tsv: already downloaded.: 100%|##########| 5.86k/5.86k…"
      ]
     },
     "metadata": {},
     "output_type": "display_data"
    },
    {
     "data": {
      "application/vnd.jupyter.widget-view+json": {
       "model_id": "dba36374676248d39342ffbc1ec21439",
       "version_major": 2,
       "version_minor": 0
      },
      "text/plain": [
       "Skipping sub-03_ses-01_task-WorkingMemory_run-02_events.tsv: already downloaded.: 100%|##########| 6.49k/6.49k…"
      ]
     },
     "metadata": {},
     "output_type": "display_data"
    },
    {
     "data": {
      "application/vnd.jupyter.widget-view+json": {
       "model_id": "419db40dce974e589989740578943422",
       "version_major": 2,
       "version_minor": 0
      },
      "text/plain": [
       "Skipping sub-02_ses-01_task-WorkingMemory_run-03_events.tsv: already downloaded.: 100%|##########| 6.03k/6.03k…"
      ]
     },
     "metadata": {},
     "output_type": "display_data"
    },
    {
     "data": {
      "application/vnd.jupyter.widget-view+json": {
       "model_id": "434e97f108e74049870ddca73821a382",
       "version_major": 2,
       "version_minor": 0
      },
      "text/plain": [
       "Skipping sub-03_ses-01_task-WorkingMemory_run-03_events.tsv: already downloaded.: 100%|##########| 6.80k/6.80k…"
      ]
     },
     "metadata": {},
     "output_type": "display_data"
    },
    {
     "data": {
      "application/vnd.jupyter.widget-view+json": {
       "model_id": "e9aa405e10174a57bae6e6406813a3b3",
       "version_major": 2,
       "version_minor": 0
      },
      "text/plain": [
       "Skipping sub-03_ses-01_task-WorkingMemory_run-04_events.tsv: already downloaded.: 100%|##########| 6.56k/6.56k…"
      ]
     },
     "metadata": {},
     "output_type": "display_data"
    },
    {
     "data": {
      "application/vnd.jupyter.widget-view+json": {
       "model_id": "885bdc4024764b97a656b6236f58f374",
       "version_major": 2,
       "version_minor": 0
      },
      "text/plain": [
       "Skipping sub-02_ses-01_task-WorkingMemory_run-04_events.tsv: already downloaded.: 100%|##########| 6.21k/6.21k…"
      ]
     },
     "metadata": {},
     "output_type": "display_data"
    },
    {
     "data": {
      "application/vnd.jupyter.widget-view+json": {
       "model_id": "72395b08065a4a2fb42da55058215bf0",
       "version_major": 2,
       "version_minor": 0
      },
      "text/plain": [
       "Skipping sub-02_ses-01_task-WorkingMemory_run-05_events.tsv: already downloaded.: 100%|##########| 5.77k/5.77k…"
      ]
     },
     "metadata": {},
     "output_type": "display_data"
    },
    {
     "data": {
      "application/vnd.jupyter.widget-view+json": {
       "model_id": "cc313cfd1395444ab7b4b772e043c6d3",
       "version_major": 2,
       "version_minor": 0
      },
      "text/plain": [
       "Skipping sub-03_ses-01_task-WorkingMemory_run-05_events.tsv: already downloaded.: 100%|##########| 6.46k/6.46k…"
      ]
     },
     "metadata": {},
     "output_type": "display_data"
    },
    {
     "data": {
      "application/vnd.jupyter.widget-view+json": {
       "model_id": "27f55810d90845969510bb25fea82c52",
       "version_major": 2,
       "version_minor": 0
      },
      "text/plain": [
       "Skipping sub-02_ses-01_task-WorkingMemory_run-06_events.tsv: already downloaded.: 100%|##########| 5.76k/5.76k…"
      ]
     },
     "metadata": {},
     "output_type": "display_data"
    },
    {
     "data": {
      "application/vnd.jupyter.widget-view+json": {
       "model_id": "cf2d636e20d6457b9f85d243f5370709",
       "version_major": 2,
       "version_minor": 0
      },
      "text/plain": [
       "Skipping sub-03_ses-01_task-WorkingMemory_run-06_events.tsv: already downloaded.: 100%|##########| 6.14k/6.14k…"
      ]
     },
     "metadata": {},
     "output_type": "display_data"
    },
    {
     "data": {
      "application/vnd.jupyter.widget-view+json": {
       "model_id": "dc204befc3684c2188b4eca75643580a",
       "version_major": 2,
       "version_minor": 0
      },
      "text/plain": [
       "Skipping sub-02_ses-01_task-WorkingMemory_run-07_events.tsv: already downloaded.: 100%|##########| 6.51k/6.51k…"
      ]
     },
     "metadata": {},
     "output_type": "display_data"
    },
    {
     "data": {
      "application/vnd.jupyter.widget-view+json": {
       "model_id": "eda59073300443c480a9ddfcc2dae168",
       "version_major": 2,
       "version_minor": 0
      },
      "text/plain": [
       "Skipping sub-03_ses-01_task-WorkingMemory_run-07_events.tsv: already downloaded.: 100%|##########| 6.00k/6.00k…"
      ]
     },
     "metadata": {},
     "output_type": "display_data"
    },
    {
     "data": {
      "application/vnd.jupyter.widget-view+json": {
       "model_id": "879022f23c8b45608a2076850c198454",
       "version_major": 2,
       "version_minor": 0
      },
      "text/plain": [
       "Skipping sub-02_ses-01_task-WorkingMemory_run-08_events.tsv: already downloaded.: 100%|##########| 6.09k/6.09k…"
      ]
     },
     "metadata": {},
     "output_type": "display_data"
    },
    {
     "data": {
      "application/vnd.jupyter.widget-view+json": {
       "model_id": "852c4194ae98467b9a530792e26255c3",
       "version_major": 2,
       "version_minor": 0
      },
      "text/plain": [
       "Skipping sub-03_ses-01_task-WorkingMemory_run-08_events.tsv: already downloaded.: 100%|##########| 6.00k/6.00k…"
      ]
     },
     "metadata": {},
     "output_type": "display_data"
    },
    {
     "data": {
      "application/vnd.jupyter.widget-view+json": {
       "model_id": "bea98227815e47b0a1dcf8da0b73b301",
       "version_major": 2,
       "version_minor": 0
      },
      "text/plain": [
       "Skipping ChannelGroupSet.cfg: already downloaded.: 100%|##########| 2.05k/2.05k [00:00<?, ?B/s]"
      ]
     },
     "metadata": {},
     "output_type": "display_data"
    },
    {
     "data": {
      "application/vnd.jupyter.widget-view+json": {
       "model_id": "7b6b1c0cb2314abc82c956a16c712268",
       "version_major": 2,
       "version_minor": 0
      },
      "text/plain": [
       "Skipping ChannelGroupSet.cfg: already downloaded.: 100%|##########| 2.05k/2.05k [00:00<?, ?B/s]"
      ]
     },
     "metadata": {},
     "output_type": "display_data"
    },
    {
     "data": {
      "application/vnd.jupyter.widget-view+json": {
       "model_id": "7ae3ea25e22441598dd2ac667cd24959",
       "version_major": 2,
       "version_minor": 0
      },
      "text/plain": [
       "Skipping ClassFile.cls: already downloaded.: 100%|##########| 270/270 [00:00<?, ?B/s]"
      ]
     },
     "metadata": {},
     "output_type": "display_data"
    },
    {
     "data": {
      "application/vnd.jupyter.widget-view+json": {
       "model_id": "8d919edad85f4db38e77859371020c92",
       "version_major": 2,
       "version_minor": 0
      },
      "text/plain": [
       "Skipping bad.segments: already downloaded.: 0.00B [00:00, ?B/s]"
      ]
     },
     "metadata": {},
     "output_type": "display_data"
    },
    {
     "data": {
      "application/vnd.jupyter.widget-view+json": {
       "model_id": "e18503b2717e4b07a4e7a81372ad1990",
       "version_major": 2,
       "version_minor": 0
      },
      "text/plain": [
       "Skipping MarkerFile.mrk: already downloaded.: 100%|##########| 10.2k/10.2k [00:00<?, ?B/s]"
      ]
     },
     "metadata": {},
     "output_type": "display_data"
    },
    {
     "data": {
      "application/vnd.jupyter.widget-view+json": {
       "model_id": "076031077adc4981a136593c2e82a6ae",
       "version_major": 2,
       "version_minor": 0
      },
      "text/plain": [
       "Skipping MarkerFile.mrk: already downloaded.: 100%|##########| 13.5k/13.5k [00:00<?, ?B/s]"
      ]
     },
     "metadata": {},
     "output_type": "display_data"
    },
    {
     "data": {
      "application/vnd.jupyter.widget-view+json": {
       "model_id": "8ae491bc06f44636b5dfc68ee7550533",
       "version_major": 2,
       "version_minor": 0
      },
      "text/plain": [
       "Skipping processing.cfg: already downloaded.: 100%|##########| 1.17k/1.17k [00:00<?, ?B/s]"
      ]
     },
     "metadata": {},
     "output_type": "display_data"
    },
    {
     "data": {
      "application/vnd.jupyter.widget-view+json": {
       "model_id": "d62b243d950043beb543aa586a0e9f54",
       "version_major": 2,
       "version_minor": 0
      },
      "text/plain": [
       "Skipping ClassFile.cls: already downloaded.: 100%|##########| 270/270 [00:00<?, ?B/s]"
      ]
     },
     "metadata": {},
     "output_type": "display_data"
    },
    {
     "data": {
      "application/vnd.jupyter.widget-view+json": {
       "model_id": "d04de43551f747c5a9e59bb04bc78c93",
       "version_major": 2,
       "version_minor": 0
      },
      "text/plain": [
       "Skipping bad.segments: already downloaded.: 0.00B [00:00, ?B/s]"
      ]
     },
     "metadata": {},
     "output_type": "display_data"
    },
    {
     "data": {
      "application/vnd.jupyter.widget-view+json": {
       "model_id": "c1d0a449a2e84a9888a20cc4880c3a13",
       "version_major": 2,
       "version_minor": 0
      },
      "text/plain": [
       "Skipping processing.cfg: already downloaded.: 100%|##########| 1.17k/1.17k [00:00<?, ?B/s]"
      ]
     },
     "metadata": {},
     "output_type": "display_data"
    },
    {
     "data": {
      "application/vnd.jupyter.widget-view+json": {
       "model_id": "75607fe83bf143a1a91ccb6d0de3a3e5",
       "version_major": 2,
       "version_minor": 0
      },
      "text/plain": [
       "Skipping sub-03_ses-01_task-WorkingMemory_run-01_meg.acq: already downloaded.: 100%|##########| 43.1k/43.1k [0…"
      ]
     },
     "metadata": {},
     "output_type": "display_data"
    },
    {
     "data": {
      "application/vnd.jupyter.widget-view+json": {
       "model_id": "63c8870540fc4430a59cc4a3c7d5d192",
       "version_major": 2,
       "version_minor": 0
      },
      "text/plain": [
       "Skipping sub-02_ses-01_task-WorkingMemory_run-01_meg.acq: already downloaded.: 100%|##########| 43.1k/43.1k [0…"
      ]
     },
     "metadata": {},
     "output_type": "display_data"
    },
    {
     "data": {
      "application/vnd.jupyter.widget-view+json": {
       "model_id": "d07f47fa8942444f9d4c031b4ad5f044",
       "version_major": 2,
       "version_minor": 0
      },
      "text/plain": [
       "Skipping sub-03_ses-01_task-WorkingMemory_run-01_meg.bak: already downloaded.: 100%|##########| 2.42k/2.42k [0…"
      ]
     },
     "metadata": {},
     "output_type": "display_data"
    },
    {
     "data": {
      "application/vnd.jupyter.widget-view+json": {
       "model_id": "00775d218f0a476d8f03c43ca3097a27",
       "version_major": 2,
       "version_minor": 0
      },
      "text/plain": [
       "Skipping sub-02_ses-01_task-WorkingMemory_run-01_meg.bak: already downloaded.: 100%|##########| 2.42k/2.42k [0…"
      ]
     },
     "metadata": {},
     "output_type": "display_data"
    },
    {
     "data": {
      "application/vnd.jupyter.widget-view+json": {
       "model_id": "cfdafe329b0d403e809f29a9c2089f3e",
       "version_major": 2,
       "version_minor": 0
      },
      "text/plain": [
       "Skipping sub-02_ses-01_task-WorkingMemory_run-01_meg.eeg: already downloaded.: 0.00B [00:00, ?B/s]"
      ]
     },
     "metadata": {},
     "output_type": "display_data"
    },
    {
     "data": {
      "application/vnd.jupyter.widget-view+json": {
       "model_id": "b2cd7cfe31e8417fb854ac083161f219",
       "version_major": 2,
       "version_minor": 0
      },
      "text/plain": [
       "Skipping sub-02_ses-01_task-WorkingMemory_run-01_meg.hc: already downloaded.: 100%|##########| 854/854 [00:00<…"
      ]
     },
     "metadata": {},
     "output_type": "display_data"
    },
    {
     "data": {
      "application/vnd.jupyter.widget-view+json": {
       "model_id": "cffd0fc4d3b245bfa8da0074d1cb9591",
       "version_major": 2,
       "version_minor": 0
      },
      "text/plain": [
       "Skipping sub-02_ses-01_task-WorkingMemory_run-01_meg.hist: already downloaded.: 100%|##########| 478/478 [00:0…"
      ]
     },
     "metadata": {},
     "output_type": "display_data"
    },
    {
     "data": {
      "application/vnd.jupyter.widget-view+json": {
       "model_id": "9b1aa586208e4070aef2c19b457811a9",
       "version_major": 2,
       "version_minor": 0
      },
      "text/plain": [
       "Skipping sub-03_ses-01_task-WorkingMemory_run-01_meg.eeg: already downloaded.: 0.00B [00:00, ?B/s]"
      ]
     },
     "metadata": {},
     "output_type": "display_data"
    },
    {
     "data": {
      "application/vnd.jupyter.widget-view+json": {
       "model_id": "3b25a70a4be94646bbbda3342a8ed0b7",
       "version_major": 2,
       "version_minor": 0
      },
      "text/plain": [
       "Skipping sub-03_ses-01_task-WorkingMemory_run-01_meg.hist: already downloaded.: 100%|##########| 478/478 [00:0…"
      ]
     },
     "metadata": {},
     "output_type": "display_data"
    },
    {
     "data": {
      "application/vnd.jupyter.widget-view+json": {
       "model_id": "90938a631d494fa5ac28ad61a32995d8",
       "version_major": 2,
       "version_minor": 0
      },
      "text/plain": [
       "Skipping sub-03_ses-01_task-WorkingMemory_run-01_meg.hc: already downloaded.: 100%|##########| 855/855 [00:00<…"
      ]
     },
     "metadata": {},
     "output_type": "display_data"
    },
    {
     "data": {
      "application/vnd.jupyter.widget-view+json": {
       "model_id": "411555da3c68479396da516a729726b7",
       "version_major": 2,
       "version_minor": 0
      },
      "text/plain": [
       "Skipping sub-03_ses-01_task-WorkingMemory_run-01_meg.infods: already downloaded.: 100%|##########| 2.42k/2.42k…"
      ]
     },
     "metadata": {},
     "output_type": "display_data"
    },
    {
     "data": {
      "application/vnd.jupyter.widget-view+json": {
       "model_id": "7c771f0cb2424e068a684c27f2891d0c",
       "version_major": 2,
       "version_minor": 0
      },
      "text/plain": [
       "Skipping sub-02_ses-01_task-WorkingMemory_run-01_meg.infods: already downloaded.: 100%|##########| 2.42k/2.42k…"
      ]
     },
     "metadata": {},
     "output_type": "display_data"
    },
    {
     "data": {
      "application/vnd.jupyter.widget-view+json": {
       "model_id": "39fef4248f8e48019552d50a3160d6c1",
       "version_major": 2,
       "version_minor": 0
      },
      "text/plain": [
       "Skipping sub-02_ses-01_task-WorkingMemory_run-01_meg.res4: already downloaded.: 100%|##########| 3.04M/3.04M […"
      ]
     },
     "metadata": {},
     "output_type": "display_data"
    },
    {
     "data": {
      "application/vnd.jupyter.widget-view+json": {
       "model_id": "8e8d1f17dd8e4cdf9b990b1848873ead",
       "version_major": 2,
       "version_minor": 0
      },
      "text/plain": [
       "Skipping sub-03_ses-01_task-WorkingMemory_run-01_meg.newds: already downloaded.: 100%|##########| 376/376 [00:…"
      ]
     },
     "metadata": {},
     "output_type": "display_data"
    },
    {
     "data": {
      "application/vnd.jupyter.widget-view+json": {
       "model_id": "49bb2cc9c7804c7f8596b413ecf94e6d",
       "version_major": 2,
       "version_minor": 0
      },
      "text/plain": [
       "Skipping BadChannels: already downloaded.: 0.00B [00:00, ?B/s]"
      ]
     },
     "metadata": {},
     "output_type": "display_data"
    },
    {
     "data": {
      "application/vnd.jupyter.widget-view+json": {
       "model_id": "a7705550090b45a68fce479a1025d6c7",
       "version_major": 2,
       "version_minor": 0
      },
      "text/plain": [
       "Skipping hz.acq: already downloaded.: 100%|##########| 35.2k/35.2k [00:00<?, ?B/s]"
      ]
     },
     "metadata": {},
     "output_type": "display_data"
    },
    {
     "data": {
      "application/vnd.jupyter.widget-view+json": {
       "model_id": "182c6eac8a814c6f9c5ceffa78614a72",
       "version_major": 2,
       "version_minor": 0
      },
      "text/plain": [
       "Skipping hz.acq: already downloaded.: 100%|##########| 35.2k/35.2k [00:00<?, ?B/s]"
      ]
     },
     "metadata": {},
     "output_type": "display_data"
    },
    {
     "data": {
      "application/vnd.jupyter.widget-view+json": {
       "model_id": "ce0ddc0fe36f4a7b972cef98d7456b8f",
       "version_major": 2,
       "version_minor": 0
      },
      "text/plain": [
       "Skipping BadChannels: already downloaded.: 0.00B [00:00, ?B/s]"
      ]
     },
     "metadata": {},
     "output_type": "display_data"
    },
    {
     "data": {
      "application/vnd.jupyter.widget-view+json": {
       "model_id": "34f2d2f62bf14ec793e0eb2dccec3a51",
       "version_major": 2,
       "version_minor": 0
      },
      "text/plain": [
       "Skipping hz.hc: already downloaded.: 100%|##########| 65.0/65.0 [00:00<?, ?B/s]"
      ]
     },
     "metadata": {},
     "output_type": "display_data"
    },
    {
     "data": {
      "application/vnd.jupyter.widget-view+json": {
       "model_id": "52b43465e58b4d5f9b28c14b2b8a06e7",
       "version_major": 2,
       "version_minor": 0
      },
      "text/plain": [
       "Skipping sub-02_ses-01_task-WorkingMemory_run-01_meg.newds: already downloaded.: 100%|##########| 376/376 [00:…"
      ]
     },
     "metadata": {},
     "output_type": "display_data"
    },
    {
     "data": {
      "application/vnd.jupyter.widget-view+json": {
       "model_id": "8e2a4fb45ae44f1eac79c05314ac5b47",
       "version_major": 2,
       "version_minor": 0
      },
      "text/plain": [
       "Skipping hz.hc: already downloaded.: 100%|##########| 65.0/65.0 [00:00<?, ?B/s]"
      ]
     },
     "metadata": {},
     "output_type": "display_data"
    },
    {
     "data": {
      "application/vnd.jupyter.widget-view+json": {
       "model_id": "2a32d60f0ff2494fad2d01fe5484196b",
       "version_major": 2,
       "version_minor": 0
      },
      "text/plain": [
       "Skipping hz.hist: already downloaded.: 100%|##########| 1.00/1.00 [00:00<?, ?B/s]"
      ]
     },
     "metadata": {},
     "output_type": "display_data"
    },
    {
     "data": {
      "application/vnd.jupyter.widget-view+json": {
       "model_id": "511dd7b1e38a44ccab9659907f6762f2",
       "version_major": 2,
       "version_minor": 0
      },
      "text/plain": [
       "Skipping hz.hist: already downloaded.: 100%|##########| 1.00/1.00 [00:00<?, ?B/s]"
      ]
     },
     "metadata": {},
     "output_type": "display_data"
    },
    {
     "data": {
      "application/vnd.jupyter.widget-view+json": {
       "model_id": "7b673c1d18964d6788caa89738bd95f5",
       "version_major": 2,
       "version_minor": 0
      },
      "text/plain": [
       "Skipping hz.infods: already downloaded.: 100%|##########| 2.24k/2.24k [00:00<?, ?B/s]"
      ]
     },
     "metadata": {},
     "output_type": "display_data"
    },
    {
     "data": {
      "application/vnd.jupyter.widget-view+json": {
       "model_id": "df538f92e3c946908872ed7e60312481",
       "version_major": 2,
       "version_minor": 0
      },
      "text/plain": [
       "Skipping hz.infods: already downloaded.: 100%|##########| 2.24k/2.24k [00:00<?, ?B/s]"
      ]
     },
     "metadata": {},
     "output_type": "display_data"
    },
    {
     "data": {
      "application/vnd.jupyter.widget-view+json": {
       "model_id": "7978877cdb214045af0086942ca3b513",
       "version_major": 2,
       "version_minor": 0
      },
      "text/plain": [
       "Skipping hz.meg4: already downloaded.: 100%|##########| 1.02M/1.02M [00:00<?, ?B/s]"
      ]
     },
     "metadata": {},
     "output_type": "display_data"
    },
    {
     "data": {
      "application/vnd.jupyter.widget-view+json": {
       "model_id": "5033dc171bb94e73ac5da9d8a5d8a562",
       "version_major": 2,
       "version_minor": 0
      },
      "text/plain": [
       "Skipping hz.meg4: already downloaded.: 100%|##########| 1.02M/1.02M [00:00<?, ?B/s]"
      ]
     },
     "metadata": {},
     "output_type": "display_data"
    },
    {
     "data": {
      "application/vnd.jupyter.widget-view+json": {
       "model_id": "a478effcbf134ad3b517a82069988459",
       "version_major": 2,
       "version_minor": 0
      },
      "text/plain": [
       "Skipping sub-03_ses-01_task-WorkingMemory_run-01_meg.res4: already downloaded.: 100%|##########| 3.04M/3.04M […"
      ]
     },
     "metadata": {},
     "output_type": "display_data"
    },
    {
     "data": {
      "application/vnd.jupyter.widget-view+json": {
       "model_id": "9b46929d35b7475fbe3a37a813ba7fa3",
       "version_major": 2,
       "version_minor": 0
      },
      "text/plain": [
       "Skipping hz.newds: already downloaded.: 100%|##########| 234/234 [00:00<?, ?B/s]"
      ]
     },
     "metadata": {},
     "output_type": "display_data"
    },
    {
     "data": {
      "application/vnd.jupyter.widget-view+json": {
       "model_id": "a135140ca4d241dd8e151233fb2aab31",
       "version_major": 2,
       "version_minor": 0
      },
      "text/plain": [
       "Skipping hz.newds: already downloaded.: 100%|##########| 234/234 [00:00<?, ?B/s]"
      ]
     },
     "metadata": {},
     "output_type": "display_data"
    },
    {
     "data": {
      "application/vnd.jupyter.widget-view+json": {
       "model_id": "041afb18f72f43bdbe084a5cbb374ed5",
       "version_major": 2,
       "version_minor": 0
      },
      "text/plain": [
       "Skipping BadChannels: already downloaded.: 0.00B [00:00, ?B/s]"
      ]
     },
     "metadata": {},
     "output_type": "display_data"
    },
    {
     "data": {
      "application/vnd.jupyter.widget-view+json": {
       "model_id": "05e2a2be09384a389e4edc7e41ccfe6b",
       "version_major": 2,
       "version_minor": 0
      },
      "text/plain": [
       "Skipping hz2.acq: already downloaded.: 100%|##########| 35.2k/35.2k [00:00<?, ?B/s]"
      ]
     },
     "metadata": {},
     "output_type": "display_data"
    },
    {
     "data": {
      "application/vnd.jupyter.widget-view+json": {
       "model_id": "1f5b3a98e708486ab0c6764b17f1fc2f",
       "version_major": 2,
       "version_minor": 0
      },
      "text/plain": [
       "Skipping BadChannels: already downloaded.: 0.00B [00:00, ?B/s]"
      ]
     },
     "metadata": {},
     "output_type": "display_data"
    },
    {
     "data": {
      "application/vnd.jupyter.widget-view+json": {
       "model_id": "2e94b3217b9a47aa836b82e152f87ec0",
       "version_major": 2,
       "version_minor": 0
      },
      "text/plain": [
       "Skipping hz.res4: already downloaded.: 100%|##########| 2.95M/2.95M [00:00<?, ?B/s]"
      ]
     },
     "metadata": {},
     "output_type": "display_data"
    },
    {
     "data": {
      "application/vnd.jupyter.widget-view+json": {
       "model_id": "5f1bca8064154d7a8cf4f38ce44103a9",
       "version_major": 2,
       "version_minor": 0
      },
      "text/plain": [
       "Skipping hz.res4: already downloaded.: 100%|##########| 2.95M/2.95M [00:00<?, ?B/s]"
      ]
     },
     "metadata": {},
     "output_type": "display_data"
    },
    {
     "data": {
      "application/vnd.jupyter.widget-view+json": {
       "model_id": "187ea0af83f24ceea00c892c8c3fc0f0",
       "version_major": 2,
       "version_minor": 0
      },
      "text/plain": [
       "Skipping hz2.acq: already downloaded.: 100%|##########| 35.2k/35.2k [00:00<?, ?B/s]"
      ]
     },
     "metadata": {},
     "output_type": "display_data"
    },
    {
     "data": {
      "application/vnd.jupyter.widget-view+json": {
       "model_id": "4fd50a585ffc49b687ef8fbf7b2602ff",
       "version_major": 2,
       "version_minor": 0
      },
      "text/plain": [
       "Skipping hz2.hc: already downloaded.: 100%|##########| 65.0/65.0 [00:00<?, ?B/s]"
      ]
     },
     "metadata": {},
     "output_type": "display_data"
    },
    {
     "data": {
      "application/vnd.jupyter.widget-view+json": {
       "model_id": "6eb90cc6b1fa43cdbcea157164ac5057",
       "version_major": 2,
       "version_minor": 0
      },
      "text/plain": [
       "Skipping hz2.hc: already downloaded.: 100%|##########| 65.0/65.0 [00:00<?, ?B/s]"
      ]
     },
     "metadata": {},
     "output_type": "display_data"
    },
    {
     "data": {
      "application/vnd.jupyter.widget-view+json": {
       "model_id": "77b8b21ef53144599807ddca75a6e8d2",
       "version_major": 2,
       "version_minor": 0
      },
      "text/plain": [
       "Skipping hz2.hist: already downloaded.: 100%|##########| 1.00/1.00 [00:00<?, ?B/s]"
      ]
     },
     "metadata": {},
     "output_type": "display_data"
    },
    {
     "data": {
      "application/vnd.jupyter.widget-view+json": {
       "model_id": "e857c25b72fa4ba69fb8a30cdf0f787b",
       "version_major": 2,
       "version_minor": 0
      },
      "text/plain": [
       "Skipping hz2.hist: already downloaded.: 100%|##########| 1.00/1.00 [00:00<?, ?B/s]"
      ]
     },
     "metadata": {},
     "output_type": "display_data"
    },
    {
     "data": {
      "application/vnd.jupyter.widget-view+json": {
       "model_id": "f9c13a21e7754de98f1cc86dfadb2c03",
       "version_major": 2,
       "version_minor": 0
      },
      "text/plain": [
       "Skipping sub-03_ses-01_task-WorkingMemory_run-01_meg.meg4: already downloaded.: 100%|##########| 400M/400M [00…"
      ]
     },
     "metadata": {},
     "output_type": "display_data"
    },
    {
     "data": {
      "application/vnd.jupyter.widget-view+json": {
       "model_id": "585cf258650243329320e484fb333b39",
       "version_major": 2,
       "version_minor": 0
      },
      "text/plain": [
       "Skipping hz2.newds: already downloaded.: 100%|##########| 234/234 [00:00<?, ?B/s]"
      ]
     },
     "metadata": {},
     "output_type": "display_data"
    },
    {
     "data": {
      "application/vnd.jupyter.widget-view+json": {
       "model_id": "2f2f367c0b4c42dd9d0cb3261796f4a5",
       "version_major": 2,
       "version_minor": 0
      },
      "text/plain": [
       "Skipping hz2.meg4: already downloaded.: 100%|##########| 1.02M/1.02M [00:00<?, ?B/s]"
      ]
     },
     "metadata": {},
     "output_type": "display_data"
    },
    {
     "data": {
      "application/vnd.jupyter.widget-view+json": {
       "model_id": "666c273c4eb1431895fedd2347c2b264",
       "version_major": 2,
       "version_minor": 0
      },
      "text/plain": [
       "Skipping hz2.infods: already downloaded.: 100%|##########| 2.24k/2.24k [00:00<?, ?B/s]"
      ]
     },
     "metadata": {},
     "output_type": "display_data"
    },
    {
     "data": {
      "application/vnd.jupyter.widget-view+json": {
       "model_id": "e8a8a490a9bb43f0b12a648b99d44688",
       "version_major": 2,
       "version_minor": 0
      },
      "text/plain": [
       "Skipping hz2.newds: already downloaded.: 100%|##########| 234/234 [00:00<?, ?B/s]"
      ]
     },
     "metadata": {},
     "output_type": "display_data"
    },
    {
     "data": {
      "application/vnd.jupyter.widget-view+json": {
       "model_id": "570eaf4ed71f47779f19a21d9425ae12",
       "version_major": 2,
       "version_minor": 0
      },
      "text/plain": [
       "Skipping ClassFile.cls: already downloaded.: 100%|##########| 270/270 [00:00<?, ?B/s]"
      ]
     },
     "metadata": {},
     "output_type": "display_data"
    },
    {
     "data": {
      "application/vnd.jupyter.widget-view+json": {
       "model_id": "ce96ccda0e1849eb9e614b8b285d4fb6",
       "version_major": 2,
       "version_minor": 0
      },
      "text/plain": [
       "Skipping ChannelGroupSet.cfg: already downloaded.: 100%|##########| 2.05k/2.05k [00:00<?, ?B/s]"
      ]
     },
     "metadata": {},
     "output_type": "display_data"
    },
    {
     "data": {
      "application/vnd.jupyter.widget-view+json": {
       "model_id": "83d936e216734a76a2828007fcab21b7",
       "version_major": 2,
       "version_minor": 0
      },
      "text/plain": [
       "Skipping ChannelGroupSet.cfg: already downloaded.: 100%|##########| 2.05k/2.05k [00:00<?, ?B/s]"
      ]
     },
     "metadata": {},
     "output_type": "display_data"
    },
    {
     "data": {
      "application/vnd.jupyter.widget-view+json": {
       "model_id": "5f6aaf1ffcd54c47a8ccacc8c3b9817b",
       "version_major": 2,
       "version_minor": 0
      },
      "text/plain": [
       "Skipping hz2.res4: already downloaded.: 100%|##########| 2.95M/2.95M [00:00<?, ?B/s]"
      ]
     },
     "metadata": {},
     "output_type": "display_data"
    },
    {
     "data": {
      "application/vnd.jupyter.widget-view+json": {
       "model_id": "bacf2c73e463473d9a6fc1a8460acca7",
       "version_major": 2,
       "version_minor": 0
      },
      "text/plain": [
       "Skipping hz2.res4: already downloaded.: 100%|##########| 2.95M/2.95M [00:00<?, ?B/s]"
      ]
     },
     "metadata": {},
     "output_type": "display_data"
    },
    {
     "data": {
      "application/vnd.jupyter.widget-view+json": {
       "model_id": "0175e9e9b990470eb7de9a08917756f2",
       "version_major": 2,
       "version_minor": 0
      },
      "text/plain": [
       "Skipping MarkerFile.mrk: already downloaded.: 100%|##########| 9.11k/9.11k [00:00<?, ?B/s]"
      ]
     },
     "metadata": {},
     "output_type": "display_data"
    },
    {
     "data": {
      "application/vnd.jupyter.widget-view+json": {
       "model_id": "8c3688be0fcb4ea1b6619fb8087262cf",
       "version_major": 2,
       "version_minor": 0
      },
      "text/plain": [
       "Skipping MarkerFile.mrk: already downloaded.: 100%|##########| 10.2k/10.2k [00:00<?, ?B/s]"
      ]
     },
     "metadata": {},
     "output_type": "display_data"
    },
    {
     "data": {
      "application/vnd.jupyter.widget-view+json": {
       "model_id": "8c50ac93707646b8827cb353f664486c",
       "version_major": 2,
       "version_minor": 0
      },
      "text/plain": [
       "Skipping bad.segments: already downloaded.: 0.00B [00:00, ?B/s]"
      ]
     },
     "metadata": {},
     "output_type": "display_data"
    },
    {
     "data": {
      "application/vnd.jupyter.widget-view+json": {
       "model_id": "eceecc1c9319445bbd8612ab222c42c8",
       "version_major": 2,
       "version_minor": 0
      },
      "text/plain": [
       "Skipping ClassFile.cls: already downloaded.: 100%|##########| 270/270 [00:00<?, ?B/s]"
      ]
     },
     "metadata": {},
     "output_type": "display_data"
    },
    {
     "data": {
      "application/vnd.jupyter.widget-view+json": {
       "model_id": "00f82051fb404dcba53cf4c3d778f070",
       "version_major": 2,
       "version_minor": 0
      },
      "text/plain": [
       "Skipping sub-02_ses-01_task-WorkingMemory_run-02_meg.acq: already downloaded.: 100%|##########| 43.1k/43.1k [0…"
      ]
     },
     "metadata": {},
     "output_type": "display_data"
    },
    {
     "data": {
      "application/vnd.jupyter.widget-view+json": {
       "model_id": "63e8da233f7f4c3da41cabaa6220be06",
       "version_major": 2,
       "version_minor": 0
      },
      "text/plain": [
       "Skipping bad.segments: already downloaded.: 0.00B [00:00, ?B/s]"
      ]
     },
     "metadata": {},
     "output_type": "display_data"
    },
    {
     "data": {
      "application/vnd.jupyter.widget-view+json": {
       "model_id": "ca8fd9d849af4e779a10192c6a7f292d",
       "version_major": 2,
       "version_minor": 0
      },
      "text/plain": [
       "Skipping sub-03_ses-01_task-WorkingMemory_run-02_meg.acq: already downloaded.: 100%|##########| 43.1k/43.1k [0…"
      ]
     },
     "metadata": {},
     "output_type": "display_data"
    },
    {
     "data": {
      "application/vnd.jupyter.widget-view+json": {
       "model_id": "536a69e51ff94667a46da0a10789ab1a",
       "version_major": 2,
       "version_minor": 0
      },
      "text/plain": [
       "Skipping processing.cfg: already downloaded.: 100%|##########| 1.17k/1.17k [00:00<?, ?B/s]"
      ]
     },
     "metadata": {},
     "output_type": "display_data"
    },
    {
     "data": {
      "application/vnd.jupyter.widget-view+json": {
       "model_id": "f637a41347c1442ab30bd10d42f6496c",
       "version_major": 2,
       "version_minor": 0
      },
      "text/plain": [
       "Skipping hz2.infods: already downloaded.: 100%|##########| 2.24k/2.24k [00:00<?, ?B/s]"
      ]
     },
     "metadata": {},
     "output_type": "display_data"
    },
    {
     "data": {
      "application/vnd.jupyter.widget-view+json": {
       "model_id": "dedd93f7bab14c089985f66f8b059687",
       "version_major": 2,
       "version_minor": 0
      },
      "text/plain": [
       "Skipping sub-02_ses-01_task-WorkingMemory_run-02_meg.eeg: already downloaded.: 0.00B [00:00, ?B/s]"
      ]
     },
     "metadata": {},
     "output_type": "display_data"
    },
    {
     "data": {
      "application/vnd.jupyter.widget-view+json": {
       "model_id": "a90be764fe164238b2867ab8867fd127",
       "version_major": 2,
       "version_minor": 0
      },
      "text/plain": [
       "Skipping sub-03_ses-01_task-WorkingMemory_run-02_meg.eeg: already downloaded.: 0.00B [00:00, ?B/s]"
      ]
     },
     "metadata": {},
     "output_type": "display_data"
    },
    {
     "data": {
      "application/vnd.jupyter.widget-view+json": {
       "model_id": "a2633e91f219475cbdf1e68a8be8293e",
       "version_major": 2,
       "version_minor": 0
      },
      "text/plain": [
       "Skipping sub-03_ses-01_task-WorkingMemory_run-02_meg.bak: already downloaded.: 100%|##########| 2.42k/2.42k [0…"
      ]
     },
     "metadata": {},
     "output_type": "display_data"
    },
    {
     "data": {
      "application/vnd.jupyter.widget-view+json": {
       "model_id": "671735b2ba7d4f8dade9a3bef5140d4e",
       "version_major": 2,
       "version_minor": 0
      },
      "text/plain": [
       "Skipping sub-02_ses-01_task-WorkingMemory_run-02_meg.bak: already downloaded.: 100%|##########| 2.42k/2.42k [0…"
      ]
     },
     "metadata": {},
     "output_type": "display_data"
    },
    {
     "data": {
      "application/vnd.jupyter.widget-view+json": {
       "model_id": "18a258cd929040cd9c3ac65555e7e4a9",
       "version_major": 2,
       "version_minor": 0
      },
      "text/plain": [
       "Skipping hz2.meg4: already downloaded.: 100%|##########| 1.02M/1.02M [00:00<?, ?B/s]"
      ]
     },
     "metadata": {},
     "output_type": "display_data"
    },
    {
     "data": {
      "application/vnd.jupyter.widget-view+json": {
       "model_id": "001da486875c4b60a0be11ffa75f2bcb",
       "version_major": 2,
       "version_minor": 0
      },
      "text/plain": [
       "Skipping sub-03_ses-01_task-WorkingMemory_run-02_meg.hist: already downloaded.: 100%|##########| 478/478 [00:0…"
      ]
     },
     "metadata": {},
     "output_type": "display_data"
    },
    {
     "data": {
      "application/vnd.jupyter.widget-view+json": {
       "model_id": "df19501c343f4bb3824422314d01a46f",
       "version_major": 2,
       "version_minor": 0
      },
      "text/plain": [
       "Skipping sub-02_ses-01_task-WorkingMemory_run-02_meg.hc: already downloaded.: 100%|##########| 866/866 [00:00<…"
      ]
     },
     "metadata": {},
     "output_type": "display_data"
    },
    {
     "data": {
      "application/vnd.jupyter.widget-view+json": {
       "model_id": "8f92275c87524705a7da24dbbfcb7db2",
       "version_major": 2,
       "version_minor": 0
      },
      "text/plain": [
       "Skipping sub-02_ses-01_task-WorkingMemory_run-02_meg.hist: already downloaded.: 100%|##########| 478/478 [00:0…"
      ]
     },
     "metadata": {},
     "output_type": "display_data"
    },
    {
     "name": "stdout",
     "output_type": "stream",
     "text": [
      "<Task pending name='Task-166' coro=<_download_file() running at /Users/cheylus/.virtualenvs/py311-mne_septembre/lib/python3.11/site-packages/openneuro/_download.py:280> wait_for=<Future pending cb=[Task.task_wakeup()]> cb=[gather.<locals>._done_callback() at /usr/local/Cellar/python@3.11/3.11.4_1/Frameworks/Python.framework/Versions/3.11/lib/python3.11/asyncio/tasks.py:754]>\n"
     ]
    },
    {
     "data": {
      "application/vnd.jupyter.widget-view+json": {
       "model_id": "c7a2a56e91db441c84d49637dcb3fbf3",
       "version_major": 2,
       "version_minor": 0
      },
      "text/plain": [
       "Skipping sub-03_ses-01_task-WorkingMemory_run-02_meg.hc: already downloaded.: 100%|##########| 854/854 [00:00<…"
      ]
     },
     "metadata": {},
     "output_type": "display_data"
    },
    {
     "data": {
      "application/vnd.jupyter.widget-view+json": {
       "model_id": "60ea9c57ffce47f5921e6d32cc751c37",
       "version_major": 2,
       "version_minor": 0
      },
      "text/plain": [
       "Skipping sub-02_ses-01_task-WorkingMemory_run-02_meg.infods: already downloaded.: 100%|##########| 2.42k/2.42k…"
      ]
     },
     "metadata": {},
     "output_type": "display_data"
    },
    {
     "data": {
      "application/vnd.jupyter.widget-view+json": {
       "model_id": "79962c8a6d5c46288fa47b905d27bf85",
       "version_major": 2,
       "version_minor": 0
      },
      "text/plain": [
       "Skipping sub-03_ses-01_task-WorkingMemory_run-02_meg.infods: already downloaded.: 100%|##########| 2.42k/2.42k…"
      ]
     },
     "metadata": {},
     "output_type": "display_data"
    },
    {
     "data": {
      "application/vnd.jupyter.widget-view+json": {
       "model_id": "86212c217d5d4f419703df9277c5ad42",
       "version_major": 2,
       "version_minor": 0
      },
      "text/plain": [
       "Skipping sub-02_ses-01_task-WorkingMemory_run-02_meg.newds: already downloaded.: 100%|##########| 376/376 [00:…"
      ]
     },
     "metadata": {},
     "output_type": "display_data"
    },
    {
     "data": {
      "application/vnd.jupyter.widget-view+json": {
       "model_id": "143b24d71dc44930b975225a5601ede9",
       "version_major": 2,
       "version_minor": 0
      },
      "text/plain": [
       "Skipping sub-03_ses-01_task-WorkingMemory_run-02_meg.newds: already downloaded.: 100%|##########| 376/376 [00:…"
      ]
     },
     "metadata": {},
     "output_type": "display_data"
    },
    {
     "data": {
      "application/vnd.jupyter.widget-view+json": {
       "model_id": "d5050abb2ada4e46a28648ebe29630d3",
       "version_major": 2,
       "version_minor": 0
      },
      "text/plain": [
       "Skipping BadChannels: already downloaded.: 0.00B [00:00, ?B/s]"
      ]
     },
     "metadata": {},
     "output_type": "display_data"
    },
    {
     "data": {
      "application/vnd.jupyter.widget-view+json": {
       "model_id": "59f2061ec485490d9731cdb903e6b73f",
       "version_major": 2,
       "version_minor": 0
      },
      "text/plain": [
       "Skipping BadChannels: already downloaded.: 0.00B [00:00, ?B/s]"
      ]
     },
     "metadata": {},
     "output_type": "display_data"
    },
    {
     "data": {
      "application/vnd.jupyter.widget-view+json": {
       "model_id": "59ab828a5d804b6286b9739bc09c5d2d",
       "version_major": 2,
       "version_minor": 0
      },
      "text/plain": [
       "Skipping hz.acq: already downloaded.: 100%|##########| 35.2k/35.2k [00:00<?, ?B/s]"
      ]
     },
     "metadata": {},
     "output_type": "display_data"
    },
    {
     "data": {
      "application/vnd.jupyter.widget-view+json": {
       "model_id": "6961a32b0aad48839d3887bb241ffb2e",
       "version_major": 2,
       "version_minor": 0
      },
      "text/plain": [
       "Skipping sub-02_ses-01_task-WorkingMemory_run-02_meg.res4: already downloaded.: 100%|##########| 3.04M/3.04M […"
      ]
     },
     "metadata": {},
     "output_type": "display_data"
    },
    {
     "data": {
      "application/vnd.jupyter.widget-view+json": {
       "model_id": "61a54d4e0c0a4261bad8dbfe51cfc0b5",
       "version_major": 2,
       "version_minor": 0
      },
      "text/plain": [
       "Skipping sub-03_ses-01_task-WorkingMemory_run-02_meg.res4: already downloaded.: 100%|##########| 3.04M/3.04M […"
      ]
     },
     "metadata": {},
     "output_type": "display_data"
    },
    {
     "data": {
      "application/vnd.jupyter.widget-view+json": {
       "model_id": "d882dd714cb0417497fbaf43677f76d3",
       "version_major": 2,
       "version_minor": 0
      },
      "text/plain": [
       "Skipping hz.acq: already downloaded.: 100%|##########| 35.2k/35.2k [00:00<?, ?B/s]"
      ]
     },
     "metadata": {},
     "output_type": "display_data"
    },
    {
     "data": {
      "application/vnd.jupyter.widget-view+json": {
       "model_id": "d1d66d00623b47d88841e10999676270",
       "version_major": 2,
       "version_minor": 0
      },
      "text/plain": [
       "Skipping hz.hc: already downloaded.: 100%|##########| 65.0/65.0 [00:00<?, ?B/s]"
      ]
     },
     "metadata": {},
     "output_type": "display_data"
    },
    {
     "data": {
      "application/vnd.jupyter.widget-view+json": {
       "model_id": "80ddc85f75cb44e6824591b15650ff32",
       "version_major": 2,
       "version_minor": 0
      },
      "text/plain": [
       "Skipping hz.hc: already downloaded.: 100%|##########| 65.0/65.0 [00:00<?, ?B/s]"
      ]
     },
     "metadata": {},
     "output_type": "display_data"
    },
    {
     "data": {
      "application/vnd.jupyter.widget-view+json": {
       "model_id": "8b95e1dbd4f64a1b91b0b4ffe8dd7f7b",
       "version_major": 2,
       "version_minor": 0
      },
      "text/plain": [
       "Skipping hz.hist: already downloaded.: 100%|##########| 1.00/1.00 [00:00<?, ?B/s]"
      ]
     },
     "metadata": {},
     "output_type": "display_data"
    },
    {
     "data": {
      "application/vnd.jupyter.widget-view+json": {
       "model_id": "04a6c7526aea4d8db6efebef7f74ee4f",
       "version_major": 2,
       "version_minor": 0
      },
      "text/plain": [
       "Skipping hz.hist: already downloaded.: 100%|##########| 1.00/1.00 [00:00<?, ?B/s]"
      ]
     },
     "metadata": {},
     "output_type": "display_data"
    },
    {
     "data": {
      "application/vnd.jupyter.widget-view+json": {
       "model_id": "1cb40aae2ede4ae4957a6aa1c3947085",
       "version_major": 2,
       "version_minor": 0
      },
      "text/plain": [
       "Skipping hz.infods: already downloaded.: 100%|##########| 2.24k/2.24k [00:00<?, ?B/s]"
      ]
     },
     "metadata": {},
     "output_type": "display_data"
    },
    {
     "data": {
      "application/vnd.jupyter.widget-view+json": {
       "model_id": "b85ccc5c137d4b3190650b781df94090",
       "version_major": 2,
       "version_minor": 0
      },
      "text/plain": [
       "Skipping hz.infods: already downloaded.: 100%|##########| 2.24k/2.24k [00:00<?, ?B/s]"
      ]
     },
     "metadata": {},
     "output_type": "display_data"
    },
    {
     "data": {
      "application/vnd.jupyter.widget-view+json": {
       "model_id": "07008afb8bd74efa9093acf6194605b7",
       "version_major": 2,
       "version_minor": 0
      },
      "text/plain": [
       "Skipping hz.meg4: already downloaded.: 100%|##########| 1.02M/1.02M [00:00<?, ?B/s]"
      ]
     },
     "metadata": {},
     "output_type": "display_data"
    },
    {
     "data": {
      "application/vnd.jupyter.widget-view+json": {
       "model_id": "7d34b848ea4b401b95a4c576048c4819",
       "version_major": 2,
       "version_minor": 0
      },
      "text/plain": [
       "Skipping hz.newds: already downloaded.: 100%|##########| 234/234 [00:00<?, ?B/s]"
      ]
     },
     "metadata": {},
     "output_type": "display_data"
    },
    {
     "data": {
      "application/vnd.jupyter.widget-view+json": {
       "model_id": "9920426558a54dae8b63359e3cc63a49",
       "version_major": 2,
       "version_minor": 0
      },
      "text/plain": [
       "Skipping hz.meg4: already downloaded.: 100%|##########| 1.02M/1.02M [00:00<?, ?B/s]"
      ]
     },
     "metadata": {},
     "output_type": "display_data"
    },
    {
     "data": {
      "application/vnd.jupyter.widget-view+json": {
       "model_id": "c1689088cf864ebdbd01925245d5b6d1",
       "version_major": 2,
       "version_minor": 0
      },
      "text/plain": [
       "Skipping hz.newds: already downloaded.: 100%|##########| 234/234 [00:00<?, ?B/s]"
      ]
     },
     "metadata": {},
     "output_type": "display_data"
    },
    {
     "data": {
      "application/vnd.jupyter.widget-view+json": {
       "model_id": "0cbe8e34011744e4aa6551e8481aed41",
       "version_major": 2,
       "version_minor": 0
      },
      "text/plain": [
       "Skipping BadChannels: already downloaded.: 0.00B [00:00, ?B/s]"
      ]
     },
     "metadata": {},
     "output_type": "display_data"
    },
    {
     "data": {
      "application/vnd.jupyter.widget-view+json": {
       "model_id": "4f66995df1b84e8395ea7758676c29f9",
       "version_major": 2,
       "version_minor": 0
      },
      "text/plain": [
       "Skipping BadChannels: already downloaded.: 0.00B [00:00, ?B/s]"
      ]
     },
     "metadata": {},
     "output_type": "display_data"
    },
    {
     "data": {
      "application/vnd.jupyter.widget-view+json": {
       "model_id": "81c35ec90b3c48c198d3979b509216e3",
       "version_major": 2,
       "version_minor": 0
      },
      "text/plain": [
       "Skipping hz2.acq: already downloaded.: 100%|##########| 35.2k/35.2k [00:00<?, ?B/s]"
      ]
     },
     "metadata": {},
     "output_type": "display_data"
    },
    {
     "data": {
      "application/vnd.jupyter.widget-view+json": {
       "model_id": "0cb65251d4334cdeaeba37aab5e255f8",
       "version_major": 2,
       "version_minor": 0
      },
      "text/plain": [
       "Skipping hz2.acq: already downloaded.: 100%|##########| 35.2k/35.2k [00:00<?, ?B/s]"
      ]
     },
     "metadata": {},
     "output_type": "display_data"
    },
    {
     "data": {
      "application/vnd.jupyter.widget-view+json": {
       "model_id": "f6130ba318f346a8a266f41844fc9f03",
       "version_major": 2,
       "version_minor": 0
      },
      "text/plain": [
       "Skipping hz2.hc: already downloaded.: 100%|##########| 65.0/65.0 [00:00<?, ?B/s]"
      ]
     },
     "metadata": {},
     "output_type": "display_data"
    },
    {
     "data": {
      "application/vnd.jupyter.widget-view+json": {
       "model_id": "d6761adce02445ad9eb6b0536a3b121f",
       "version_major": 2,
       "version_minor": 0
      },
      "text/plain": [
       "Skipping hz2.hc: already downloaded.: 100%|##########| 65.0/65.0 [00:00<?, ?B/s]"
      ]
     },
     "metadata": {},
     "output_type": "display_data"
    },
    {
     "data": {
      "application/vnd.jupyter.widget-view+json": {
       "model_id": "205a8200c6e047d6bc17bfde4c42c33a",
       "version_major": 2,
       "version_minor": 0
      },
      "text/plain": [
       "Skipping hz.res4: already downloaded.: 100%|##########| 2.95M/2.95M [00:00<?, ?B/s]"
      ]
     },
     "metadata": {},
     "output_type": "display_data"
    },
    {
     "data": {
      "application/vnd.jupyter.widget-view+json": {
       "model_id": "5de24e4a413d42b1ae3c1c30f678f19b",
       "version_major": 2,
       "version_minor": 0
      },
      "text/plain": [
       "Skipping hz.res4: already downloaded.: 100%|##########| 2.95M/2.95M [00:00<?, ?B/s]"
      ]
     },
     "metadata": {},
     "output_type": "display_data"
    },
    {
     "data": {
      "application/vnd.jupyter.widget-view+json": {
       "model_id": "e6351c26d3af4767bed6f1a36184311c",
       "version_major": 2,
       "version_minor": 0
      },
      "text/plain": [
       "Skipping hz2.hist: already downloaded.: 100%|##########| 1.00/1.00 [00:00<?, ?B/s]"
      ]
     },
     "metadata": {},
     "output_type": "display_data"
    },
    {
     "data": {
      "application/vnd.jupyter.widget-view+json": {
       "model_id": "d76c1679fc25448885da5bca5eb7fe13",
       "version_major": 2,
       "version_minor": 0
      },
      "text/plain": [
       "Skipping hz2.hist: already downloaded.: 100%|##########| 1.00/1.00 [00:00<?, ?B/s]"
      ]
     },
     "metadata": {},
     "output_type": "display_data"
    },
    {
     "data": {
      "application/vnd.jupyter.widget-view+json": {
       "model_id": "d5b6d2460a8f4af2b9d7294b9442080e",
       "version_major": 2,
       "version_minor": 0
      },
      "text/plain": [
       "Skipping hz2.infods: already downloaded.: 100%|##########| 2.24k/2.24k [00:00<?, ?B/s]"
      ]
     },
     "metadata": {},
     "output_type": "display_data"
    },
    {
     "data": {
      "application/vnd.jupyter.widget-view+json": {
       "model_id": "4b74fcdf23534cbe999edca243fe98ad",
       "version_major": 2,
       "version_minor": 0
      },
      "text/plain": [
       "Skipping hz2.meg4: already downloaded.: 100%|##########| 1.02M/1.02M [00:00<?, ?B/s]"
      ]
     },
     "metadata": {},
     "output_type": "display_data"
    },
    {
     "data": {
      "application/vnd.jupyter.widget-view+json": {
       "model_id": "d75b5884b9d346699fa3a238b83a6770",
       "version_major": 2,
       "version_minor": 0
      },
      "text/plain": [
       "Skipping hz2.infods: already downloaded.: 100%|##########| 2.24k/2.24k [00:00<?, ?B/s]"
      ]
     },
     "metadata": {},
     "output_type": "display_data"
    },
    {
     "data": {
      "application/vnd.jupyter.widget-view+json": {
       "model_id": "9b98370acdc44661a0520ba052205ace",
       "version_major": 2,
       "version_minor": 0
      },
      "text/plain": [
       "Skipping hz2.newds: already downloaded.: 100%|##########| 234/234 [00:00<?, ?B/s]"
      ]
     },
     "metadata": {},
     "output_type": "display_data"
    },
    {
     "data": {
      "application/vnd.jupyter.widget-view+json": {
       "model_id": "1524bb997205419db256d453d74cb0aa",
       "version_major": 2,
       "version_minor": 0
      },
      "text/plain": [
       "Skipping hz2.newds: already downloaded.: 100%|##########| 234/234 [00:00<?, ?B/s]"
      ]
     },
     "metadata": {},
     "output_type": "display_data"
    },
    {
     "data": {
      "application/vnd.jupyter.widget-view+json": {
       "model_id": "39b4ebb1da7e4821878c24cf73b4bf7e",
       "version_major": 2,
       "version_minor": 0
      },
      "text/plain": [
       "Skipping hz2.meg4: already downloaded.: 100%|##########| 1.02M/1.02M [00:00<?, ?B/s]"
      ]
     },
     "metadata": {},
     "output_type": "display_data"
    },
    {
     "data": {
      "application/vnd.jupyter.widget-view+json": {
       "model_id": "e0c89be5f00c4a8e9c17cc93762abac3",
       "version_major": 2,
       "version_minor": 0
      },
      "text/plain": [
       "Skipping hz2.res4: already downloaded.: 100%|##########| 2.95M/2.95M [00:00<?, ?B/s]"
      ]
     },
     "metadata": {},
     "output_type": "display_data"
    },
    {
     "data": {
      "application/vnd.jupyter.widget-view+json": {
       "model_id": "4a3abdf8c4f346a98a376f24ea79f21d",
       "version_major": 2,
       "version_minor": 0
      },
      "text/plain": [
       "Skipping hz2.res4: already downloaded.: 100%|##########| 2.95M/2.95M [00:00<?, ?B/s]"
      ]
     },
     "metadata": {},
     "output_type": "display_data"
    },
    {
     "data": {
      "application/vnd.jupyter.widget-view+json": {
       "model_id": "67abea38b85c4e18bbc394cc3422da8d",
       "version_major": 2,
       "version_minor": 0
      },
      "text/plain": [
       "Skipping ChannelGroupSet.cfg: already downloaded.: 100%|##########| 2.05k/2.05k [00:00<?, ?B/s]"
      ]
     },
     "metadata": {},
     "output_type": "display_data"
    },
    {
     "data": {
      "application/vnd.jupyter.widget-view+json": {
       "model_id": "d6b23c5aa4ae4873a45c5739e8cad31a",
       "version_major": 2,
       "version_minor": 0
      },
      "text/plain": [
       "Skipping ClassFile.cls: already downloaded.: 100%|##########| 270/270 [00:00<?, ?B/s]"
      ]
     },
     "metadata": {},
     "output_type": "display_data"
    },
    {
     "data": {
      "application/vnd.jupyter.widget-view+json": {
       "model_id": "75c46d34929d4214b68597807769d1c0",
       "version_major": 2,
       "version_minor": 0
      },
      "text/plain": [
       "Skipping MarkerFile.mrk: already downloaded.: 100%|##########| 9.55k/9.55k [00:00<?, ?B/s]"
      ]
     },
     "metadata": {},
     "output_type": "display_data"
    },
    {
     "data": {
      "application/vnd.jupyter.widget-view+json": {
       "model_id": "8f6f5ed2b7b94d54b2ff3e3f124aa432",
       "version_major": 2,
       "version_minor": 0
      },
      "text/plain": [
       "Skipping ChannelGroupSet.cfg: already downloaded.: 100%|##########| 2.05k/2.05k [00:00<?, ?B/s]"
      ]
     },
     "metadata": {},
     "output_type": "display_data"
    },
    {
     "data": {
      "application/vnd.jupyter.widget-view+json": {
       "model_id": "bacc0761ae654b8fb6e7983ffa25f68e",
       "version_major": 2,
       "version_minor": 0
      },
      "text/plain": [
       "Skipping ClassFile.cls: already downloaded.: 100%|##########| 270/270 [00:00<?, ?B/s]"
      ]
     },
     "metadata": {},
     "output_type": "display_data"
    },
    {
     "data": {
      "application/vnd.jupyter.widget-view+json": {
       "model_id": "43f490d282724202be7cb17e08cf00ed",
       "version_major": 2,
       "version_minor": 0
      },
      "text/plain": [
       "Skipping MarkerFile.mrk: already downloaded.: 100%|##########| 10.7k/10.7k [00:00<?, ?B/s]"
      ]
     },
     "metadata": {},
     "output_type": "display_data"
    },
    {
     "data": {
      "application/vnd.jupyter.widget-view+json": {
       "model_id": "440c2b92185c4c10bc340b292d1e2457",
       "version_major": 2,
       "version_minor": 0
      },
      "text/plain": [
       "Skipping bad.segments: already downloaded.: 0.00B [00:00, ?B/s]"
      ]
     },
     "metadata": {},
     "output_type": "display_data"
    },
    {
     "data": {
      "application/vnd.jupyter.widget-view+json": {
       "model_id": "c009ae1eb2d94953afae566afec4f395",
       "version_major": 2,
       "version_minor": 0
      },
      "text/plain": [
       "Skipping bad.segments: already downloaded.: 0.00B [00:00, ?B/s]"
      ]
     },
     "metadata": {},
     "output_type": "display_data"
    },
    {
     "data": {
      "application/vnd.jupyter.widget-view+json": {
       "model_id": "a7de2f5856c846ba8dc9cd5801dd7058",
       "version_major": 2,
       "version_minor": 0
      },
      "text/plain": [
       "Skipping sub-02_ses-01_task-WorkingMemory_run-01_meg.meg4: already downloaded.: 100%|##########| 592M/592M [00…"
      ]
     },
     "metadata": {},
     "output_type": "display_data"
    },
    {
     "data": {
      "application/vnd.jupyter.widget-view+json": {
       "model_id": "46f6323a3ec049139e37b88b099a907a",
       "version_major": 2,
       "version_minor": 0
      },
      "text/plain": [
       "Skipping sub-02_ses-01_task-WorkingMemory_run-03_meg.bak: already downloaded.: 100%|##########| 2.42k/2.42k [0…"
      ]
     },
     "metadata": {},
     "output_type": "display_data"
    },
    {
     "data": {
      "application/vnd.jupyter.widget-view+json": {
       "model_id": "2c48ccafd5d84dc4a719bae2ed486033",
       "version_major": 2,
       "version_minor": 0
      },
      "text/plain": [
       "Skipping sub-02_ses-01_task-WorkingMemory_run-03_meg.acq: already downloaded.: 100%|##########| 43.1k/43.1k [0…"
      ]
     },
     "metadata": {},
     "output_type": "display_data"
    },
    {
     "data": {
      "application/vnd.jupyter.widget-view+json": {
       "model_id": "738bb5857d2e4622b47889c76250acfb",
       "version_major": 2,
       "version_minor": 0
      },
      "text/plain": [
       "Skipping sub-02_ses-01_task-WorkingMemory_run-03_meg.eeg: already downloaded.: 0.00B [00:00, ?B/s]"
      ]
     },
     "metadata": {},
     "output_type": "display_data"
    },
    {
     "data": {
      "application/vnd.jupyter.widget-view+json": {
       "model_id": "4203e783f0f64a52b233b84e60c8d73f",
       "version_major": 2,
       "version_minor": 0
      },
      "text/plain": [
       "Skipping sub-02_ses-01_task-WorkingMemory_run-03_meg.hc: already downloaded.: 100%|##########| 855/855 [00:00<…"
      ]
     },
     "metadata": {},
     "output_type": "display_data"
    },
    {
     "data": {
      "application/vnd.jupyter.widget-view+json": {
       "model_id": "ba685ba255d6424b82b41dba91d3a972",
       "version_major": 2,
       "version_minor": 0
      },
      "text/plain": [
       "Skipping sub-03_ses-01_task-WorkingMemory_run-03_meg.bak: already downloaded.: 100%|##########| 2.42k/2.42k [0…"
      ]
     },
     "metadata": {},
     "output_type": "display_data"
    },
    {
     "data": {
      "application/vnd.jupyter.widget-view+json": {
       "model_id": "813e2091e96e42f8aba64cd8dd1e36ab",
       "version_major": 2,
       "version_minor": 0
      },
      "text/plain": [
       "Skipping sub-03_ses-01_task-WorkingMemory_run-03_meg.acq: already downloaded.: 100%|##########| 43.1k/43.1k [0…"
      ]
     },
     "metadata": {},
     "output_type": "display_data"
    },
    {
     "data": {
      "application/vnd.jupyter.widget-view+json": {
       "model_id": "c7abb9c8bbd9420cab116641de230759",
       "version_major": 2,
       "version_minor": 0
      },
      "text/plain": [
       "Skipping sub-03_ses-01_task-WorkingMemory_run-03_meg.eeg: already downloaded.: 0.00B [00:00, ?B/s]"
      ]
     },
     "metadata": {},
     "output_type": "display_data"
    },
    {
     "data": {
      "application/vnd.jupyter.widget-view+json": {
       "model_id": "584d5dbf44274294bd70088a735b274e",
       "version_major": 2,
       "version_minor": 0
      },
      "text/plain": [
       "Skipping sub-03_ses-01_task-WorkingMemory_run-03_meg.hc: already downloaded.: 100%|##########| 834/834 [00:00<…"
      ]
     },
     "metadata": {},
     "output_type": "display_data"
    },
    {
     "data": {
      "application/vnd.jupyter.widget-view+json": {
       "model_id": "cadc6433956c4d52bd1990bd2eae3925",
       "version_major": 2,
       "version_minor": 0
      },
      "text/plain": [
       "Skipping sub-03_ses-01_task-WorkingMemory_run-03_meg.hist: already downloaded.: 100%|##########| 478/478 [00:0…"
      ]
     },
     "metadata": {},
     "output_type": "display_data"
    },
    {
     "data": {
      "application/vnd.jupyter.widget-view+json": {
       "model_id": "41f73b3154be447b9df876e61b893c60",
       "version_major": 2,
       "version_minor": 0
      },
      "text/plain": [
       "Skipping sub-02_ses-01_task-WorkingMemory_run-03_meg.hist: already downloaded.: 100%|##########| 478/478 [00:0…"
      ]
     },
     "metadata": {},
     "output_type": "display_data"
    },
    {
     "data": {
      "application/vnd.jupyter.widget-view+json": {
       "model_id": "81a3c7717b894b9b89dd7ca77ae394d9",
       "version_major": 2,
       "version_minor": 0
      },
      "text/plain": [
       "Skipping sub-02_ses-01_task-WorkingMemory_run-03_meg.newds: already downloaded.: 100%|##########| 376/376 [00:…"
      ]
     },
     "metadata": {},
     "output_type": "display_data"
    },
    {
     "data": {
      "application/vnd.jupyter.widget-view+json": {
       "model_id": "8d18b7a3c00a47c5a0adb4b7025d9aa8",
       "version_major": 2,
       "version_minor": 0
      },
      "text/plain": [
       "Skipping sub-03_ses-01_task-WorkingMemory_run-03_meg.newds: already downloaded.: 100%|##########| 376/376 [00:…"
      ]
     },
     "metadata": {},
     "output_type": "display_data"
    },
    {
     "data": {
      "application/vnd.jupyter.widget-view+json": {
       "model_id": "07eab3985f8342719de02053dd0ea7da",
       "version_major": 2,
       "version_minor": 0
      },
      "text/plain": [
       "Skipping sub-02_ses-01_task-WorkingMemory_run-03_meg.res4: already downloaded.: 100%|##########| 3.04M/3.04M […"
      ]
     },
     "metadata": {},
     "output_type": "display_data"
    },
    {
     "data": {
      "application/vnd.jupyter.widget-view+json": {
       "model_id": "6bfa4f92b8634e9a972b1a5416998006",
       "version_major": 2,
       "version_minor": 0
      },
      "text/plain": [
       "Skipping BadChannels: already downloaded.: 0.00B [00:00, ?B/s]"
      ]
     },
     "metadata": {},
     "output_type": "display_data"
    },
    {
     "data": {
      "application/vnd.jupyter.widget-view+json": {
       "model_id": "e6885fedf3b3492eb569dd90864f4f98",
       "version_major": 2,
       "version_minor": 0
      },
      "text/plain": [
       "Skipping BadChannels: already downloaded.: 0.00B [00:00, ?B/s]"
      ]
     },
     "metadata": {},
     "output_type": "display_data"
    },
    {
     "data": {
      "application/vnd.jupyter.widget-view+json": {
       "model_id": "3782fde7619145a7a4a5bbe272f93b05",
       "version_major": 2,
       "version_minor": 0
      },
      "text/plain": [
       "Skipping sub-03_ses-01_task-WorkingMemory_run-03_meg.res4: already downloaded.: 100%|##########| 3.04M/3.04M […"
      ]
     },
     "metadata": {},
     "output_type": "display_data"
    },
    {
     "data": {
      "application/vnd.jupyter.widget-view+json": {
       "model_id": "028d735bfd0c45e8aec66cd0853fcad2",
       "version_major": 2,
       "version_minor": 0
      },
      "text/plain": [
       "Skipping hz.acq: already downloaded.: 100%|##########| 35.2k/35.2k [00:00<?, ?B/s]"
      ]
     },
     "metadata": {},
     "output_type": "display_data"
    },
    {
     "data": {
      "application/vnd.jupyter.widget-view+json": {
       "model_id": "398177918ce349298a3687cae6ad42f1",
       "version_major": 2,
       "version_minor": 0
      },
      "text/plain": [
       "Skipping sub-02_ses-01_task-WorkingMemory_run-03_meg.infods: already downloaded.: 100%|##########| 2.42k/2.42k…"
      ]
     },
     "metadata": {},
     "output_type": "display_data"
    },
    {
     "data": {
      "application/vnd.jupyter.widget-view+json": {
       "model_id": "904677e560eb4204bdd5e87eacafff3f",
       "version_major": 2,
       "version_minor": 0
      },
      "text/plain": [
       "Skipping hz.hc: already downloaded.: 100%|##########| 65.0/65.0 [00:00<?, ?B/s]"
      ]
     },
     "metadata": {},
     "output_type": "display_data"
    },
    {
     "data": {
      "application/vnd.jupyter.widget-view+json": {
       "model_id": "d4ff22612873451f8424bae98afc41f0",
       "version_major": 2,
       "version_minor": 0
      },
      "text/plain": [
       "Skipping hz.hist: already downloaded.: 100%|##########| 1.00/1.00 [00:00<?, ?B/s]"
      ]
     },
     "metadata": {},
     "output_type": "display_data"
    },
    {
     "data": {
      "application/vnd.jupyter.widget-view+json": {
       "model_id": "825b97f725cb4667917b41968d893af0",
       "version_major": 2,
       "version_minor": 0
      },
      "text/plain": [
       "Skipping hz.acq: already downloaded.: 100%|##########| 35.2k/35.2k [00:00<?, ?B/s]"
      ]
     },
     "metadata": {},
     "output_type": "display_data"
    },
    {
     "data": {
      "application/vnd.jupyter.widget-view+json": {
       "model_id": "90aeefe3a96f412190278460fb564777",
       "version_major": 2,
       "version_minor": 0
      },
      "text/plain": [
       "Skipping sub-03_ses-01_task-WorkingMemory_run-03_meg.infods: already downloaded.: 100%|##########| 2.42k/2.42k…"
      ]
     },
     "metadata": {},
     "output_type": "display_data"
    },
    {
     "data": {
      "application/vnd.jupyter.widget-view+json": {
       "model_id": "a7e0bc230dd647ca8001aace658cc3e0",
       "version_major": 2,
       "version_minor": 0
      },
      "text/plain": [
       "Skipping hz.hc: already downloaded.: 100%|##########| 65.0/65.0 [00:00<?, ?B/s]"
      ]
     },
     "metadata": {},
     "output_type": "display_data"
    },
    {
     "data": {
      "application/vnd.jupyter.widget-view+json": {
       "model_id": "e6a00fc82cbc42a39d35421a9b9f5090",
       "version_major": 2,
       "version_minor": 0
      },
      "text/plain": [
       "Skipping hz.infods: already downloaded.: 100%|##########| 2.24k/2.24k [00:00<?, ?B/s]"
      ]
     },
     "metadata": {},
     "output_type": "display_data"
    },
    {
     "data": {
      "application/vnd.jupyter.widget-view+json": {
       "model_id": "0932eabc1d934cd1af759c0e41920333",
       "version_major": 2,
       "version_minor": 0
      },
      "text/plain": [
       "Skipping hz.hist: already downloaded.: 100%|##########| 1.00/1.00 [00:00<?, ?B/s]"
      ]
     },
     "metadata": {},
     "output_type": "display_data"
    },
    {
     "data": {
      "application/vnd.jupyter.widget-view+json": {
       "model_id": "065fc53189b34a6b95c2eb8eb7c15f65",
       "version_major": 2,
       "version_minor": 0
      },
      "text/plain": [
       "Skipping hz.newds: already downloaded.: 100%|##########| 234/234 [00:00<?, ?B/s]"
      ]
     },
     "metadata": {},
     "output_type": "display_data"
    },
    {
     "data": {
      "application/vnd.jupyter.widget-view+json": {
       "model_id": "e783b96918fa4d2bb27272c4056f390a",
       "version_major": 2,
       "version_minor": 0
      },
      "text/plain": [
       "Skipping hz.meg4: already downloaded.: 100%|##########| 1.02M/1.02M [00:00<?, ?B/s]"
      ]
     },
     "metadata": {},
     "output_type": "display_data"
    },
    {
     "data": {
      "application/vnd.jupyter.widget-view+json": {
       "model_id": "8d112635852c4f2691b62d551e49a2bf",
       "version_major": 2,
       "version_minor": 0
      },
      "text/plain": [
       "Skipping BadChannels: already downloaded.: 0.00B [00:00, ?B/s]"
      ]
     },
     "metadata": {},
     "output_type": "display_data"
    },
    {
     "data": {
      "application/vnd.jupyter.widget-view+json": {
       "model_id": "e651a8f00b7f4979af916679208dce05",
       "version_major": 2,
       "version_minor": 0
      },
      "text/plain": [
       "Skipping hz.infods: already downloaded.: 100%|##########| 2.24k/2.24k [00:00<?, ?B/s]"
      ]
     },
     "metadata": {},
     "output_type": "display_data"
    },
    {
     "data": {
      "application/vnd.jupyter.widget-view+json": {
       "model_id": "0d22c5f58f5941ec9350f2ea44883faf",
       "version_major": 2,
       "version_minor": 0
      },
      "text/plain": [
       "Skipping hz.res4: already downloaded.: 100%|##########| 2.95M/2.95M [00:00<?, ?B/s]"
      ]
     },
     "metadata": {},
     "output_type": "display_data"
    },
    {
     "data": {
      "application/vnd.jupyter.widget-view+json": {
       "model_id": "98d34fb54d5a4598b12228c09a0bdb0b",
       "version_major": 2,
       "version_minor": 0
      },
      "text/plain": [
       "Skipping hz.newds: already downloaded.: 100%|##########| 234/234 [00:00<?, ?B/s]"
      ]
     },
     "metadata": {},
     "output_type": "display_data"
    },
    {
     "data": {
      "application/vnd.jupyter.widget-view+json": {
       "model_id": "c2d209cbac51457584cb82415f47fac7",
       "version_major": 2,
       "version_minor": 0
      },
      "text/plain": [
       "Skipping hz2.acq: already downloaded.: 100%|##########| 35.2k/35.2k [00:00<?, ?B/s]"
      ]
     },
     "metadata": {},
     "output_type": "display_data"
    },
    {
     "data": {
      "application/vnd.jupyter.widget-view+json": {
       "model_id": "7654aec29005443483798f1b307501ab",
       "version_major": 2,
       "version_minor": 0
      },
      "text/plain": [
       "Skipping hz.meg4: already downloaded.: 100%|##########| 1.02M/1.02M [00:00<?, ?B/s]"
      ]
     },
     "metadata": {},
     "output_type": "display_data"
    },
    {
     "data": {
      "application/vnd.jupyter.widget-view+json": {
       "model_id": "0546499834714e9495adc3d91dbd8731",
       "version_major": 2,
       "version_minor": 0
      },
      "text/plain": [
       "Skipping hz.res4: already downloaded.: 100%|##########| 2.95M/2.95M [00:00<?, ?B/s]"
      ]
     },
     "metadata": {},
     "output_type": "display_data"
    },
    {
     "data": {
      "application/vnd.jupyter.widget-view+json": {
       "model_id": "77f12673b7e74e92b83a7a2624a67bd1",
       "version_major": 2,
       "version_minor": 0
      },
      "text/plain": [
       "Skipping BadChannels: already downloaded.: 0.00B [00:00, ?B/s]"
      ]
     },
     "metadata": {},
     "output_type": "display_data"
    },
    {
     "data": {
      "application/vnd.jupyter.widget-view+json": {
       "model_id": "e7901d0b2e3a437b8034c0f781824fd5",
       "version_major": 2,
       "version_minor": 0
      },
      "text/plain": [
       "Skipping sub-02_ses-01_task-WorkingMemory_run-02_meg.meg4: already downloaded.: 100%|##########| 361M/361M [00…"
      ]
     },
     "metadata": {},
     "output_type": "display_data"
    },
    {
     "data": {
      "application/vnd.jupyter.widget-view+json": {
       "model_id": "2e447a3fdf724b8ab4856610915e4be5",
       "version_major": 2,
       "version_minor": 0
      },
      "text/plain": [
       "Skipping hz2.hc: already downloaded.: 100%|##########| 65.0/65.0 [00:00<?, ?B/s]"
      ]
     },
     "metadata": {},
     "output_type": "display_data"
    },
    {
     "data": {
      "application/vnd.jupyter.widget-view+json": {
       "model_id": "fbda8341810448158548ed33502849bc",
       "version_major": 2,
       "version_minor": 0
      },
      "text/plain": [
       "Skipping hz2.hist: already downloaded.: 100%|##########| 1.00/1.00 [00:00<?, ?B/s]"
      ]
     },
     "metadata": {},
     "output_type": "display_data"
    },
    {
     "data": {
      "application/vnd.jupyter.widget-view+json": {
       "model_id": "59eca694369c49f28365e4bb8047555b",
       "version_major": 2,
       "version_minor": 0
      },
      "text/plain": [
       "Skipping hz2.infods: already downloaded.: 100%|##########| 2.24k/2.24k [00:00<?, ?B/s]"
      ]
     },
     "metadata": {},
     "output_type": "display_data"
    },
    {
     "data": {
      "application/vnd.jupyter.widget-view+json": {
       "model_id": "a8d6246608384807a06012c0077cfbc1",
       "version_major": 2,
       "version_minor": 0
      },
      "text/plain": [
       "Skipping hz2.acq: already downloaded.: 100%|##########| 35.2k/35.2k [00:00<?, ?B/s]"
      ]
     },
     "metadata": {},
     "output_type": "display_data"
    },
    {
     "data": {
      "application/vnd.jupyter.widget-view+json": {
       "model_id": "d0f9bd5253224ae8a886f9485201ffa1",
       "version_major": 2,
       "version_minor": 0
      },
      "text/plain": [
       "Skipping hz2.hist: already downloaded.: 100%|##########| 1.00/1.00 [00:00<?, ?B/s]"
      ]
     },
     "metadata": {},
     "output_type": "display_data"
    },
    {
     "data": {
      "application/vnd.jupyter.widget-view+json": {
       "model_id": "d5b15b59e5a94cc8a814363718ee9d50",
       "version_major": 2,
       "version_minor": 0
      },
      "text/plain": [
       "Skipping hz2.meg4: already downloaded.: 100%|##########| 1.02M/1.02M [00:00<?, ?B/s]"
      ]
     },
     "metadata": {},
     "output_type": "display_data"
    },
    {
     "data": {
      "application/vnd.jupyter.widget-view+json": {
       "model_id": "ed0a401f6982431eb86e032b82867fe5",
       "version_major": 2,
       "version_minor": 0
      },
      "text/plain": [
       "Skipping hz2.hc: already downloaded.: 100%|##########| 65.0/65.0 [00:00<?, ?B/s]"
      ]
     },
     "metadata": {},
     "output_type": "display_data"
    },
    {
     "data": {
      "application/vnd.jupyter.widget-view+json": {
       "model_id": "48902882dc9243ea9a468b50e84e36de",
       "version_major": 2,
       "version_minor": 0
      },
      "text/plain": [
       "Skipping hz2.newds: already downloaded.: 100%|##########| 234/234 [00:00<?, ?B/s]"
      ]
     },
     "metadata": {},
     "output_type": "display_data"
    },
    {
     "data": {
      "application/vnd.jupyter.widget-view+json": {
       "model_id": "0a7cc8432559450cb3951e339bf160d9",
       "version_major": 2,
       "version_minor": 0
      },
      "text/plain": [
       "Skipping hz2.infods: already downloaded.: 100%|##########| 2.24k/2.24k [00:00<?, ?B/s]"
      ]
     },
     "metadata": {},
     "output_type": "display_data"
    },
    {
     "data": {
      "application/vnd.jupyter.widget-view+json": {
       "model_id": "6759bdba1ad8418b9e368656dccaae4d",
       "version_major": 2,
       "version_minor": 0
      },
      "text/plain": [
       "Skipping hz2.meg4: already downloaded.: 100%|##########| 1.02M/1.02M [00:00<?, ?B/s]"
      ]
     },
     "metadata": {},
     "output_type": "display_data"
    },
    {
     "data": {
      "application/vnd.jupyter.widget-view+json": {
       "model_id": "e49ec265880e4bbcbddffb78ce067854",
       "version_major": 2,
       "version_minor": 0
      },
      "text/plain": [
       "Skipping ChannelGroupSet.cfg: already downloaded.: 100%|##########| 2.05k/2.05k [00:00<?, ?B/s]"
      ]
     },
     "metadata": {},
     "output_type": "display_data"
    },
    {
     "data": {
      "application/vnd.jupyter.widget-view+json": {
       "model_id": "dc8c6db9421546bcbe374f37f6aab6b4",
       "version_major": 2,
       "version_minor": 0
      },
      "text/plain": [
       "Skipping ClassFile.cls: already downloaded.: 100%|##########| 270/270 [00:00<?, ?B/s]"
      ]
     },
     "metadata": {},
     "output_type": "display_data"
    },
    {
     "data": {
      "application/vnd.jupyter.widget-view+json": {
       "model_id": "fa03239a555b4f68a8c7503994cd5d09",
       "version_major": 2,
       "version_minor": 0
      },
      "text/plain": [
       "Skipping hz2.newds: already downloaded.: 100%|##########| 234/234 [00:00<?, ?B/s]"
      ]
     },
     "metadata": {},
     "output_type": "display_data"
    },
    {
     "data": {
      "application/vnd.jupyter.widget-view+json": {
       "model_id": "9ab436d9b1e4493e90c95bd319b5613a",
       "version_major": 2,
       "version_minor": 0
      },
      "text/plain": [
       "Skipping ChannelGroupSet.cfg: already downloaded.: 100%|##########| 2.05k/2.05k [00:00<?, ?B/s]"
      ]
     },
     "metadata": {},
     "output_type": "display_data"
    },
    {
     "data": {
      "application/vnd.jupyter.widget-view+json": {
       "model_id": "2bc23554a3264300b26c7dafb5852692",
       "version_major": 2,
       "version_minor": 0
      },
      "text/plain": [
       "Skipping MarkerFile.mrk: already downloaded.: 100%|##########| 9.59k/9.59k [00:00<?, ?B/s]"
      ]
     },
     "metadata": {},
     "output_type": "display_data"
    },
    {
     "data": {
      "application/vnd.jupyter.widget-view+json": {
       "model_id": "ea812a8d607d4ec0958f9162f8fe2b40",
       "version_major": 2,
       "version_minor": 0
      },
      "text/plain": [
       "Skipping ClassFile.cls: already downloaded.: 100%|##########| 270/270 [00:00<?, ?B/s]"
      ]
     },
     "metadata": {},
     "output_type": "display_data"
    },
    {
     "data": {
      "application/vnd.jupyter.widget-view+json": {
       "model_id": "6133932d4a7b44dd8fb9474518544c10",
       "version_major": 2,
       "version_minor": 0
      },
      "text/plain": [
       "Skipping hz2.res4: already downloaded.: 100%|##########| 2.95M/2.95M [00:00<?, ?B/s]"
      ]
     },
     "metadata": {},
     "output_type": "display_data"
    },
    {
     "data": {
      "application/vnd.jupyter.widget-view+json": {
       "model_id": "7e54a4ff1ce142f5af9a32387acaeeb0",
       "version_major": 2,
       "version_minor": 0
      },
      "text/plain": [
       "Skipping hz2.res4: already downloaded.: 100%|##########| 2.95M/2.95M [00:00<?, ?B/s]"
      ]
     },
     "metadata": {},
     "output_type": "display_data"
    },
    {
     "data": {
      "application/vnd.jupyter.widget-view+json": {
       "model_id": "ccff7cff92f243e6b4250f911e8a0566",
       "version_major": 2,
       "version_minor": 0
      },
      "text/plain": [
       "Skipping bad.segments: already downloaded.: 0.00B [00:00, ?B/s]"
      ]
     },
     "metadata": {},
     "output_type": "display_data"
    },
    {
     "data": {
      "application/vnd.jupyter.widget-view+json": {
       "model_id": "ed81b833483a4e76b2ab7283b3cd32f5",
       "version_major": 2,
       "version_minor": 0
      },
      "text/plain": [
       "Skipping sub-02_ses-01_task-WorkingMemory_run-04_meg.acq: already downloaded.: 100%|##########| 43.1k/43.1k [0…"
      ]
     },
     "metadata": {},
     "output_type": "display_data"
    },
    {
     "data": {
      "application/vnd.jupyter.widget-view+json": {
       "model_id": "3cba37960d954129952849985e4e3658",
       "version_major": 2,
       "version_minor": 0
      },
      "text/plain": [
       "Skipping sub-02_ses-01_task-WorkingMemory_run-04_meg.bak: already downloaded.: 100%|##########| 2.42k/2.42k [0…"
      ]
     },
     "metadata": {},
     "output_type": "display_data"
    },
    {
     "data": {
      "application/vnd.jupyter.widget-view+json": {
       "model_id": "bc9d78461dd34163b75359c9b259adf5",
       "version_major": 2,
       "version_minor": 0
      },
      "text/plain": [
       "Skipping MarkerFile.mrk: already downloaded.: 100%|##########| 10.1k/10.1k [00:00<?, ?B/s]"
      ]
     },
     "metadata": {},
     "output_type": "display_data"
    },
    {
     "data": {
      "application/vnd.jupyter.widget-view+json": {
       "model_id": "bed89eb3bd754a3ca3e97ac8446ad96b",
       "version_major": 2,
       "version_minor": 0
      },
      "text/plain": [
       "Skipping bad.segments: already downloaded.: 0.00B [00:00, ?B/s]"
      ]
     },
     "metadata": {},
     "output_type": "display_data"
    },
    {
     "data": {
      "application/vnd.jupyter.widget-view+json": {
       "model_id": "b5a08d4ba1154496ad68a2c64a58e7f5",
       "version_major": 2,
       "version_minor": 0
      },
      "text/plain": [
       "Skipping sub-03_ses-01_task-WorkingMemory_run-04_meg.acq: already downloaded.: 100%|##########| 43.1k/43.1k [0…"
      ]
     },
     "metadata": {},
     "output_type": "display_data"
    },
    {
     "data": {
      "application/vnd.jupyter.widget-view+json": {
       "model_id": "d269493bb9a6455ebce4730ece51380d",
       "version_major": 2,
       "version_minor": 0
      },
      "text/plain": [
       "Skipping sub-02_ses-01_task-WorkingMemory_run-04_meg.eeg: already downloaded.: 0.00B [00:00, ?B/s]"
      ]
     },
     "metadata": {},
     "output_type": "display_data"
    },
    {
     "data": {
      "application/vnd.jupyter.widget-view+json": {
       "model_id": "c26b3cd77b924fa69287af5906664452",
       "version_major": 2,
       "version_minor": 0
      },
      "text/plain": [
       "Skipping sub-03_ses-01_task-WorkingMemory_run-04_meg.bak: already downloaded.: 100%|##########| 2.42k/2.42k [0…"
      ]
     },
     "metadata": {},
     "output_type": "display_data"
    },
    {
     "data": {
      "application/vnd.jupyter.widget-view+json": {
       "model_id": "d5654eac66dd44c3af9311dd48e82ca2",
       "version_major": 2,
       "version_minor": 0
      },
      "text/plain": [
       "Skipping sub-02_ses-01_task-WorkingMemory_run-04_meg.hc: already downloaded.: 100%|##########| 852/852 [00:00<…"
      ]
     },
     "metadata": {},
     "output_type": "display_data"
    },
    {
     "data": {
      "application/vnd.jupyter.widget-view+json": {
       "model_id": "fec0ab3f346a458394904433073d7630",
       "version_major": 2,
       "version_minor": 0
      },
      "text/plain": [
       "Skipping sub-03_ses-01_task-WorkingMemory_run-04_meg.eeg: already downloaded.: 0.00B [00:00, ?B/s]"
      ]
     },
     "metadata": {},
     "output_type": "display_data"
    },
    {
     "data": {
      "application/vnd.jupyter.widget-view+json": {
       "model_id": "29a72709f4194019a83766d9c2428b97",
       "version_major": 2,
       "version_minor": 0
      },
      "text/plain": [
       "Skipping sub-03_ses-01_task-WorkingMemory_run-02_meg.meg4: already downloaded.: 100%|##########| 409M/409M [00…"
      ]
     },
     "metadata": {},
     "output_type": "display_data"
    },
    {
     "data": {
      "application/vnd.jupyter.widget-view+json": {
       "model_id": "edfc00d7044044aea5eab2298b1b2423",
       "version_major": 2,
       "version_minor": 0
      },
      "text/plain": [
       "Skipping sub-02_ses-01_task-WorkingMemory_run-04_meg.hist: already downloaded.: 100%|##########| 478/478 [00:0…"
      ]
     },
     "metadata": {},
     "output_type": "display_data"
    },
    {
     "data": {
      "application/vnd.jupyter.widget-view+json": {
       "model_id": "f0214022c67a4f6eb9045bfe26cbd72f",
       "version_major": 2,
       "version_minor": 0
      },
      "text/plain": [
       "Skipping sub-03_ses-01_task-WorkingMemory_run-04_meg.hc: already downloaded.: 100%|##########| 855/855 [00:00<…"
      ]
     },
     "metadata": {},
     "output_type": "display_data"
    },
    {
     "data": {
      "application/vnd.jupyter.widget-view+json": {
       "model_id": "b457057a3e7947499d22c32e4f4a9d8e",
       "version_major": 2,
       "version_minor": 0
      },
      "text/plain": [
       "Skipping sub-02_ses-01_task-WorkingMemory_run-04_meg.infods: already downloaded.: 100%|##########| 2.42k/2.42k…"
      ]
     },
     "metadata": {},
     "output_type": "display_data"
    },
    {
     "data": {
      "application/vnd.jupyter.widget-view+json": {
       "model_id": "ba3b2fb86be144559c781cdbf86ae9b9",
       "version_major": 2,
       "version_minor": 0
      },
      "text/plain": [
       "Skipping sub-03_ses-01_task-WorkingMemory_run-04_meg.infods: already downloaded.: 100%|##########| 2.42k/2.42k…"
      ]
     },
     "metadata": {},
     "output_type": "display_data"
    },
    {
     "data": {
      "application/vnd.jupyter.widget-view+json": {
       "model_id": "d879000ecbc449b492956488fc510ebd",
       "version_major": 2,
       "version_minor": 0
      },
      "text/plain": [
       "Skipping sub-02_ses-01_task-WorkingMemory_run-04_meg.newds: already downloaded.: 100%|##########| 376/376 [00:…"
      ]
     },
     "metadata": {},
     "output_type": "display_data"
    },
    {
     "data": {
      "application/vnd.jupyter.widget-view+json": {
       "model_id": "4839a092cf1744b486b61da27cc3f473",
       "version_major": 2,
       "version_minor": 0
      },
      "text/plain": [
       "Skipping sub-03_ses-01_task-WorkingMemory_run-04_meg.hist: already downloaded.: 100%|##########| 478/478 [00:0…"
      ]
     },
     "metadata": {},
     "output_type": "display_data"
    },
    {
     "data": {
      "application/vnd.jupyter.widget-view+json": {
       "model_id": "e1d899ffeb1b4f8387e2a12eaaa9ba9b",
       "version_major": 2,
       "version_minor": 0
      },
      "text/plain": [
       "Skipping BadChannels: already downloaded.: 0.00B [00:00, ?B/s]"
      ]
     },
     "metadata": {},
     "output_type": "display_data"
    },
    {
     "data": {
      "application/vnd.jupyter.widget-view+json": {
       "model_id": "225390a014e74faf9f4be95ae9f69940",
       "version_major": 2,
       "version_minor": 0
      },
      "text/plain": [
       "Skipping sub-03_ses-01_task-WorkingMemory_run-04_meg.res4: already downloaded.: 100%|##########| 3.04M/3.04M […"
      ]
     },
     "metadata": {},
     "output_type": "display_data"
    },
    {
     "data": {
      "application/vnd.jupyter.widget-view+json": {
       "model_id": "11ee3b85dd164aac8b86f199e1cc6a41",
       "version_major": 2,
       "version_minor": 0
      },
      "text/plain": [
       "Skipping hz.hc: already downloaded.: 100%|##########| 65.0/65.0 [00:00<?, ?B/s]"
      ]
     },
     "metadata": {},
     "output_type": "display_data"
    },
    {
     "data": {
      "application/vnd.jupyter.widget-view+json": {
       "model_id": "83ddf238e8f843bb926e95c28d68be33",
       "version_major": 2,
       "version_minor": 0
      },
      "text/plain": [
       "Skipping sub-02_ses-01_task-WorkingMemory_run-04_meg.res4: already downloaded.: 100%|##########| 3.04M/3.04M […"
      ]
     },
     "metadata": {},
     "output_type": "display_data"
    },
    {
     "data": {
      "application/vnd.jupyter.widget-view+json": {
       "model_id": "9240cf8e9779452d9fe324f8c1a2d52c",
       "version_major": 2,
       "version_minor": 0
      },
      "text/plain": [
       "Skipping BadChannels: already downloaded.: 0.00B [00:00, ?B/s]"
      ]
     },
     "metadata": {},
     "output_type": "display_data"
    },
    {
     "data": {
      "application/vnd.jupyter.widget-view+json": {
       "model_id": "4676fe2670a4448a8acffa5f44a82231",
       "version_major": 2,
       "version_minor": 0
      },
      "text/plain": [
       "Skipping hz.hist: already downloaded.: 100%|##########| 1.00/1.00 [00:00<?, ?B/s]"
      ]
     },
     "metadata": {},
     "output_type": "display_data"
    },
    {
     "data": {
      "application/vnd.jupyter.widget-view+json": {
       "model_id": "3467d6f2e28b48e5b6c4ed6696e84ce2",
       "version_major": 2,
       "version_minor": 0
      },
      "text/plain": [
       "Skipping sub-02_ses-01_task-WorkingMemory_run-03_meg.meg4: already downloaded.: 100%|##########| 372M/372M [00…"
      ]
     },
     "metadata": {},
     "output_type": "display_data"
    },
    {
     "data": {
      "application/vnd.jupyter.widget-view+json": {
       "model_id": "fb2f43dc1bcd40839de52d780c3c1e3d",
       "version_major": 2,
       "version_minor": 0
      },
      "text/plain": [
       "Skipping hz.hist: already downloaded.: 100%|##########| 1.00/1.00 [00:00<?, ?B/s]"
      ]
     },
     "metadata": {},
     "output_type": "display_data"
    },
    {
     "data": {
      "application/vnd.jupyter.widget-view+json": {
       "model_id": "6873b175853840d5b8464fc8afdb3098",
       "version_major": 2,
       "version_minor": 0
      },
      "text/plain": [
       "Skipping hz.acq: already downloaded.: 100%|##########| 35.2k/35.2k [00:00<?, ?B/s]"
      ]
     },
     "metadata": {},
     "output_type": "display_data"
    },
    {
     "data": {
      "application/vnd.jupyter.widget-view+json": {
       "model_id": "03920e93e2d642d998d233b58f73f08e",
       "version_major": 2,
       "version_minor": 0
      },
      "text/plain": [
       "Skipping hz.meg4: already downloaded.: 100%|##########| 1.02M/1.02M [00:00<?, ?B/s]"
      ]
     },
     "metadata": {},
     "output_type": "display_data"
    },
    {
     "data": {
      "application/vnd.jupyter.widget-view+json": {
       "model_id": "43d138017c54427eae8505504a920d4b",
       "version_major": 2,
       "version_minor": 0
      },
      "text/plain": [
       "Skipping hz.acq: already downloaded.: 100%|##########| 35.2k/35.2k [00:00<?, ?B/s]"
      ]
     },
     "metadata": {},
     "output_type": "display_data"
    },
    {
     "data": {
      "application/vnd.jupyter.widget-view+json": {
       "model_id": "9cd76b359d34421693e27fbf3d5e8a88",
       "version_major": 2,
       "version_minor": 0
      },
      "text/plain": [
       "Skipping hz.infods: already downloaded.: 100%|##########| 2.24k/2.24k [00:00<?, ?B/s]"
      ]
     },
     "metadata": {},
     "output_type": "display_data"
    },
    {
     "data": {
      "application/vnd.jupyter.widget-view+json": {
       "model_id": "cfe6bf669f5f4782804e25378eb52f85",
       "version_major": 2,
       "version_minor": 0
      },
      "text/plain": [
       "Skipping sub-03_ses-01_task-WorkingMemory_run-04_meg.newds: already downloaded.: 100%|##########| 376/376 [00:…"
      ]
     },
     "metadata": {},
     "output_type": "display_data"
    },
    {
     "data": {
      "application/vnd.jupyter.widget-view+json": {
       "model_id": "786f9fd3b73e43269bca6da2e509358b",
       "version_major": 2,
       "version_minor": 0
      },
      "text/plain": [
       "Skipping hz.hc: already downloaded.: 100%|##########| 65.0/65.0 [00:00<?, ?B/s]"
      ]
     },
     "metadata": {},
     "output_type": "display_data"
    },
    {
     "data": {
      "application/vnd.jupyter.widget-view+json": {
       "model_id": "3541f70f1ae74e1a8153d3f7830eafba",
       "version_major": 2,
       "version_minor": 0
      },
      "text/plain": [
       "Skipping hz.newds: already downloaded.: 100%|##########| 234/234 [00:00<?, ?B/s]"
      ]
     },
     "metadata": {},
     "output_type": "display_data"
    },
    {
     "data": {
      "application/vnd.jupyter.widget-view+json": {
       "model_id": "2b94954e00c14778a8ee701accbadc17",
       "version_major": 2,
       "version_minor": 0
      },
      "text/plain": [
       "Skipping hz.meg4: already downloaded.: 100%|##########| 1.02M/1.02M [00:00<?, ?B/s]"
      ]
     },
     "metadata": {},
     "output_type": "display_data"
    },
    {
     "data": {
      "application/vnd.jupyter.widget-view+json": {
       "model_id": "d1104d5e2fc441439b795464576aa128",
       "version_major": 2,
       "version_minor": 0
      },
      "text/plain": [
       "Skipping sub-03_ses-01_task-WorkingMemory_run-03_meg.meg4: already downloaded.: 100%|##########| 437M/437M [00…"
      ]
     },
     "metadata": {},
     "output_type": "display_data"
    },
    {
     "data": {
      "application/vnd.jupyter.widget-view+json": {
       "model_id": "6d0a742988ab42149f3a8511756f852b",
       "version_major": 2,
       "version_minor": 0
      },
      "text/plain": [
       "Skipping hz2.acq: already downloaded.: 100%|##########| 35.2k/35.2k [00:00<?, ?B/s]"
      ]
     },
     "metadata": {},
     "output_type": "display_data"
    },
    {
     "data": {
      "application/vnd.jupyter.widget-view+json": {
       "model_id": "8720aea61e5c452aa922a8a03983e0c5",
       "version_major": 2,
       "version_minor": 0
      },
      "text/plain": [
       "Skipping hz.res4: already downloaded.: 100%|##########| 2.95M/2.95M [00:00<?, ?B/s]"
      ]
     },
     "metadata": {},
     "output_type": "display_data"
    },
    {
     "data": {
      "application/vnd.jupyter.widget-view+json": {
       "model_id": "0d425ef96ef3485db0d7123a21b665e3",
       "version_major": 2,
       "version_minor": 0
      },
      "text/plain": [
       "Skipping BadChannels: already downloaded.: 0.00B [00:00, ?B/s]"
      ]
     },
     "metadata": {},
     "output_type": "display_data"
    },
    {
     "data": {
      "application/vnd.jupyter.widget-view+json": {
       "model_id": "6e4ef9096e9341fabd0232fad60fbc95",
       "version_major": 2,
       "version_minor": 0
      },
      "text/plain": [
       "Skipping hz.infods: already downloaded.: 100%|##########| 2.24k/2.24k [00:00<?, ?B/s]"
      ]
     },
     "metadata": {},
     "output_type": "display_data"
    },
    {
     "data": {
      "application/vnd.jupyter.widget-view+json": {
       "model_id": "2b29917751fa4f47a83da8fe1ff7cf86",
       "version_major": 2,
       "version_minor": 0
      },
      "text/plain": [
       "Skipping hz.newds: already downloaded.: 100%|##########| 234/234 [00:00<?, ?B/s]"
      ]
     },
     "metadata": {},
     "output_type": "display_data"
    },
    {
     "data": {
      "application/vnd.jupyter.widget-view+json": {
       "model_id": "9fc341cd6be44a14a9a098d0d2b24788",
       "version_major": 2,
       "version_minor": 0
      },
      "text/plain": [
       "Skipping hz.res4: already downloaded.: 100%|##########| 2.95M/2.95M [00:00<?, ?B/s]"
      ]
     },
     "metadata": {},
     "output_type": "display_data"
    },
    {
     "data": {
      "application/vnd.jupyter.widget-view+json": {
       "model_id": "6e9c48d961ef45dd8e373c03344ae111",
       "version_major": 2,
       "version_minor": 0
      },
      "text/plain": [
       "Skipping BadChannels: already downloaded.: 0.00B [00:00, ?B/s]"
      ]
     },
     "metadata": {},
     "output_type": "display_data"
    },
    {
     "data": {
      "application/vnd.jupyter.widget-view+json": {
       "model_id": "ba41f2e42b634f42afe45e87a0a0cf7c",
       "version_major": 2,
       "version_minor": 0
      },
      "text/plain": [
       "Skipping hz2.acq: already downloaded.: 100%|##########| 35.2k/35.2k [00:00<?, ?B/s]"
      ]
     },
     "metadata": {},
     "output_type": "display_data"
    },
    {
     "data": {
      "application/vnd.jupyter.widget-view+json": {
       "model_id": "881f966239ce4c51809bec446bb6cad3",
       "version_major": 2,
       "version_minor": 0
      },
      "text/plain": [
       "Skipping hz2.hist: already downloaded.: 100%|##########| 1.00/1.00 [00:00<?, ?B/s]"
      ]
     },
     "metadata": {},
     "output_type": "display_data"
    },
    {
     "data": {
      "application/vnd.jupyter.widget-view+json": {
       "model_id": "dbf12e07b64a4895ae148aea6eb5df67",
       "version_major": 2,
       "version_minor": 0
      },
      "text/plain": [
       "Skipping hz2.hc: already downloaded.: 100%|##########| 65.0/65.0 [00:00<?, ?B/s]"
      ]
     },
     "metadata": {},
     "output_type": "display_data"
    },
    {
     "data": {
      "application/vnd.jupyter.widget-view+json": {
       "model_id": "3cddbcddc66e464994035a94eed722e5",
       "version_major": 2,
       "version_minor": 0
      },
      "text/plain": [
       "Skipping sub-02_ses-01_task-WorkingMemory_run-04_meg.meg4: already downloaded.: 100%|##########| 381M/381M [00…"
      ]
     },
     "metadata": {},
     "output_type": "display_data"
    },
    {
     "data": {
      "application/vnd.jupyter.widget-view+json": {
       "model_id": "a13d754582ef40ac94fcd920aa993fb3",
       "version_major": 2,
       "version_minor": 0
      },
      "text/plain": [
       "Skipping sub-03_ses-01_task-WorkingMemory_run-04_meg.meg4: already downloaded.: 100%|##########| 403M/403M [00…"
      ]
     },
     "metadata": {},
     "output_type": "display_data"
    },
    {
     "data": {
      "application/vnd.jupyter.widget-view+json": {
       "model_id": "454d2151cd36405584835b5c03bc427f",
       "version_major": 2,
       "version_minor": 0
      },
      "text/plain": [
       "Skipping hz2.newds: already downloaded.: 100%|##########| 234/234 [00:00<?, ?B/s]"
      ]
     },
     "metadata": {},
     "output_type": "display_data"
    },
    {
     "data": {
      "application/vnd.jupyter.widget-view+json": {
       "model_id": "f5b331b5d0624ab18313bc79b691a869",
       "version_major": 2,
       "version_minor": 0
      },
      "text/plain": [
       "Skipping hz2.newds: already downloaded.: 100%|##########| 234/234 [00:00<?, ?B/s]"
      ]
     },
     "metadata": {},
     "output_type": "display_data"
    },
    {
     "data": {
      "application/vnd.jupyter.widget-view+json": {
       "model_id": "83687a999429403c8310a2f9c9ea3710",
       "version_major": 2,
       "version_minor": 0
      },
      "text/plain": [
       "Skipping hz2.hist: already downloaded.: 100%|##########| 1.00/1.00 [00:00<?, ?B/s]"
      ]
     },
     "metadata": {},
     "output_type": "display_data"
    },
    {
     "data": {
      "application/vnd.jupyter.widget-view+json": {
       "model_id": "bca9b91d891d4186b6ed46a6a68576f1",
       "version_major": 2,
       "version_minor": 0
      },
      "text/plain": [
       "Skipping hz2.infods: already downloaded.: 100%|##########| 2.24k/2.24k [00:00<?, ?B/s]"
      ]
     },
     "metadata": {},
     "output_type": "display_data"
    },
    {
     "data": {
      "application/vnd.jupyter.widget-view+json": {
       "model_id": "4d0747663b014c32a7dc8725ae238d92",
       "version_major": 2,
       "version_minor": 0
      },
      "text/plain": [
       "Skipping hz2.hc: already downloaded.: 100%|##########| 65.0/65.0 [00:00<?, ?B/s]"
      ]
     },
     "metadata": {},
     "output_type": "display_data"
    },
    {
     "data": {
      "application/vnd.jupyter.widget-view+json": {
       "model_id": "fbd3e9a84f8048d89535e9b9ac0dea04",
       "version_major": 2,
       "version_minor": 0
      },
      "text/plain": [
       "Skipping hz2.infods: already downloaded.: 100%|##########| 2.24k/2.24k [00:00<?, ?B/s]"
      ]
     },
     "metadata": {},
     "output_type": "display_data"
    },
    {
     "data": {
      "application/vnd.jupyter.widget-view+json": {
       "model_id": "5e1d2e5e2e774fcb8733e2ed729bda89",
       "version_major": 2,
       "version_minor": 0
      },
      "text/plain": [
       "Skipping hz2.meg4: already downloaded.: 100%|##########| 1.02M/1.02M [00:00<?, ?B/s]"
      ]
     },
     "metadata": {},
     "output_type": "display_data"
    },
    {
     "data": {
      "application/vnd.jupyter.widget-view+json": {
       "model_id": "075174b962ee496698c282ad1ce96cd1",
       "version_major": 2,
       "version_minor": 0
      },
      "text/plain": [
       "Skipping hz2.meg4: already downloaded.: 100%|##########| 1.02M/1.02M [00:00<?, ?B/s]"
      ]
     },
     "metadata": {},
     "output_type": "display_data"
    },
    {
     "data": {
      "application/vnd.jupyter.widget-view+json": {
       "model_id": "1921ce7cee994c4ba6f87fb79b196108",
       "version_major": 2,
       "version_minor": 0
      },
      "text/plain": [
       "Skipping hz2.res4: already downloaded.: 100%|##########| 2.95M/2.95M [00:00<?, ?B/s]"
      ]
     },
     "metadata": {},
     "output_type": "display_data"
    },
    {
     "data": {
      "application/vnd.jupyter.widget-view+json": {
       "model_id": "f76d2610f85c4cb9b56955d7066e7312",
       "version_major": 2,
       "version_minor": 0
      },
      "text/plain": [
       "Skipping ClassFile.cls: already downloaded.: 100%|##########| 270/270 [00:00<?, ?B/s]"
      ]
     },
     "metadata": {},
     "output_type": "display_data"
    },
    {
     "data": {
      "application/vnd.jupyter.widget-view+json": {
       "model_id": "550a2f9e086d458fadff92f69f702286",
       "version_major": 2,
       "version_minor": 0
      },
      "text/plain": [
       "Skipping ChannelGroupSet.cfg: already downloaded.: 100%|##########| 2.05k/2.05k [00:00<?, ?B/s]"
      ]
     },
     "metadata": {},
     "output_type": "display_data"
    },
    {
     "data": {
      "application/vnd.jupyter.widget-view+json": {
       "model_id": "52c98f212fcb4c8791d2afb076b0543c",
       "version_major": 2,
       "version_minor": 0
      },
      "text/plain": [
       "Skipping MarkerFile.mrk: already downloaded.: 100%|##########| 9.81k/9.81k [00:00<?, ?B/s]"
      ]
     },
     "metadata": {},
     "output_type": "display_data"
    },
    {
     "data": {
      "application/vnd.jupyter.widget-view+json": {
       "model_id": "26a1092049c34beb869159a259d21b15",
       "version_major": 2,
       "version_minor": 0
      },
      "text/plain": [
       "Skipping hz2.res4: already downloaded.: 100%|##########| 2.95M/2.95M [00:00<?, ?B/s]"
      ]
     },
     "metadata": {},
     "output_type": "display_data"
    },
    {
     "data": {
      "application/vnd.jupyter.widget-view+json": {
       "model_id": "b429c7e0e7fb4f6ba2756e36c3ba873e",
       "version_major": 2,
       "version_minor": 0
      },
      "text/plain": [
       "Skipping ClassFile.cls: already downloaded.: 100%|##########| 270/270 [00:00<?, ?B/s]"
      ]
     },
     "metadata": {},
     "output_type": "display_data"
    },
    {
     "data": {
      "application/vnd.jupyter.widget-view+json": {
       "model_id": "abb899c41cef4627954cb8bdc192a11b",
       "version_major": 2,
       "version_minor": 0
      },
      "text/plain": [
       "Skipping bad.segments: already downloaded.: 0.00B [00:00, ?B/s]"
      ]
     },
     "metadata": {},
     "output_type": "display_data"
    },
    {
     "data": {
      "application/vnd.jupyter.widget-view+json": {
       "model_id": "acd03af158f24ca59f86427223671890",
       "version_major": 2,
       "version_minor": 0
      },
      "text/plain": [
       "Skipping MarkerFile.mrk: already downloaded.: 100%|##########| 9.02k/9.02k [00:00<?, ?B/s]"
      ]
     },
     "metadata": {},
     "output_type": "display_data"
    },
    {
     "data": {
      "application/vnd.jupyter.widget-view+json": {
       "model_id": "14a29dd85a824292bac55ac140725c97",
       "version_major": 2,
       "version_minor": 0
      },
      "text/plain": [
       "Skipping ChannelGroupSet.cfg: already downloaded.: 100%|##########| 2.05k/2.05k [00:00<?, ?B/s]"
      ]
     },
     "metadata": {},
     "output_type": "display_data"
    },
    {
     "data": {
      "application/vnd.jupyter.widget-view+json": {
       "model_id": "27668565b08f4ca0b10928434e23a512",
       "version_major": 2,
       "version_minor": 0
      },
      "text/plain": [
       "Skipping sub-03_ses-01_task-WorkingMemory_run-05_meg.acq: already downloaded.: 100%|##########| 43.1k/43.1k [0…"
      ]
     },
     "metadata": {},
     "output_type": "display_data"
    },
    {
     "data": {
      "application/vnd.jupyter.widget-view+json": {
       "model_id": "9f11928574b04ea7a3cb117e10273d87",
       "version_major": 2,
       "version_minor": 0
      },
      "text/plain": [
       "Skipping sub-02_ses-01_task-WorkingMemory_run-05_meg.acq: already downloaded.: 100%|##########| 43.1k/43.1k [0…"
      ]
     },
     "metadata": {},
     "output_type": "display_data"
    },
    {
     "data": {
      "application/vnd.jupyter.widget-view+json": {
       "model_id": "a3f0c22bd32a411685cece49c163dd79",
       "version_major": 2,
       "version_minor": 0
      },
      "text/plain": [
       "Skipping sub-02_ses-01_task-WorkingMemory_run-05_meg.bak: already downloaded.: 100%|##########| 2.42k/2.42k [0…"
      ]
     },
     "metadata": {},
     "output_type": "display_data"
    },
    {
     "data": {
      "application/vnd.jupyter.widget-view+json": {
       "model_id": "227598260c114e20b55ac4ea52ccc7f8",
       "version_major": 2,
       "version_minor": 0
      },
      "text/plain": [
       "Skipping bad.segments: already downloaded.: 0.00B [00:00, ?B/s]"
      ]
     },
     "metadata": {},
     "output_type": "display_data"
    },
    {
     "name": "stdout",
     "output_type": "stream",
     "text": [
      "<Task pending name='Task-251' coro=<_download_file() running at /Users/cheylus/.virtualenvs/py311-mne_septembre/lib/python3.11/site-packages/openneuro/_download.py:280> wait_for=<Future pending cb=[Task.task_wakeup()]> cb=[gather.<locals>._done_callback() at /usr/local/Cellar/python@3.11/3.11.4_1/Frameworks/Python.framework/Versions/3.11/lib/python3.11/asyncio/tasks.py:754]>\n"
     ]
    },
    {
     "data": {
      "application/vnd.jupyter.widget-view+json": {
       "model_id": "302bc79b51d1401fb9d164fe0a0e542d",
       "version_major": 2,
       "version_minor": 0
      },
      "text/plain": [
       "Skipping sub-03_ses-01_task-WorkingMemory_run-05_meg.hc: already downloaded.: 100%|##########| 855/855 [00:00<…"
      ]
     },
     "metadata": {},
     "output_type": "display_data"
    },
    {
     "data": {
      "application/vnd.jupyter.widget-view+json": {
       "model_id": "e57f15457710428e9b05f2685e8b29af",
       "version_major": 2,
       "version_minor": 0
      },
      "text/plain": [
       "Skipping sub-03_ses-01_task-WorkingMemory_run-05_meg.hist: already downloaded.: 100%|##########| 478/478 [00:0…"
      ]
     },
     "metadata": {},
     "output_type": "display_data"
    },
    {
     "data": {
      "application/vnd.jupyter.widget-view+json": {
       "model_id": "a24dc0bc0f68499a939b9ddba459a897",
       "version_major": 2,
       "version_minor": 0
      },
      "text/plain": [
       "Skipping sub-02_ses-01_task-WorkingMemory_run-05_meg.eeg: already downloaded.: 0.00B [00:00, ?B/s]"
      ]
     },
     "metadata": {},
     "output_type": "display_data"
    },
    {
     "data": {
      "application/vnd.jupyter.widget-view+json": {
       "model_id": "19f45d94973d4fc79d634aa4dcd27cd5",
       "version_major": 2,
       "version_minor": 0
      },
      "text/plain": [
       "Skipping sub-03_ses-01_task-WorkingMemory_run-05_meg.bak: already downloaded.: 100%|##########| 2.42k/2.42k [0…"
      ]
     },
     "metadata": {},
     "output_type": "display_data"
    },
    {
     "data": {
      "application/vnd.jupyter.widget-view+json": {
       "model_id": "0fc196dc7aec4f4dbb54bf44185ee599",
       "version_major": 2,
       "version_minor": 0
      },
      "text/plain": [
       "Skipping sub-03_ses-01_task-WorkingMemory_run-05_meg.infods: already downloaded.: 100%|##########| 2.42k/2.42k…"
      ]
     },
     "metadata": {},
     "output_type": "display_data"
    },
    {
     "data": {
      "application/vnd.jupyter.widget-view+json": {
       "model_id": "07b77923c9604951b1c02874e7e00003",
       "version_major": 2,
       "version_minor": 0
      },
      "text/plain": [
       "Skipping sub-02_ses-01_task-WorkingMemory_run-05_meg.hc: already downloaded.: 100%|##########| 846/846 [00:00<…"
      ]
     },
     "metadata": {},
     "output_type": "display_data"
    },
    {
     "data": {
      "application/vnd.jupyter.widget-view+json": {
       "model_id": "2c13c543cf2e4538a7a42d211653a06a",
       "version_major": 2,
       "version_minor": 0
      },
      "text/plain": [
       "Skipping sub-03_ses-01_task-WorkingMemory_run-05_meg.eeg: already downloaded.: 0.00B [00:00, ?B/s]"
      ]
     },
     "metadata": {},
     "output_type": "display_data"
    },
    {
     "data": {
      "application/vnd.jupyter.widget-view+json": {
       "model_id": "8ffb0059257b42f09081f6431648bcd7",
       "version_major": 2,
       "version_minor": 0
      },
      "text/plain": [
       "Skipping sub-02_ses-01_task-WorkingMemory_run-05_meg.hist: already downloaded.: 100%|##########| 478/478 [00:0…"
      ]
     },
     "metadata": {},
     "output_type": "display_data"
    },
    {
     "data": {
      "application/vnd.jupyter.widget-view+json": {
       "model_id": "c1a833897f3a4caa82789e1af3be0b52",
       "version_major": 2,
       "version_minor": 0
      },
      "text/plain": [
       "Skipping sub-02_ses-01_task-WorkingMemory_run-05_meg.infods: already downloaded.: 100%|##########| 2.42k/2.42k…"
      ]
     },
     "metadata": {},
     "output_type": "display_data"
    },
    {
     "data": {
      "application/vnd.jupyter.widget-view+json": {
       "model_id": "f3818a7e21e44555b6a71013273da028",
       "version_major": 2,
       "version_minor": 0
      },
      "text/plain": [
       "Skipping sub-03_ses-01_task-WorkingMemory_run-05_meg.newds: already downloaded.: 100%|##########| 376/376 [00:…"
      ]
     },
     "metadata": {},
     "output_type": "display_data"
    },
    {
     "data": {
      "application/vnd.jupyter.widget-view+json": {
       "model_id": "cb9284f2b05d42169c68a2b4d851555c",
       "version_major": 2,
       "version_minor": 0
      },
      "text/plain": [
       "Skipping sub-03_ses-01_task-WorkingMemory_run-05_meg.res4: already downloaded.: 100%|##########| 3.04M/3.04M […"
      ]
     },
     "metadata": {},
     "output_type": "display_data"
    },
    {
     "data": {
      "application/vnd.jupyter.widget-view+json": {
       "model_id": "78ad248ae24d44cca57c769ea67ff467",
       "version_major": 2,
       "version_minor": 0
      },
      "text/plain": [
       "Skipping sub-02_ses-01_task-WorkingMemory_run-05_meg.newds: already downloaded.: 100%|##########| 376/376 [00:…"
      ]
     },
     "metadata": {},
     "output_type": "display_data"
    },
    {
     "data": {
      "application/vnd.jupyter.widget-view+json": {
       "model_id": "95587e86f6914416875c3d88cf162a86",
       "version_major": 2,
       "version_minor": 0
      },
      "text/plain": [
       "Skipping BadChannels: already downloaded.: 0.00B [00:00, ?B/s]"
      ]
     },
     "metadata": {},
     "output_type": "display_data"
    },
    {
     "data": {
      "application/vnd.jupyter.widget-view+json": {
       "model_id": "83cd6381584a40d7bc7e5ad285ec8b9c",
       "version_major": 2,
       "version_minor": 0
      },
      "text/plain": [
       "Skipping BadChannels: already downloaded.: 0.00B [00:00, ?B/s]"
      ]
     },
     "metadata": {},
     "output_type": "display_data"
    },
    {
     "data": {
      "application/vnd.jupyter.widget-view+json": {
       "model_id": "eac14aecd25443078d38d8e4e72ac3d5",
       "version_major": 2,
       "version_minor": 0
      },
      "text/plain": [
       "Skipping hz.acq: already downloaded.: 100%|##########| 35.2k/35.2k [00:00<?, ?B/s]"
      ]
     },
     "metadata": {},
     "output_type": "display_data"
    },
    {
     "data": {
      "application/vnd.jupyter.widget-view+json": {
       "model_id": "864664ad668d41ab920c8c956f38a85c",
       "version_major": 2,
       "version_minor": 0
      },
      "text/plain": [
       "Skipping hz.acq: already downloaded.: 100%|##########| 35.2k/35.2k [00:00<?, ?B/s]"
      ]
     },
     "metadata": {},
     "output_type": "display_data"
    },
    {
     "data": {
      "application/vnd.jupyter.widget-view+json": {
       "model_id": "6433b29678974cb8bb93620a0746abc4",
       "version_major": 2,
       "version_minor": 0
      },
      "text/plain": [
       "Skipping hz.hc: already downloaded.: 100%|##########| 65.0/65.0 [00:00<?, ?B/s]"
      ]
     },
     "metadata": {},
     "output_type": "display_data"
    },
    {
     "data": {
      "application/vnd.jupyter.widget-view+json": {
       "model_id": "c3b77221a96d401b821985ce2c223806",
       "version_major": 2,
       "version_minor": 0
      },
      "text/plain": [
       "Skipping hz.hist: already downloaded.: 100%|##########| 1.00/1.00 [00:00<?, ?B/s]"
      ]
     },
     "metadata": {},
     "output_type": "display_data"
    },
    {
     "data": {
      "application/vnd.jupyter.widget-view+json": {
       "model_id": "df51e57d96014ff48d91d275cbfacbf7",
       "version_major": 2,
       "version_minor": 0
      },
      "text/plain": [
       "Skipping hz.hc: already downloaded.: 100%|##########| 65.0/65.0 [00:00<?, ?B/s]"
      ]
     },
     "metadata": {},
     "output_type": "display_data"
    },
    {
     "data": {
      "application/vnd.jupyter.widget-view+json": {
       "model_id": "da36f2056329404a97a79d4d1dec03da",
       "version_major": 2,
       "version_minor": 0
      },
      "text/plain": [
       "Skipping hz.infods: already downloaded.: 100%|##########| 2.24k/2.24k [00:00<?, ?B/s]"
      ]
     },
     "metadata": {},
     "output_type": "display_data"
    },
    {
     "data": {
      "application/vnd.jupyter.widget-view+json": {
       "model_id": "16bac57684154b35b3fb45fb97529943",
       "version_major": 2,
       "version_minor": 0
      },
      "text/plain": [
       "Skipping sub-02_ses-01_task-WorkingMemory_run-05_meg.res4: already downloaded.: 100%|##########| 3.04M/3.04M […"
      ]
     },
     "metadata": {},
     "output_type": "display_data"
    },
    {
     "data": {
      "application/vnd.jupyter.widget-view+json": {
       "model_id": "7a35618aae2b4b4caaef22f30e94b114",
       "version_major": 2,
       "version_minor": 0
      },
      "text/plain": [
       "Skipping hz.hist: already downloaded.: 100%|##########| 1.00/1.00 [00:00<?, ?B/s]"
      ]
     },
     "metadata": {},
     "output_type": "display_data"
    },
    {
     "data": {
      "application/vnd.jupyter.widget-view+json": {
       "model_id": "69d8a0395d164672933467ec31c89176",
       "version_major": 2,
       "version_minor": 0
      },
      "text/plain": [
       "Skipping hz.newds: already downloaded.: 100%|##########| 234/234 [00:00<?, ?B/s]"
      ]
     },
     "metadata": {},
     "output_type": "display_data"
    },
    {
     "data": {
      "application/vnd.jupyter.widget-view+json": {
       "model_id": "9121f1a479eb441298dba7c7af33f77b",
       "version_major": 2,
       "version_minor": 0
      },
      "text/plain": [
       "Skipping hz.res4: already downloaded.: 100%|##########| 2.95M/2.95M [00:00<?, ?B/s]"
      ]
     },
     "metadata": {},
     "output_type": "display_data"
    },
    {
     "data": {
      "application/vnd.jupyter.widget-view+json": {
       "model_id": "5450a5a8d9934398881c1d828668ea8a",
       "version_major": 2,
       "version_minor": 0
      },
      "text/plain": [
       "Skipping BadChannels: already downloaded.: 0.00B [00:00, ?B/s]"
      ]
     },
     "metadata": {},
     "output_type": "display_data"
    },
    {
     "data": {
      "application/vnd.jupyter.widget-view+json": {
       "model_id": "aaef5ec8a15d42c992131652b399744b",
       "version_major": 2,
       "version_minor": 0
      },
      "text/plain": [
       "Skipping hz.res4: already downloaded.: 100%|##########| 2.95M/2.95M [00:00<?, ?B/s]"
      ]
     },
     "metadata": {},
     "output_type": "display_data"
    },
    {
     "data": {
      "application/vnd.jupyter.widget-view+json": {
       "model_id": "ab82f343b27a45e2b4ac66725c4bc75a",
       "version_major": 2,
       "version_minor": 0
      },
      "text/plain": [
       "Skipping BadChannels: already downloaded.: 0.00B [00:00, ?B/s]"
      ]
     },
     "metadata": {},
     "output_type": "display_data"
    },
    {
     "data": {
      "application/vnd.jupyter.widget-view+json": {
       "model_id": "a478a49a67364250b33125463b5b63fa",
       "version_major": 2,
       "version_minor": 0
      },
      "text/plain": [
       "Skipping hz2.acq: already downloaded.: 100%|##########| 35.2k/35.2k [00:00<?, ?B/s]"
      ]
     },
     "metadata": {},
     "output_type": "display_data"
    },
    {
     "data": {
      "application/vnd.jupyter.widget-view+json": {
       "model_id": "37496366c9f54a3f87e95d7046742c69",
       "version_major": 2,
       "version_minor": 0
      },
      "text/plain": [
       "Skipping hz2.acq: already downloaded.: 100%|##########| 35.2k/35.2k [00:00<?, ?B/s]"
      ]
     },
     "metadata": {},
     "output_type": "display_data"
    },
    {
     "data": {
      "application/vnd.jupyter.widget-view+json": {
       "model_id": "8f8f8ff94e8845e19b005b7bc69e31fb",
       "version_major": 2,
       "version_minor": 0
      },
      "text/plain": [
       "Skipping hz2.hc: already downloaded.: 100%|##########| 65.0/65.0 [00:00<?, ?B/s]"
      ]
     },
     "metadata": {},
     "output_type": "display_data"
    },
    {
     "data": {
      "application/vnd.jupyter.widget-view+json": {
       "model_id": "ffe74971f1a744e7aa26990bb5e308fe",
       "version_major": 2,
       "version_minor": 0
      },
      "text/plain": [
       "Skipping hz.newds: already downloaded.: 100%|##########| 234/234 [00:00<?, ?B/s]"
      ]
     },
     "metadata": {},
     "output_type": "display_data"
    },
    {
     "data": {
      "application/vnd.jupyter.widget-view+json": {
       "model_id": "101859e5ac734efb96ee9585a8b177b1",
       "version_major": 2,
       "version_minor": 0
      },
      "text/plain": [
       "Skipping hz.infods: already downloaded.: 100%|##########| 2.24k/2.24k [00:00<?, ?B/s]"
      ]
     },
     "metadata": {},
     "output_type": "display_data"
    },
    {
     "data": {
      "application/vnd.jupyter.widget-view+json": {
       "model_id": "cbfcc9aaf46d407caed96b6786049c85",
       "version_major": 2,
       "version_minor": 0
      },
      "text/plain": [
       "Skipping hz2.hc: already downloaded.: 100%|##########| 65.0/65.0 [00:00<?, ?B/s]"
      ]
     },
     "metadata": {},
     "output_type": "display_data"
    },
    {
     "data": {
      "application/vnd.jupyter.widget-view+json": {
       "model_id": "24b88cd5f7c84565814d4bd62c8ef679",
       "version_major": 2,
       "version_minor": 0
      },
      "text/plain": [
       "Skipping hz2.hist: already downloaded.: 100%|##########| 1.00/1.00 [00:00<?, ?B/s]"
      ]
     },
     "metadata": {},
     "output_type": "display_data"
    },
    {
     "data": {
      "application/vnd.jupyter.widget-view+json": {
       "model_id": "3abe6c95cf9649cdbb441d6f7ff0afc7",
       "version_major": 2,
       "version_minor": 0
      },
      "text/plain": [
       "Skipping hz2.infods: already downloaded.: 100%|##########| 2.24k/2.24k [00:00<?, ?B/s]"
      ]
     },
     "metadata": {},
     "output_type": "display_data"
    },
    {
     "data": {
      "application/vnd.jupyter.widget-view+json": {
       "model_id": "3373048996ad428fb06c14b030b7ce41",
       "version_major": 2,
       "version_minor": 0
      },
      "text/plain": [
       "Skipping hz2.hist: already downloaded.: 100%|##########| 1.00/1.00 [00:00<?, ?B/s]"
      ]
     },
     "metadata": {},
     "output_type": "display_data"
    },
    {
     "data": {
      "application/vnd.jupyter.widget-view+json": {
       "model_id": "e0cba8e8df1b484a82df666e3c2be10d",
       "version_major": 2,
       "version_minor": 0
      },
      "text/plain": [
       "Skipping hz.meg4: already downloaded.: 100%|##########| 1.02M/1.02M [00:00<?, ?B/s]"
      ]
     },
     "metadata": {},
     "output_type": "display_data"
    },
    {
     "data": {
      "application/vnd.jupyter.widget-view+json": {
       "model_id": "c66b03203e284700bf4701c34fb0c92e",
       "version_major": 2,
       "version_minor": 0
      },
      "text/plain": [
       "Skipping hz.meg4: already downloaded.: 100%|##########| 1.02M/1.02M [00:00<?, ?B/s]"
      ]
     },
     "metadata": {},
     "output_type": "display_data"
    },
    {
     "data": {
      "application/vnd.jupyter.widget-view+json": {
       "model_id": "9aa0e4cbab0e4950971069dbb7782a6a",
       "version_major": 2,
       "version_minor": 0
      },
      "text/plain": [
       "Skipping hz2.infods: already downloaded.: 100%|##########| 2.24k/2.24k [00:00<?, ?B/s]"
      ]
     },
     "metadata": {},
     "output_type": "display_data"
    },
    {
     "data": {
      "application/vnd.jupyter.widget-view+json": {
       "model_id": "fccbaa7ce2f742faa7e1181856147a36",
       "version_major": 2,
       "version_minor": 0
      },
      "text/plain": [
       "Skipping hz2.meg4: already downloaded.: 100%|##########| 1.02M/1.02M [00:00<?, ?B/s]"
      ]
     },
     "metadata": {},
     "output_type": "display_data"
    },
    {
     "data": {
      "application/vnd.jupyter.widget-view+json": {
       "model_id": "cbcb72fca76541c5a5b574b0430cf972",
       "version_major": 2,
       "version_minor": 0
      },
      "text/plain": [
       "Skipping hz2.newds: already downloaded.: 100%|##########| 234/234 [00:00<?, ?B/s]"
      ]
     },
     "metadata": {},
     "output_type": "display_data"
    },
    {
     "data": {
      "application/vnd.jupyter.widget-view+json": {
       "model_id": "ca7fad8dfaff427b9da28ac17014f81d",
       "version_major": 2,
       "version_minor": 0
      },
      "text/plain": [
       "Skipping hz2.newds: already downloaded.: 100%|##########| 234/234 [00:00<?, ?B/s]"
      ]
     },
     "metadata": {},
     "output_type": "display_data"
    },
    {
     "data": {
      "application/vnd.jupyter.widget-view+json": {
       "model_id": "a912a6ee2db84d7487c7468ec29ce40f",
       "version_major": 2,
       "version_minor": 0
      },
      "text/plain": [
       "Skipping ChannelGroupSet.cfg: already downloaded.: 100%|##########| 2.05k/2.05k [00:00<?, ?B/s]"
      ]
     },
     "metadata": {},
     "output_type": "display_data"
    },
    {
     "data": {
      "application/vnd.jupyter.widget-view+json": {
       "model_id": "caf5005c4c0a47a6ba65fd3404b5951a",
       "version_major": 2,
       "version_minor": 0
      },
      "text/plain": [
       "Skipping hz2.meg4: already downloaded.: 100%|##########| 1.02M/1.02M [00:00<?, ?B/s]"
      ]
     },
     "metadata": {},
     "output_type": "display_data"
    },
    {
     "data": {
      "application/vnd.jupyter.widget-view+json": {
       "model_id": "7c9e45fc2531470f905671f100a75fdc",
       "version_major": 2,
       "version_minor": 0
      },
      "text/plain": [
       "Skipping hz2.res4: already downloaded.: 100%|##########| 2.95M/2.95M [00:00<?, ?B/s]"
      ]
     },
     "metadata": {},
     "output_type": "display_data"
    },
    {
     "data": {
      "application/vnd.jupyter.widget-view+json": {
       "model_id": "beda8b03b77349fd92fa6628f24497b0",
       "version_major": 2,
       "version_minor": 0
      },
      "text/plain": [
       "Skipping hz2.res4: already downloaded.: 100%|##########| 2.95M/2.95M [00:00<?, ?B/s]"
      ]
     },
     "metadata": {},
     "output_type": "display_data"
    },
    {
     "data": {
      "application/vnd.jupyter.widget-view+json": {
       "model_id": "4afa16a2b9fd45c9890298c8158571fe",
       "version_major": 2,
       "version_minor": 0
      },
      "text/plain": [
       "Skipping bad.segments: already downloaded.: 0.00B [00:00, ?B/s]"
      ]
     },
     "metadata": {},
     "output_type": "display_data"
    },
    {
     "data": {
      "application/vnd.jupyter.widget-view+json": {
       "model_id": "2b7afff0c590401dbcdfca4e267eb383",
       "version_major": 2,
       "version_minor": 0
      },
      "text/plain": [
       "Skipping ChannelGroupSet.cfg: already downloaded.: 100%|##########| 2.05k/2.05k [00:00<?, ?B/s]"
      ]
     },
     "metadata": {},
     "output_type": "display_data"
    },
    {
     "data": {
      "application/vnd.jupyter.widget-view+json": {
       "model_id": "dfcd44a461dd4e4cacc341cff59c77ca",
       "version_major": 2,
       "version_minor": 0
      },
      "text/plain": [
       "Skipping MarkerFile.mrk: already downloaded.: 100%|##########| 9.15k/9.15k [00:00<?, ?B/s]"
      ]
     },
     "metadata": {},
     "output_type": "display_data"
    },
    {
     "data": {
      "application/vnd.jupyter.widget-view+json": {
       "model_id": "33f19e5bd2434df8a6d8a57def044d00",
       "version_major": 2,
       "version_minor": 0
      },
      "text/plain": [
       "Skipping ClassFile.cls: already downloaded.: 100%|##########| 270/270 [00:00<?, ?B/s]"
      ]
     },
     "metadata": {},
     "output_type": "display_data"
    },
    {
     "data": {
      "application/vnd.jupyter.widget-view+json": {
       "model_id": "34ae241abb34428595b15d60aa5f1b5f",
       "version_major": 2,
       "version_minor": 0
      },
      "text/plain": [
       "Skipping ClassFile.cls: already downloaded.: 100%|##########| 270/270 [00:00<?, ?B/s]"
      ]
     },
     "metadata": {},
     "output_type": "display_data"
    },
    {
     "data": {
      "application/vnd.jupyter.widget-view+json": {
       "model_id": "d47d7af408484c2389f82566c7d38562",
       "version_major": 2,
       "version_minor": 0
      },
      "text/plain": [
       "Skipping bad.segments: already downloaded.: 0.00B [00:00, ?B/s]"
      ]
     },
     "metadata": {},
     "output_type": "display_data"
    },
    {
     "data": {
      "application/vnd.jupyter.widget-view+json": {
       "model_id": "1e5298585dfc43ab8f6fb9c626aa42ff",
       "version_major": 2,
       "version_minor": 0
      },
      "text/plain": [
       "Skipping MarkerFile.mrk: already downloaded.: 100%|##########| 9.81k/9.81k [00:00<?, ?B/s]"
      ]
     },
     "metadata": {},
     "output_type": "display_data"
    },
    {
     "data": {
      "application/vnd.jupyter.widget-view+json": {
       "model_id": "cf61fe290af84f5d9b5958edadf9f9ca",
       "version_major": 2,
       "version_minor": 0
      },
      "text/plain": [
       "Skipping sub-03_ses-01_task-WorkingMemory_run-06_meg.bak: already downloaded.: 100%|##########| 2.42k/2.42k [0…"
      ]
     },
     "metadata": {},
     "output_type": "display_data"
    },
    {
     "data": {
      "application/vnd.jupyter.widget-view+json": {
       "model_id": "67ceec69e5d4447ab64763e693c8b328",
       "version_major": 2,
       "version_minor": 0
      },
      "text/plain": [
       "Skipping sub-02_ses-01_task-WorkingMemory_run-06_meg.acq: already downloaded.: 100%|##########| 43.1k/43.1k [0…"
      ]
     },
     "metadata": {},
     "output_type": "display_data"
    },
    {
     "data": {
      "application/vnd.jupyter.widget-view+json": {
       "model_id": "e4a32e0904414fd7833fddffe068d5a6",
       "version_major": 2,
       "version_minor": 0
      },
      "text/plain": [
       "Skipping sub-03_ses-01_task-WorkingMemory_run-06_meg.acq: already downloaded.: 100%|##########| 43.1k/43.1k [0…"
      ]
     },
     "metadata": {},
     "output_type": "display_data"
    },
    {
     "data": {
      "application/vnd.jupyter.widget-view+json": {
       "model_id": "23e2a76b1af84bb6b9bd9eecd9080ee8",
       "version_major": 2,
       "version_minor": 0
      },
      "text/plain": [
       "Skipping sub-02_ses-01_task-WorkingMemory_run-06_meg.bak: already downloaded.: 100%|##########| 2.42k/2.42k [0…"
      ]
     },
     "metadata": {},
     "output_type": "display_data"
    },
    {
     "data": {
      "application/vnd.jupyter.widget-view+json": {
       "model_id": "c1545e1868594381931cc1775a7592a7",
       "version_major": 2,
       "version_minor": 0
      },
      "text/plain": [
       "Skipping sub-02_ses-01_task-WorkingMemory_run-06_meg.eeg: already downloaded.: 0.00B [00:00, ?B/s]"
      ]
     },
     "metadata": {},
     "output_type": "display_data"
    },
    {
     "data": {
      "application/vnd.jupyter.widget-view+json": {
       "model_id": "37e57999dd3c42cfbb2d5bac23e402f6",
       "version_major": 2,
       "version_minor": 0
      },
      "text/plain": [
       "Skipping sub-02_ses-01_task-WorkingMemory_run-06_meg.hist: already downloaded.: 100%|##########| 478/478 [00:0…"
      ]
     },
     "metadata": {},
     "output_type": "display_data"
    },
    {
     "data": {
      "application/vnd.jupyter.widget-view+json": {
       "model_id": "2cd54eb087e646e1b7bd7f3930909d43",
       "version_major": 2,
       "version_minor": 0
      },
      "text/plain": [
       "Skipping sub-03_ses-01_task-WorkingMemory_run-06_meg.hc: already downloaded.: 100%|##########| 855/855 [00:00<…"
      ]
     },
     "metadata": {},
     "output_type": "display_data"
    },
    {
     "data": {
      "application/vnd.jupyter.widget-view+json": {
       "model_id": "f5a872f065b647bf8214746910850008",
       "version_major": 2,
       "version_minor": 0
      },
      "text/plain": [
       "Skipping sub-03_ses-01_task-WorkingMemory_run-06_meg.eeg: already downloaded.: 0.00B [00:00, ?B/s]"
      ]
     },
     "metadata": {},
     "output_type": "display_data"
    },
    {
     "data": {
      "application/vnd.jupyter.widget-view+json": {
       "model_id": "2012a173b1ac4d96b9495a1469217c2d",
       "version_major": 2,
       "version_minor": 0
      },
      "text/plain": [
       "Skipping sub-03_ses-01_task-WorkingMemory_run-06_meg.hist: already downloaded.: 100%|##########| 478/478 [00:0…"
      ]
     },
     "metadata": {},
     "output_type": "display_data"
    },
    {
     "data": {
      "application/vnd.jupyter.widget-view+json": {
       "model_id": "c0e807a20142483fb04be126c5be62b2",
       "version_major": 2,
       "version_minor": 0
      },
      "text/plain": [
       "Skipping sub-02_ses-01_task-WorkingMemory_run-06_meg.hc: already downloaded.: 100%|##########| 867/867 [00:00<…"
      ]
     },
     "metadata": {},
     "output_type": "display_data"
    },
    {
     "data": {
      "application/vnd.jupyter.widget-view+json": {
       "model_id": "5f2187c4bec04708aac7f2d88666841e",
       "version_major": 2,
       "version_minor": 0
      },
      "text/plain": [
       "Skipping sub-03_ses-01_task-WorkingMemory_run-06_meg.infods: already downloaded.: 100%|##########| 2.42k/2.42k…"
      ]
     },
     "metadata": {},
     "output_type": "display_data"
    },
    {
     "data": {
      "application/vnd.jupyter.widget-view+json": {
       "model_id": "4102218394b845d0a7ceb7f023253eed",
       "version_major": 2,
       "version_minor": 0
      },
      "text/plain": [
       "Skipping sub-02_ses-01_task-WorkingMemory_run-06_meg.infods: already downloaded.: 100%|##########| 2.42k/2.42k…"
      ]
     },
     "metadata": {},
     "output_type": "display_data"
    },
    {
     "data": {
      "application/vnd.jupyter.widget-view+json": {
       "model_id": "4dc05f869a294c978d3a1d0662715b39",
       "version_major": 2,
       "version_minor": 0
      },
      "text/plain": [
       "Skipping sub-02_ses-01_task-WorkingMemory_run-06_meg.newds: already downloaded.: 100%|##########| 376/376 [00:…"
      ]
     },
     "metadata": {},
     "output_type": "display_data"
    },
    {
     "data": {
      "application/vnd.jupyter.widget-view+json": {
       "model_id": "629b1615692e411dbebad8f184c7f1e2",
       "version_major": 2,
       "version_minor": 0
      },
      "text/plain": [
       "Skipping sub-03_ses-01_task-WorkingMemory_run-06_meg.newds: already downloaded.: 100%|##########| 376/376 [00:…"
      ]
     },
     "metadata": {},
     "output_type": "display_data"
    },
    {
     "data": {
      "application/vnd.jupyter.widget-view+json": {
       "model_id": "866f4a86931944d99d5072a3470fbeb0",
       "version_major": 2,
       "version_minor": 0
      },
      "text/plain": [
       "Skipping BadChannels: already downloaded.: 0.00B [00:00, ?B/s]"
      ]
     },
     "metadata": {},
     "output_type": "display_data"
    },
    {
     "data": {
      "application/vnd.jupyter.widget-view+json": {
       "model_id": "ddcf8e083f0e459e87e63b97dbb81180",
       "version_major": 2,
       "version_minor": 0
      },
      "text/plain": [
       "Skipping sub-02_ses-01_task-WorkingMemory_run-06_meg.res4: already downloaded.: 100%|##########| 3.04M/3.04M […"
      ]
     },
     "metadata": {},
     "output_type": "display_data"
    },
    {
     "data": {
      "application/vnd.jupyter.widget-view+json": {
       "model_id": "12e91768f4e84e06a839bffdc291b892",
       "version_major": 2,
       "version_minor": 0
      },
      "text/plain": [
       "Skipping sub-03_ses-01_task-WorkingMemory_run-06_meg.res4: already downloaded.: 100%|##########| 3.04M/3.04M […"
      ]
     },
     "metadata": {},
     "output_type": "display_data"
    },
    {
     "data": {
      "application/vnd.jupyter.widget-view+json": {
       "model_id": "56e3dce776454c3f9202d3dc7fc1d373",
       "version_major": 2,
       "version_minor": 0
      },
      "text/plain": [
       "Skipping hz.acq: already downloaded.: 100%|##########| 35.2k/35.2k [00:00<?, ?B/s]"
      ]
     },
     "metadata": {},
     "output_type": "display_data"
    },
    {
     "data": {
      "application/vnd.jupyter.widget-view+json": {
       "model_id": "e33201ae98e24ff4ad446856531e66ca",
       "version_major": 2,
       "version_minor": 0
      },
      "text/plain": [
       "Skipping hz.hc: already downloaded.: 100%|##########| 65.0/65.0 [00:00<?, ?B/s]"
      ]
     },
     "metadata": {},
     "output_type": "display_data"
    },
    {
     "data": {
      "application/vnd.jupyter.widget-view+json": {
       "model_id": "821dc59540d84a7e9330b18750b3a985",
       "version_major": 2,
       "version_minor": 0
      },
      "text/plain": [
       "Skipping hz.acq: already downloaded.: 100%|##########| 35.2k/35.2k [00:00<?, ?B/s]"
      ]
     },
     "metadata": {},
     "output_type": "display_data"
    },
    {
     "data": {
      "application/vnd.jupyter.widget-view+json": {
       "model_id": "d1fb1bd473c844549a3eed1779efdc12",
       "version_major": 2,
       "version_minor": 0
      },
      "text/plain": [
       "Skipping BadChannels: already downloaded.: 0.00B [00:00, ?B/s]"
      ]
     },
     "metadata": {},
     "output_type": "display_data"
    },
    {
     "data": {
      "application/vnd.jupyter.widget-view+json": {
       "model_id": "5ea00b83eabd48189ea1fe31527bbb16",
       "version_major": 2,
       "version_minor": 0
      },
      "text/plain": [
       "Skipping hz.hc: already downloaded.: 100%|##########| 65.0/65.0 [00:00<?, ?B/s]"
      ]
     },
     "metadata": {},
     "output_type": "display_data"
    },
    {
     "data": {
      "application/vnd.jupyter.widget-view+json": {
       "model_id": "87f4320d61824de0b77fc693ec177db7",
       "version_major": 2,
       "version_minor": 0
      },
      "text/plain": [
       "Skipping hz.hist: already downloaded.: 100%|##########| 1.00/1.00 [00:00<?, ?B/s]"
      ]
     },
     "metadata": {},
     "output_type": "display_data"
    },
    {
     "data": {
      "application/vnd.jupyter.widget-view+json": {
       "model_id": "23dd2a6ff77c4961b2cdb2d1724932de",
       "version_major": 2,
       "version_minor": 0
      },
      "text/plain": [
       "Skipping hz.hist: already downloaded.: 100%|##########| 1.00/1.00 [00:00<?, ?B/s]"
      ]
     },
     "metadata": {},
     "output_type": "display_data"
    },
    {
     "data": {
      "application/vnd.jupyter.widget-view+json": {
       "model_id": "248fb40a122f4aae8a3fe2700b89e847",
       "version_major": 2,
       "version_minor": 0
      },
      "text/plain": [
       "Skipping hz.infods: already downloaded.: 100%|##########| 2.24k/2.24k [00:00<?, ?B/s]"
      ]
     },
     "metadata": {},
     "output_type": "display_data"
    },
    {
     "data": {
      "application/vnd.jupyter.widget-view+json": {
       "model_id": "357f7a67f48b4ee6a80dad991e7e9acc",
       "version_major": 2,
       "version_minor": 0
      },
      "text/plain": [
       "Skipping hz.meg4: already downloaded.: 100%|##########| 1.02M/1.02M [00:00<?, ?B/s]"
      ]
     },
     "metadata": {},
     "output_type": "display_data"
    },
    {
     "data": {
      "application/vnd.jupyter.widget-view+json": {
       "model_id": "fd8560a7349d4ebb9f275ab26500426d",
       "version_major": 2,
       "version_minor": 0
      },
      "text/plain": [
       "Skipping hz.infods: already downloaded.: 100%|##########| 2.24k/2.24k [00:00<?, ?B/s]"
      ]
     },
     "metadata": {},
     "output_type": "display_data"
    },
    {
     "data": {
      "application/vnd.jupyter.widget-view+json": {
       "model_id": "a5b704ff81e14193a3c38747147c5188",
       "version_major": 2,
       "version_minor": 0
      },
      "text/plain": [
       "Skipping hz.meg4: already downloaded.: 100%|##########| 1.02M/1.02M [00:00<?, ?B/s]"
      ]
     },
     "metadata": {},
     "output_type": "display_data"
    },
    {
     "data": {
      "application/vnd.jupyter.widget-view+json": {
       "model_id": "fc68b7d9875d4b2dbed5ca725973faa3",
       "version_major": 2,
       "version_minor": 0
      },
      "text/plain": [
       "Skipping hz2.acq: already downloaded.: 100%|##########| 35.2k/35.2k [00:00<?, ?B/s]"
      ]
     },
     "metadata": {},
     "output_type": "display_data"
    },
    {
     "data": {
      "application/vnd.jupyter.widget-view+json": {
       "model_id": "94cafa36f7444143b6f11811e8ac9fe9",
       "version_major": 2,
       "version_minor": 0
      },
      "text/plain": [
       "Skipping BadChannels: already downloaded.: 0.00B [00:00, ?B/s]"
      ]
     },
     "metadata": {},
     "output_type": "display_data"
    },
    {
     "data": {
      "application/vnd.jupyter.widget-view+json": {
       "model_id": "de85b6cf082f4b0ebc8127ca44e5bf3a",
       "version_major": 2,
       "version_minor": 0
      },
      "text/plain": [
       "Skipping hz2.hc: already downloaded.: 100%|##########| 65.0/65.0 [00:00<?, ?B/s]"
      ]
     },
     "metadata": {},
     "output_type": "display_data"
    },
    {
     "data": {
      "application/vnd.jupyter.widget-view+json": {
       "model_id": "fa350a702df44086b392aeae52bcdaf9",
       "version_major": 2,
       "version_minor": 0
      },
      "text/plain": [
       "Skipping hz2.acq: already downloaded.: 100%|##########| 35.2k/35.2k [00:00<?, ?B/s]"
      ]
     },
     "metadata": {},
     "output_type": "display_data"
    },
    {
     "data": {
      "application/vnd.jupyter.widget-view+json": {
       "model_id": "02aa60cf00174148b14b8821da232159",
       "version_major": 2,
       "version_minor": 0
      },
      "text/plain": [
       "Skipping hz.newds: already downloaded.: 100%|##########| 234/234 [00:00<?, ?B/s]"
      ]
     },
     "metadata": {},
     "output_type": "display_data"
    },
    {
     "data": {
      "application/vnd.jupyter.widget-view+json": {
       "model_id": "2660a8692fb94bb9b4a0fdab093905ff",
       "version_major": 2,
       "version_minor": 0
      },
      "text/plain": [
       "Skipping BadChannels: already downloaded.: 0.00B [00:00, ?B/s]"
      ]
     },
     "metadata": {},
     "output_type": "display_data"
    },
    {
     "data": {
      "application/vnd.jupyter.widget-view+json": {
       "model_id": "b49337a2d3ec4341b5a8f29a5a94e584",
       "version_major": 2,
       "version_minor": 0
      },
      "text/plain": [
       "Skipping hz.res4: already downloaded.: 100%|##########| 2.95M/2.95M [00:00<?, ?B/s]"
      ]
     },
     "metadata": {},
     "output_type": "display_data"
    },
    {
     "data": {
      "application/vnd.jupyter.widget-view+json": {
       "model_id": "4194550d8d704053b96a9d2adcfec7b7",
       "version_major": 2,
       "version_minor": 0
      },
      "text/plain": [
       "Skipping hz2.meg4: already downloaded.: 100%|##########| 1.02M/1.02M [00:00<?, ?B/s]"
      ]
     },
     "metadata": {},
     "output_type": "display_data"
    },
    {
     "data": {
      "application/vnd.jupyter.widget-view+json": {
       "model_id": "0aa527901efb404dbf51f5db86fb3ce1",
       "version_major": 2,
       "version_minor": 0
      },
      "text/plain": [
       "Skipping hz2.infods: already downloaded.: 100%|##########| 2.24k/2.24k [00:00<?, ?B/s]"
      ]
     },
     "metadata": {},
     "output_type": "display_data"
    },
    {
     "data": {
      "application/vnd.jupyter.widget-view+json": {
       "model_id": "32988c35a39b430687413e506fc2f8e8",
       "version_major": 2,
       "version_minor": 0
      },
      "text/plain": [
       "Skipping hz2.newds: already downloaded.: 100%|##########| 234/234 [00:00<?, ?B/s]"
      ]
     },
     "metadata": {},
     "output_type": "display_data"
    },
    {
     "data": {
      "application/vnd.jupyter.widget-view+json": {
       "model_id": "f373bc9782434ee9828fc8a809ab702d",
       "version_major": 2,
       "version_minor": 0
      },
      "text/plain": [
       "Skipping hz2.hist: already downloaded.: 100%|##########| 1.00/1.00 [00:00<?, ?B/s]"
      ]
     },
     "metadata": {},
     "output_type": "display_data"
    },
    {
     "data": {
      "application/vnd.jupyter.widget-view+json": {
       "model_id": "467ee517c40d48eab7857cbb82ff9a91",
       "version_major": 2,
       "version_minor": 0
      },
      "text/plain": [
       "Skipping hz2.hc: already downloaded.: 100%|##########| 65.0/65.0 [00:00<?, ?B/s]"
      ]
     },
     "metadata": {},
     "output_type": "display_data"
    },
    {
     "data": {
      "application/vnd.jupyter.widget-view+json": {
       "model_id": "ef489112be89457a8b72ab9a179062c6",
       "version_major": 2,
       "version_minor": 0
      },
      "text/plain": [
       "Skipping hz2.meg4: already downloaded.: 100%|##########| 1.02M/1.02M [00:00<?, ?B/s]"
      ]
     },
     "metadata": {},
     "output_type": "display_data"
    },
    {
     "data": {
      "application/vnd.jupyter.widget-view+json": {
       "model_id": "93a2e88a0f4341178b276cf110fca768",
       "version_major": 2,
       "version_minor": 0
      },
      "text/plain": [
       "Skipping hz2.hist: already downloaded.: 100%|##########| 1.00/1.00 [00:00<?, ?B/s]"
      ]
     },
     "metadata": {},
     "output_type": "display_data"
    },
    {
     "data": {
      "application/vnd.jupyter.widget-view+json": {
       "model_id": "91cedf1adda1430ea27e2f840e294f53",
       "version_major": 2,
       "version_minor": 0
      },
      "text/plain": [
       "Skipping hz.res4: already downloaded.: 100%|##########| 2.95M/2.95M [00:00<?, ?B/s]"
      ]
     },
     "metadata": {},
     "output_type": "display_data"
    },
    {
     "data": {
      "application/vnd.jupyter.widget-view+json": {
       "model_id": "14b3a6385c4741c09acb29f023b83fb0",
       "version_major": 2,
       "version_minor": 0
      },
      "text/plain": [
       "Skipping hz2.infods: already downloaded.: 100%|##########| 2.24k/2.24k [00:00<?, ?B/s]"
      ]
     },
     "metadata": {},
     "output_type": "display_data"
    },
    {
     "data": {
      "application/vnd.jupyter.widget-view+json": {
       "model_id": "50834bd70d27446f93aa0b01537c779c",
       "version_major": 2,
       "version_minor": 0
      },
      "text/plain": [
       "Skipping sub-02_ses-01_task-WorkingMemory_run-05_meg.meg4: already downloaded.: 100%|##########| 347M/347M [00…"
      ]
     },
     "metadata": {},
     "output_type": "display_data"
    },
    {
     "data": {
      "application/vnd.jupyter.widget-view+json": {
       "model_id": "25d028e0ab684d3ab13c25bea3ea49e0",
       "version_major": 2,
       "version_minor": 0
      },
      "text/plain": [
       "Skipping ChannelGroupSet.cfg: already downloaded.: 100%|##########| 2.05k/2.05k [00:00<?, ?B/s]"
      ]
     },
     "metadata": {},
     "output_type": "display_data"
    },
    {
     "data": {
      "application/vnd.jupyter.widget-view+json": {
       "model_id": "73d88fc3ec8d46c9a9ac33d1bf4d1147",
       "version_major": 2,
       "version_minor": 0
      },
      "text/plain": [
       "Skipping hz2.res4: already downloaded.: 100%|##########| 2.95M/2.95M [00:00<?, ?B/s]"
      ]
     },
     "metadata": {},
     "output_type": "display_data"
    },
    {
     "data": {
      "application/vnd.jupyter.widget-view+json": {
       "model_id": "059adeec09f74d868d429cb1f46c3137",
       "version_major": 2,
       "version_minor": 0
      },
      "text/plain": [
       "Skipping sub-03_ses-01_task-WorkingMemory_run-05_meg.meg4: already downloaded.: 100%|##########| 392M/392M [00…"
      ]
     },
     "metadata": {},
     "output_type": "display_data"
    },
    {
     "data": {
      "application/vnd.jupyter.widget-view+json": {
       "model_id": "dfeea074dd814df4bc4fa67c58cece8e",
       "version_major": 2,
       "version_minor": 0
      },
      "text/plain": [
       "Skipping hz2.res4: already downloaded.: 100%|##########| 2.95M/2.95M [00:00<?, ?B/s]"
      ]
     },
     "metadata": {},
     "output_type": "display_data"
    },
    {
     "data": {
      "application/vnd.jupyter.widget-view+json": {
       "model_id": "c818f553f56643ce8d785029eca0b218",
       "version_major": 2,
       "version_minor": 0
      },
      "text/plain": [
       "Skipping ClassFile.cls: already downloaded.: 100%|##########| 270/270 [00:00<?, ?B/s]"
      ]
     },
     "metadata": {},
     "output_type": "display_data"
    },
    {
     "data": {
      "application/vnd.jupyter.widget-view+json": {
       "model_id": "d6bbe4bbb7354e1f8fb092c05cf74ca7",
       "version_major": 2,
       "version_minor": 0
      },
      "text/plain": [
       "Skipping bad.segments: already downloaded.: 0.00B [00:00, ?B/s]"
      ]
     },
     "metadata": {},
     "output_type": "display_data"
    },
    {
     "data": {
      "application/vnd.jupyter.widget-view+json": {
       "model_id": "d6f20834c39b439297d3c3a5d3e9360a",
       "version_major": 2,
       "version_minor": 0
      },
      "text/plain": [
       "Skipping MarkerFile.mrk: already downloaded.: 100%|##########| 10.2k/10.2k [00:00<?, ?B/s]"
      ]
     },
     "metadata": {},
     "output_type": "display_data"
    },
    {
     "data": {
      "application/vnd.jupyter.widget-view+json": {
       "model_id": "e386df59f805408d900465288d7d9840",
       "version_major": 2,
       "version_minor": 0
      },
      "text/plain": [
       "Skipping sub-02_ses-01_task-WorkingMemory_run-07_meg.acq: already downloaded.: 100%|##########| 43.1k/43.1k [0…"
      ]
     },
     "metadata": {},
     "output_type": "display_data"
    },
    {
     "data": {
      "application/vnd.jupyter.widget-view+json": {
       "model_id": "9514a2665eab40efb939cb3fd5ba62c6",
       "version_major": 2,
       "version_minor": 0
      },
      "text/plain": [
       "Skipping ClassFile.cls: already downloaded.: 100%|##########| 270/270 [00:00<?, ?B/s]"
      ]
     },
     "metadata": {},
     "output_type": "display_data"
    },
    {
     "data": {
      "application/vnd.jupyter.widget-view+json": {
       "model_id": "8728a399f65946e391a9e18ebaaad684",
       "version_major": 2,
       "version_minor": 0
      },
      "text/plain": [
       "Skipping MarkerFile.mrk: already downloaded.: 100%|##########| 9.59k/9.59k [00:00<?, ?B/s]"
      ]
     },
     "metadata": {},
     "output_type": "display_data"
    },
    {
     "data": {
      "application/vnd.jupyter.widget-view+json": {
       "model_id": "a2891ae87c664c1d9989cf2e5e53bc0e",
       "version_major": 2,
       "version_minor": 0
      },
      "text/plain": [
       "Skipping sub-03_ses-01_task-WorkingMemory_run-06_meg.meg4: already downloaded.: 100%|##########| 369M/369M [00…"
      ]
     },
     "metadata": {},
     "output_type": "display_data"
    },
    {
     "data": {
      "application/vnd.jupyter.widget-view+json": {
       "model_id": "14e445fb102b4d4c9f59b8d2e206e622",
       "version_major": 2,
       "version_minor": 0
      },
      "text/plain": [
       "Skipping sub-02_ses-01_task-WorkingMemory_run-07_meg.hc: already downloaded.: 100%|##########| 866/866 [00:00<…"
      ]
     },
     "metadata": {},
     "output_type": "display_data"
    },
    {
     "data": {
      "application/vnd.jupyter.widget-view+json": {
       "model_id": "41d4510c2e7a4ec1b83b905e50b926d2",
       "version_major": 2,
       "version_minor": 0
      },
      "text/plain": [
       "Skipping sub-02_ses-01_task-WorkingMemory_run-07_meg.infods: already downloaded.: 100%|##########| 2.42k/2.42k…"
      ]
     },
     "metadata": {},
     "output_type": "display_data"
    },
    {
     "data": {
      "application/vnd.jupyter.widget-view+json": {
       "model_id": "a22d13ad389f40e3bb424c542c8b4c73",
       "version_major": 2,
       "version_minor": 0
      },
      "text/plain": [
       "Skipping sub-02_ses-01_task-WorkingMemory_run-06_meg.meg4: already downloaded.: 100%|##########| 355M/355M [00…"
      ]
     },
     "metadata": {},
     "output_type": "display_data"
    },
    {
     "data": {
      "application/vnd.jupyter.widget-view+json": {
       "model_id": "5a31197de035429fbd5ac3e88cf205c1",
       "version_major": 2,
       "version_minor": 0
      },
      "text/plain": [
       "Skipping bad.segments: already downloaded.: 0.00B [00:00, ?B/s]"
      ]
     },
     "metadata": {},
     "output_type": "display_data"
    },
    {
     "data": {
      "application/vnd.jupyter.widget-view+json": {
       "model_id": "62cb71f79d57481badc8ab675b4df9ce",
       "version_major": 2,
       "version_minor": 0
      },
      "text/plain": [
       "Skipping sub-02_ses-01_task-WorkingMemory_run-07_meg.bak: already downloaded.: 100%|##########| 2.42k/2.42k [0…"
      ]
     },
     "metadata": {},
     "output_type": "display_data"
    },
    {
     "data": {
      "application/vnd.jupyter.widget-view+json": {
       "model_id": "906eba551ca545f19ca88ac814422be9",
       "version_major": 2,
       "version_minor": 0
      },
      "text/plain": [
       "Skipping sub-02_ses-01_task-WorkingMemory_run-07_meg.eeg: already downloaded.: 0.00B [00:00, ?B/s]"
      ]
     },
     "metadata": {},
     "output_type": "display_data"
    },
    {
     "data": {
      "application/vnd.jupyter.widget-view+json": {
       "model_id": "c654452897ca40d99564b1b8bc2ec610",
       "version_major": 2,
       "version_minor": 0
      },
      "text/plain": [
       "Skipping hz2.newds: already downloaded.: 100%|##########| 234/234 [00:00<?, ?B/s]"
      ]
     },
     "metadata": {},
     "output_type": "display_data"
    },
    {
     "data": {
      "application/vnd.jupyter.widget-view+json": {
       "model_id": "44544f35cf8d46be95461ef235a585d9",
       "version_major": 2,
       "version_minor": 0
      },
      "text/plain": [
       "Skipping ChannelGroupSet.cfg: already downloaded.: 100%|##########| 2.05k/2.05k [00:00<?, ?B/s]"
      ]
     },
     "metadata": {},
     "output_type": "display_data"
    },
    {
     "data": {
      "application/vnd.jupyter.widget-view+json": {
       "model_id": "adfce33c458e40bca4ce0eeafb2cc564",
       "version_major": 2,
       "version_minor": 0
      },
      "text/plain": [
       "Skipping sub-02_ses-01_task-WorkingMemory_run-07_meg.newds: already downloaded.: 100%|##########| 376/376 [00:…"
      ]
     },
     "metadata": {},
     "output_type": "display_data"
    },
    {
     "data": {
      "application/vnd.jupyter.widget-view+json": {
       "model_id": "4e565fa734664deeb20e659b218bd64e",
       "version_major": 2,
       "version_minor": 0
      },
      "text/plain": [
       "Skipping sub-02_ses-01_task-WorkingMemory_run-07_meg.hist: already downloaded.: 100%|##########| 478/478 [00:0…"
      ]
     },
     "metadata": {},
     "output_type": "display_data"
    },
    {
     "data": {
      "application/vnd.jupyter.widget-view+json": {
       "model_id": "47801634198e45f4964b2dd687828315",
       "version_major": 2,
       "version_minor": 0
      },
      "text/plain": [
       "Skipping sub-03_ses-01_task-WorkingMemory_run-07_meg.acq: already downloaded.: 100%|##########| 43.1k/43.1k [0…"
      ]
     },
     "metadata": {},
     "output_type": "display_data"
    },
    {
     "data": {
      "application/vnd.jupyter.widget-view+json": {
       "model_id": "9469e70f14cc4bf19eee28f417d46f1f",
       "version_major": 2,
       "version_minor": 0
      },
      "text/plain": [
       "Skipping BadChannels: already downloaded.: 0.00B [00:00, ?B/s]"
      ]
     },
     "metadata": {},
     "output_type": "display_data"
    },
    {
     "data": {
      "application/vnd.jupyter.widget-view+json": {
       "model_id": "36305dfd319149d080aef53035e6d856",
       "version_major": 2,
       "version_minor": 0
      },
      "text/plain": [
       "Skipping sub-03_ses-01_task-WorkingMemory_run-07_meg.bak: already downloaded.: 100%|##########| 2.42k/2.42k [0…"
      ]
     },
     "metadata": {},
     "output_type": "display_data"
    },
    {
     "data": {
      "application/vnd.jupyter.widget-view+json": {
       "model_id": "d2ef956277594c26ab120a2c2e93dd7a",
       "version_major": 2,
       "version_minor": 0
      },
      "text/plain": [
       "Skipping sub-02_ses-01_task-WorkingMemory_run-07_meg.res4: already downloaded.: 100%|##########| 3.04M/3.04M […"
      ]
     },
     "metadata": {},
     "output_type": "display_data"
    },
    {
     "name": "stdout",
     "output_type": "stream",
     "text": [
      "🔄 Request timed out while downloading /Users/cheylus/Documents/Formations/mne_cutting_gardens2023/mne_lyon_garden_2023/bids_data/sub-03/ses-01/meg/sub-03_ses-01_task-WorkingMemory_run-06_meg.ds/hz.ds/hz.newds, retrying in 0.5 sec …\n"
     ]
    },
    {
     "data": {
      "application/vnd.jupyter.widget-view+json": {
       "model_id": "bdc4e7eec96a41b4b343f16e890fc871",
       "version_major": 2,
       "version_minor": 0
      },
      "text/plain": [
       "Skipping sub-03_ses-01_task-WorkingMemory_run-07_meg.eeg: already downloaded.: 0.00B [00:00, ?B/s]"
      ]
     },
     "metadata": {},
     "output_type": "display_data"
    },
    {
     "data": {
      "application/vnd.jupyter.widget-view+json": {
       "model_id": "e17a7fa65c0049c1b4b8dff9e456d561",
       "version_major": 2,
       "version_minor": 0
      },
      "text/plain": [
       "Skipping sub-03_ses-01_task-WorkingMemory_run-07_meg.hist: already downloaded.: 100%|##########| 478/478 [00:0…"
      ]
     },
     "metadata": {},
     "output_type": "display_data"
    },
    {
     "data": {
      "application/vnd.jupyter.widget-view+json": {
       "model_id": "643dacea29b74d81b841c12a0ae8d336",
       "version_major": 2,
       "version_minor": 0
      },
      "text/plain": [
       "Skipping hz.hc: already downloaded.: 100%|##########| 65.0/65.0 [00:00<?, ?B/s]"
      ]
     },
     "metadata": {},
     "output_type": "display_data"
    },
    {
     "data": {
      "application/vnd.jupyter.widget-view+json": {
       "model_id": "0559c2d895944d00bd1e707208b382f0",
       "version_major": 2,
       "version_minor": 0
      },
      "text/plain": [
       "Skipping sub-03_ses-01_task-WorkingMemory_run-07_meg.infods: already downloaded.: 100%|##########| 2.42k/2.42k…"
      ]
     },
     "metadata": {},
     "output_type": "display_data"
    },
    {
     "data": {
      "application/vnd.jupyter.widget-view+json": {
       "model_id": "439b79204eb34aa2b8420a593db32633",
       "version_major": 2,
       "version_minor": 0
      },
      "text/plain": [
       "Skipping hz.infods: already downloaded.: 100%|##########| 2.24k/2.24k [00:00<?, ?B/s]"
      ]
     },
     "metadata": {},
     "output_type": "display_data"
    },
    {
     "data": {
      "application/vnd.jupyter.widget-view+json": {
       "model_id": "be6b84e9717445869d781e912d67403c",
       "version_major": 2,
       "version_minor": 0
      },
      "text/plain": [
       "Skipping sub-03_ses-01_task-WorkingMemory_run-07_meg.hc: already downloaded.: 100%|##########| 862/862 [00:00<…"
      ]
     },
     "metadata": {},
     "output_type": "display_data"
    },
    {
     "data": {
      "application/vnd.jupyter.widget-view+json": {
       "model_id": "04d6450002c04c6a8bfdb1a878a747d8",
       "version_major": 2,
       "version_minor": 0
      },
      "text/plain": [
       "Skipping hz.meg4: already downloaded.: 100%|##########| 1.02M/1.02M [00:00<?, ?B/s]"
      ]
     },
     "metadata": {},
     "output_type": "display_data"
    },
    {
     "data": {
      "application/vnd.jupyter.widget-view+json": {
       "model_id": "fa81ada8b01e47d2815151851780c6a4",
       "version_major": 2,
       "version_minor": 0
      },
      "text/plain": [
       "Skipping hz.hist: already downloaded.: 100%|##########| 1.00/1.00 [00:00<?, ?B/s]"
      ]
     },
     "metadata": {},
     "output_type": "display_data"
    },
    {
     "data": {
      "application/vnd.jupyter.widget-view+json": {
       "model_id": "4eff2a923bea4f268f75e93217f6ea02",
       "version_major": 2,
       "version_minor": 0
      },
      "text/plain": [
       "Skipping hz.acq: already downloaded.: 100%|##########| 35.2k/35.2k [00:00<?, ?B/s]"
      ]
     },
     "metadata": {},
     "output_type": "display_data"
    },
    {
     "data": {
      "application/vnd.jupyter.widget-view+json": {
       "model_id": "064079b8c1af4686a9c5cc0eba7fec51",
       "version_major": 2,
       "version_minor": 0
      },
      "text/plain": [
       "Skipping sub-03_ses-01_task-WorkingMemory_run-07_meg.newds: already downloaded.: 100%|##########| 376/376 [00:…"
      ]
     },
     "metadata": {},
     "output_type": "display_data"
    },
    {
     "data": {
      "application/vnd.jupyter.widget-view+json": {
       "model_id": "faa6113af23543fd9642eeef75bc9c9c",
       "version_major": 2,
       "version_minor": 0
      },
      "text/plain": [
       "Skipping hz.newds: already downloaded.: 100%|##########| 234/234 [00:00<?, ?B/s]"
      ]
     },
     "metadata": {},
     "output_type": "display_data"
    },
    {
     "data": {
      "application/vnd.jupyter.widget-view+json": {
       "model_id": "641de9cd606d45858fce40495fcd95bb",
       "version_major": 2,
       "version_minor": 0
      },
      "text/plain": [
       "Skipping sub-03_ses-01_task-WorkingMemory_run-07_meg.res4: already downloaded.: 100%|##########| 3.04M/3.04M […"
      ]
     },
     "metadata": {},
     "output_type": "display_data"
    },
    {
     "data": {
      "application/vnd.jupyter.widget-view+json": {
       "model_id": "80f62b1927014ed0b93441ce4cc2c84d",
       "version_major": 2,
       "version_minor": 0
      },
      "text/plain": [
       "Skipping BadChannels: already downloaded.: 0.00B [00:00, ?B/s]"
      ]
     },
     "metadata": {},
     "output_type": "display_data"
    },
    {
     "data": {
      "application/vnd.jupyter.widget-view+json": {
       "model_id": "8d4f7bad56884bb3a3bb85b2ffd4dd30",
       "version_major": 2,
       "version_minor": 0
      },
      "text/plain": [
       "Skipping hz.hc: already downloaded.: 100%|##########| 65.0/65.0 [00:00<?, ?B/s]"
      ]
     },
     "metadata": {},
     "output_type": "display_data"
    },
    {
     "data": {
      "application/vnd.jupyter.widget-view+json": {
       "model_id": "1a814713d3b54a84924989b4691883b6",
       "version_major": 2,
       "version_minor": 0
      },
      "text/plain": [
       "Skipping hz.acq: already downloaded.: 100%|##########| 35.2k/35.2k [00:00<?, ?B/s]"
      ]
     },
     "metadata": {},
     "output_type": "display_data"
    },
    {
     "data": {
      "application/vnd.jupyter.widget-view+json": {
       "model_id": "14dd0f09073c463d97be182f11a77258",
       "version_major": 2,
       "version_minor": 0
      },
      "text/plain": [
       "Skipping hz2.acq: already downloaded.: 100%|##########| 35.2k/35.2k [00:00<?, ?B/s]"
      ]
     },
     "metadata": {},
     "output_type": "display_data"
    },
    {
     "data": {
      "application/vnd.jupyter.widget-view+json": {
       "model_id": "f6605d49585d41bb8abf5ae3b6c809db",
       "version_major": 2,
       "version_minor": 0
      },
      "text/plain": [
       "Skipping hz2.hc: already downloaded.: 100%|##########| 65.0/65.0 [00:00<?, ?B/s]"
      ]
     },
     "metadata": {},
     "output_type": "display_data"
    },
    {
     "data": {
      "application/vnd.jupyter.widget-view+json": {
       "model_id": "d16a47f3833447d6abfab996194fb161",
       "version_major": 2,
       "version_minor": 0
      },
      "text/plain": [
       "Skipping hz.hist: already downloaded.: 100%|##########| 1.00/1.00 [00:00<?, ?B/s]"
      ]
     },
     "metadata": {},
     "output_type": "display_data"
    },
    {
     "data": {
      "application/vnd.jupyter.widget-view+json": {
       "model_id": "041ac7560a2046e29f75fd88906bc38e",
       "version_major": 2,
       "version_minor": 0
      },
      "text/plain": [
       "Skipping hz2.hist: already downloaded.: 100%|##########| 1.00/1.00 [00:00<?, ?B/s]"
      ]
     },
     "metadata": {},
     "output_type": "display_data"
    },
    {
     "data": {
      "application/vnd.jupyter.widget-view+json": {
       "model_id": "24f95f7dbb6c45f6a32ac9010b0d7057",
       "version_major": 2,
       "version_minor": 0
      },
      "text/plain": [
       "Skipping BadChannels: already downloaded.: 0.00B [00:00, ?B/s]"
      ]
     },
     "metadata": {},
     "output_type": "display_data"
    },
    {
     "data": {
      "application/vnd.jupyter.widget-view+json": {
       "model_id": "3e5a93b6327f4e0b985feee6368b4a40",
       "version_major": 2,
       "version_minor": 0
      },
      "text/plain": [
       "Skipping hz.infods: already downloaded.: 100%|##########| 2.24k/2.24k [00:00<?, ?B/s]"
      ]
     },
     "metadata": {},
     "output_type": "display_data"
    },
    {
     "data": {
      "application/vnd.jupyter.widget-view+json": {
       "model_id": "21b0af4c4d5d4af19f01481a2c497580",
       "version_major": 2,
       "version_minor": 0
      },
      "text/plain": [
       "Skipping hz.meg4: already downloaded.: 100%|##########| 1.02M/1.02M [00:00<?, ?B/s]"
      ]
     },
     "metadata": {},
     "output_type": "display_data"
    },
    {
     "data": {
      "application/vnd.jupyter.widget-view+json": {
       "model_id": "1440d83eb79943ea9701d8705c30e0cd",
       "version_major": 2,
       "version_minor": 0
      },
      "text/plain": [
       "Skipping BadChannels: already downloaded.: 0.00B [00:00, ?B/s]"
      ]
     },
     "metadata": {},
     "output_type": "display_data"
    },
    {
     "data": {
      "application/vnd.jupyter.widget-view+json": {
       "model_id": "0545a2f0e0c94cb0a37fd7016ae77a35",
       "version_major": 2,
       "version_minor": 0
      },
      "text/plain": [
       "Skipping hz.newds: already downloaded.: 100%|##########| 234/234 [00:00<?, ?B/s]"
      ]
     },
     "metadata": {},
     "output_type": "display_data"
    },
    {
     "data": {
      "application/vnd.jupyter.widget-view+json": {
       "model_id": "76c0321cbcb34f7d9fcce44c55714a14",
       "version_major": 2,
       "version_minor": 0
      },
      "text/plain": [
       "Skipping hz2.infods: already downloaded.: 100%|##########| 2.24k/2.24k [00:00<?, ?B/s]"
      ]
     },
     "metadata": {},
     "output_type": "display_data"
    },
    {
     "data": {
      "application/vnd.jupyter.widget-view+json": {
       "model_id": "3784c61814284de5b7c0a29adc0b4e13",
       "version_major": 2,
       "version_minor": 0
      },
      "text/plain": [
       "Skipping hz2.newds: already downloaded.: 100%|##########| 234/234 [00:00<?, ?B/s]"
      ]
     },
     "metadata": {},
     "output_type": "display_data"
    },
    {
     "data": {
      "application/vnd.jupyter.widget-view+json": {
       "model_id": "46c582d291ed4957a9aa89730e9b3905",
       "version_major": 2,
       "version_minor": 0
      },
      "text/plain": [
       "Skipping hz.res4: already downloaded.: 100%|##########| 2.95M/2.95M [00:00<?, ?B/s]"
      ]
     },
     "metadata": {},
     "output_type": "display_data"
    },
    {
     "data": {
      "application/vnd.jupyter.widget-view+json": {
       "model_id": "c122c237056a472f9dc0b33f403c6deb",
       "version_major": 2,
       "version_minor": 0
      },
      "text/plain": [
       "Skipping hz2.meg4: already downloaded.: 100%|##########| 1.02M/1.02M [00:00<?, ?B/s]"
      ]
     },
     "metadata": {},
     "output_type": "display_data"
    },
    {
     "data": {
      "application/vnd.jupyter.widget-view+json": {
       "model_id": "387ecbbbd3d449858cf5d02447dca2dc",
       "version_major": 2,
       "version_minor": 0
      },
      "text/plain": [
       "Skipping hz.res4: already downloaded.: 100%|##########| 2.95M/2.95M [00:00<?, ?B/s]"
      ]
     },
     "metadata": {},
     "output_type": "display_data"
    },
    {
     "data": {
      "application/vnd.jupyter.widget-view+json": {
       "model_id": "fda86ecc3f694958a4971d478ad7fd48",
       "version_major": 2,
       "version_minor": 0
      },
      "text/plain": [
       "Skipping hz2.res4: already downloaded.: 100%|##########| 2.95M/2.95M [00:00<?, ?B/s]"
      ]
     },
     "metadata": {},
     "output_type": "display_data"
    },
    {
     "name": "stdout",
     "output_type": "stream",
     "text": [
      "<Task pending name='Task-252' coro=<_download_file() running at /Users/cheylus/.virtualenvs/py311-mne_septembre/lib/python3.11/site-packages/openneuro/_download.py:283> wait_for=<Future pending cb=[Task.task_wakeup()]> cb=[gather.<locals>._done_callback() at /usr/local/Cellar/python@3.11/3.11.4_1/Frameworks/Python.framework/Versions/3.11/lib/python3.11/asyncio/tasks.py:754]>\n"
     ]
    },
    {
     "data": {
      "application/vnd.jupyter.widget-view+json": {
       "model_id": "67737e1300594b379bc95e921e951bb4",
       "version_major": 2,
       "version_minor": 0
      },
      "text/plain": [
       "Skipping hz2.hc: already downloaded.: 100%|##########| 65.0/65.0 [00:00<?, ?B/s]"
      ]
     },
     "metadata": {},
     "output_type": "display_data"
    },
    {
     "data": {
      "application/vnd.jupyter.widget-view+json": {
       "model_id": "304c26aa402a4d8e832aca877555d22b",
       "version_major": 2,
       "version_minor": 0
      },
      "text/plain": [
       "Skipping hz2.acq: already downloaded.: 100%|##########| 35.2k/35.2k [00:00<?, ?B/s]"
      ]
     },
     "metadata": {},
     "output_type": "display_data"
    },
    {
     "data": {
      "application/vnd.jupyter.widget-view+json": {
       "model_id": "c25b582fd1b8421dbc97949d8c318587",
       "version_major": 2,
       "version_minor": 0
      },
      "text/plain": [
       "Skipping ChannelGroupSet.cfg: already downloaded.: 100%|##########| 2.05k/2.05k [00:00<?, ?B/s]"
      ]
     },
     "metadata": {},
     "output_type": "display_data"
    },
    {
     "data": {
      "application/vnd.jupyter.widget-view+json": {
       "model_id": "840cd833b9374d1587a7c74fb557b140",
       "version_major": 2,
       "version_minor": 0
      },
      "text/plain": [
       "Skipping hz2.hist: already downloaded.: 100%|##########| 1.00/1.00 [00:00<?, ?B/s]"
      ]
     },
     "metadata": {},
     "output_type": "display_data"
    },
    {
     "data": {
      "application/vnd.jupyter.widget-view+json": {
       "model_id": "c7b88cc0ced24cf1bafd5fb1e3f18944",
       "version_major": 2,
       "version_minor": 0
      },
      "text/plain": [
       "Skipping MarkerFile.mrk: already downloaded.: 100%|##########| 9.50k/9.50k [00:00<?, ?B/s]"
      ]
     },
     "metadata": {},
     "output_type": "display_data"
    },
    {
     "data": {
      "application/vnd.jupyter.widget-view+json": {
       "model_id": "1aa7b16b7f11480d9b8175d47e0e6309",
       "version_major": 2,
       "version_minor": 0
      },
      "text/plain": [
       "Skipping hz2.infods: already downloaded.: 100%|##########| 2.24k/2.24k [00:00<?, ?B/s]"
      ]
     },
     "metadata": {},
     "output_type": "display_data"
    },
    {
     "data": {
      "application/vnd.jupyter.widget-view+json": {
       "model_id": "1bd8c4cb4eac43469816f84868841dcf",
       "version_major": 2,
       "version_minor": 0
      },
      "text/plain": [
       "Skipping ClassFile.cls: already downloaded.: 100%|##########| 270/270 [00:00<?, ?B/s]"
      ]
     },
     "metadata": {},
     "output_type": "display_data"
    },
    {
     "data": {
      "application/vnd.jupyter.widget-view+json": {
       "model_id": "9025ba176a21454bbe1e948b19423623",
       "version_major": 2,
       "version_minor": 0
      },
      "text/plain": [
       "Skipping bad.segments: already downloaded.: 0.00B [00:00, ?B/s]"
      ]
     },
     "metadata": {},
     "output_type": "display_data"
    },
    {
     "data": {
      "application/vnd.jupyter.widget-view+json": {
       "model_id": "0d68dc8bfa774a3994166c53e14e633c",
       "version_major": 2,
       "version_minor": 0
      },
      "text/plain": [
       "Skipping hz2.meg4: already downloaded.: 100%|##########| 1.02M/1.02M [00:00<?, ?B/s]"
      ]
     },
     "metadata": {},
     "output_type": "display_data"
    },
    {
     "data": {
      "application/vnd.jupyter.widget-view+json": {
       "model_id": "3cd09c1cbd55443197062352c1df2e85",
       "version_major": 2,
       "version_minor": 0
      },
      "text/plain": [
       "Skipping sub-02_ses-01_task-WorkingMemory_run-08_meg.acq: already downloaded.: 100%|##########| 43.1k/43.1k [0…"
      ]
     },
     "metadata": {},
     "output_type": "display_data"
    },
    {
     "data": {
      "application/vnd.jupyter.widget-view+json": {
       "model_id": "888ada386a6c49cc91cc7ad638c28b7c",
       "version_major": 2,
       "version_minor": 0
      },
      "text/plain": [
       "Skipping hz2.newds: already downloaded.: 100%|##########| 234/234 [00:00<?, ?B/s]"
      ]
     },
     "metadata": {},
     "output_type": "display_data"
    },
    {
     "data": {
      "application/vnd.jupyter.widget-view+json": {
       "model_id": "56fff61267144cedb9572f949075ddc8",
       "version_major": 2,
       "version_minor": 0
      },
      "text/plain": [
       "Skipping sub-02_ses-01_task-WorkingMemory_run-08_meg.bak: already downloaded.: 100%|##########| 2.42k/2.42k [0…"
      ]
     },
     "metadata": {},
     "output_type": "display_data"
    },
    {
     "data": {
      "application/vnd.jupyter.widget-view+json": {
       "model_id": "5d31f942164e422b86d864cf304532b1",
       "version_major": 2,
       "version_minor": 0
      },
      "text/plain": [
       "Skipping sub-02_ses-01_task-WorkingMemory_run-08_meg.eeg: already downloaded.: 0.00B [00:00, ?B/s]"
      ]
     },
     "metadata": {},
     "output_type": "display_data"
    },
    {
     "data": {
      "application/vnd.jupyter.widget-view+json": {
       "model_id": "afeb12317cd3495cbd149b2918ec04d9",
       "version_major": 2,
       "version_minor": 0
      },
      "text/plain": [
       "Skipping ChannelGroupSet.cfg: already downloaded.: 100%|##########| 2.05k/2.05k [00:00<?, ?B/s]"
      ]
     },
     "metadata": {},
     "output_type": "display_data"
    },
    {
     "data": {
      "application/vnd.jupyter.widget-view+json": {
       "model_id": "2d620b31a0ba4d2f9f37f6e87c4aed15",
       "version_major": 2,
       "version_minor": 0
      },
      "text/plain": [
       "Skipping ClassFile.cls: already downloaded.: 100%|##########| 270/270 [00:00<?, ?B/s]"
      ]
     },
     "metadata": {},
     "output_type": "display_data"
    },
    {
     "data": {
      "application/vnd.jupyter.widget-view+json": {
       "model_id": "486f841ada4747948d864575b7d08a4e",
       "version_major": 2,
       "version_minor": 0
      },
      "text/plain": [
       "Skipping sub-02_ses-01_task-WorkingMemory_run-08_meg.hc: already downloaded.: 100%|##########| 856/856 [00:00<…"
      ]
     },
     "metadata": {},
     "output_type": "display_data"
    },
    {
     "data": {
      "application/vnd.jupyter.widget-view+json": {
       "model_id": "9a75223f3c854628944a8b2fe981470c",
       "version_major": 2,
       "version_minor": 0
      },
      "text/plain": [
       "Skipping sub-02_ses-01_task-WorkingMemory_run-08_meg.hist: already downloaded.: 100%|##########| 478/478 [00:0…"
      ]
     },
     "metadata": {},
     "output_type": "display_data"
    },
    {
     "data": {
      "application/vnd.jupyter.widget-view+json": {
       "model_id": "26f837426bbb41f2aaa64657c992419d",
       "version_major": 2,
       "version_minor": 0
      },
      "text/plain": [
       "Skipping hz2.res4: already downloaded.: 100%|##########| 2.95M/2.95M [00:00<?, ?B/s]"
      ]
     },
     "metadata": {},
     "output_type": "display_data"
    },
    {
     "data": {
      "application/vnd.jupyter.widget-view+json": {
       "model_id": "8e4932cc915a4c6abcda47edd86b8ea0",
       "version_major": 2,
       "version_minor": 0
      },
      "text/plain": [
       "Skipping sub-02_ses-01_task-WorkingMemory_run-08_meg.infods: already downloaded.: 100%|##########| 2.42k/2.42k…"
      ]
     },
     "metadata": {},
     "output_type": "display_data"
    },
    {
     "data": {
      "application/vnd.jupyter.widget-view+json": {
       "model_id": "31e6ae1ddade4782b5c931affe1557b9",
       "version_major": 2,
       "version_minor": 0
      },
      "text/plain": [
       "Skipping MarkerFile.mrk: already downloaded.: 100%|##########| 9.59k/9.59k [00:00<?, ?B/s]"
      ]
     },
     "metadata": {},
     "output_type": "display_data"
    },
    {
     "data": {
      "application/vnd.jupyter.widget-view+json": {
       "model_id": "23de2a67e57e42fd8b664be74fa12208",
       "version_major": 2,
       "version_minor": 0
      },
      "text/plain": [
       "Skipping bad.segments: already downloaded.: 0.00B [00:00, ?B/s]"
      ]
     },
     "metadata": {},
     "output_type": "display_data"
    },
    {
     "data": {
      "application/vnd.jupyter.widget-view+json": {
       "model_id": "da121b8847904b2f855be12d0b24f4ac",
       "version_major": 2,
       "version_minor": 0
      },
      "text/plain": [
       "Skipping sub-03_ses-01_task-WorkingMemory_run-08_meg.bak: already downloaded.: 100%|##########| 2.42k/2.42k [0…"
      ]
     },
     "metadata": {},
     "output_type": "display_data"
    },
    {
     "data": {
      "application/vnd.jupyter.widget-view+json": {
       "model_id": "e752fe280a7b49fc9f4adf876fff971a",
       "version_major": 2,
       "version_minor": 0
      },
      "text/plain": [
       "Skipping sub-02_ses-01_task-WorkingMemory_run-08_meg.newds: already downloaded.: 100%|##########| 376/376 [00:…"
      ]
     },
     "metadata": {},
     "output_type": "display_data"
    },
    {
     "data": {
      "application/vnd.jupyter.widget-view+json": {
       "model_id": "c9b9b018c8c04a2fad6b865d8e7ebe7b",
       "version_major": 2,
       "version_minor": 0
      },
      "text/plain": [
       "Skipping sub-03_ses-01_task-WorkingMemory_run-08_meg.eeg: already downloaded.: 0.00B [00:00, ?B/s]"
      ]
     },
     "metadata": {},
     "output_type": "display_data"
    },
    {
     "data": {
      "application/vnd.jupyter.widget-view+json": {
       "model_id": "0c921a38cb414b9bac56ef0586339d71",
       "version_major": 2,
       "version_minor": 0
      },
      "text/plain": [
       "Skipping sub-02_ses-01_task-WorkingMemory_run-08_meg.res4: already downloaded.: 100%|##########| 3.04M/3.04M […"
      ]
     },
     "metadata": {},
     "output_type": "display_data"
    },
    {
     "data": {
      "application/vnd.jupyter.widget-view+json": {
       "model_id": "7ce75e3f199e4bf5a2f0ee897450dd34",
       "version_major": 2,
       "version_minor": 0
      },
      "text/plain": [
       "Skipping sub-02_ses-01_task-WorkingMemory_run-07_meg.meg4: already downloaded.: 100%|##########| 412M/412M [00…"
      ]
     },
     "metadata": {},
     "output_type": "display_data"
    },
    {
     "data": {
      "application/vnd.jupyter.widget-view+json": {
       "model_id": "7a98f6a3395d434abe47abc7eaa18b89",
       "version_major": 2,
       "version_minor": 0
      },
      "text/plain": [
       "Skipping sub-03_ses-01_task-WorkingMemory_run-08_meg.acq: already downloaded.: 100%|##########| 43.1k/43.1k [0…"
      ]
     },
     "metadata": {},
     "output_type": "display_data"
    },
    {
     "data": {
      "application/vnd.jupyter.widget-view+json": {
       "model_id": "86490c0ba808485c9ffda2f34e9ae985",
       "version_major": 2,
       "version_minor": 0
      },
      "text/plain": [
       "Skipping sub-03_ses-01_task-WorkingMemory_run-07_meg.meg4: already downloaded.: 100%|##########| 364M/364M [00…"
      ]
     },
     "metadata": {},
     "output_type": "display_data"
    },
    {
     "data": {
      "application/vnd.jupyter.widget-view+json": {
       "model_id": "c4d9cede9a8d4ecfa2d55bfcc378e77f",
       "version_major": 2,
       "version_minor": 0
      },
      "text/plain": [
       "Skipping sub-03_ses-01_task-WorkingMemory_run-08_meg.hist: already downloaded.: 100%|##########| 478/478 [00:0…"
      ]
     },
     "metadata": {},
     "output_type": "display_data"
    },
    {
     "data": {
      "application/vnd.jupyter.widget-view+json": {
       "model_id": "25d029c363794b059c2517c8613dcf5b",
       "version_major": 2,
       "version_minor": 0
      },
      "text/plain": [
       "Skipping hz.acq: already downloaded.: 100%|##########| 35.2k/35.2k [00:00<?, ?B/s]"
      ]
     },
     "metadata": {},
     "output_type": "display_data"
    },
    {
     "data": {
      "application/vnd.jupyter.widget-view+json": {
       "model_id": "c55a8c9aa3f944a19aa2c71343e4afb4",
       "version_major": 2,
       "version_minor": 0
      },
      "text/plain": [
       "Skipping sub-03_ses-01_task-WorkingMemory_run-08_meg.hc: already downloaded.: 100%|##########| 863/863 [00:00<…"
      ]
     },
     "metadata": {},
     "output_type": "display_data"
    },
    {
     "data": {
      "application/vnd.jupyter.widget-view+json": {
       "model_id": "5c39676393844a089f79eccc7c5428fa",
       "version_major": 2,
       "version_minor": 0
      },
      "text/plain": [
       "Skipping BadChannels: already downloaded.: 0.00B [00:00, ?B/s]"
      ]
     },
     "metadata": {},
     "output_type": "display_data"
    },
    {
     "data": {
      "application/vnd.jupyter.widget-view+json": {
       "model_id": "81ff409f24a247a58fc3b8ce16828d33",
       "version_major": 2,
       "version_minor": 0
      },
      "text/plain": [
       "Skipping sub-03_ses-01_task-WorkingMemory_run-08_meg.infods: already downloaded.: 100%|##########| 2.42k/2.42k…"
      ]
     },
     "metadata": {},
     "output_type": "display_data"
    },
    {
     "data": {
      "application/vnd.jupyter.widget-view+json": {
       "model_id": "78e9c50595ed4c6e884183566fc48184",
       "version_major": 2,
       "version_minor": 0
      },
      "text/plain": [
       "Skipping hz.hist: already downloaded.: 100%|##########| 1.00/1.00 [00:00<?, ?B/s]"
      ]
     },
     "metadata": {},
     "output_type": "display_data"
    },
    {
     "data": {
      "application/vnd.jupyter.widget-view+json": {
       "model_id": "7774ce7fc2144659b863843727d554ef",
       "version_major": 2,
       "version_minor": 0
      },
      "text/plain": [
       "Skipping sub-03_ses-01_task-WorkingMemory_run-08_meg.newds: already downloaded.: 100%|##########| 376/376 [00:…"
      ]
     },
     "metadata": {},
     "output_type": "display_data"
    },
    {
     "data": {
      "application/vnd.jupyter.widget-view+json": {
       "model_id": "bb8b4f6eb4ae47fdaffd3e3cb81ed54b",
       "version_major": 2,
       "version_minor": 0
      },
      "text/plain": [
       "Skipping hz.infods: already downloaded.: 100%|##########| 2.24k/2.24k [00:00<?, ?B/s]"
      ]
     },
     "metadata": {},
     "output_type": "display_data"
    },
    {
     "data": {
      "application/vnd.jupyter.widget-view+json": {
       "model_id": "fb7fabec42ff4c069f110f7470defc4e",
       "version_major": 2,
       "version_minor": 0
      },
      "text/plain": [
       "Skipping sub-03_ses-01_task-WorkingMemory_run-08_meg.res4: already downloaded.: 100%|##########| 3.04M/3.04M […"
      ]
     },
     "metadata": {},
     "output_type": "display_data"
    },
    {
     "data": {
      "application/vnd.jupyter.widget-view+json": {
       "model_id": "e43c74785366446985aa9f71b3451d46",
       "version_major": 2,
       "version_minor": 0
      },
      "text/plain": [
       "Skipping BadChannels: already downloaded.: 0.00B [00:00, ?B/s]"
      ]
     },
     "metadata": {},
     "output_type": "display_data"
    },
    {
     "data": {
      "application/vnd.jupyter.widget-view+json": {
       "model_id": "82ae913970b54b05858bf58c44ec8b8c",
       "version_major": 2,
       "version_minor": 0
      },
      "text/plain": [
       "Skipping hz.newds: already downloaded.: 100%|##########| 234/234 [00:00<?, ?B/s]"
      ]
     },
     "metadata": {},
     "output_type": "display_data"
    },
    {
     "data": {
      "application/vnd.jupyter.widget-view+json": {
       "model_id": "c725e01e3c5f4a02b2da843d8374ff06",
       "version_major": 2,
       "version_minor": 0
      },
      "text/plain": [
       "Skipping hz.acq: already downloaded.: 100%|##########| 35.2k/35.2k [00:00<?, ?B/s]"
      ]
     },
     "metadata": {},
     "output_type": "display_data"
    },
    {
     "data": {
      "application/vnd.jupyter.widget-view+json": {
       "model_id": "61e0b5383bf74e99b84fffe668e0d63e",
       "version_major": 2,
       "version_minor": 0
      },
      "text/plain": [
       "Skipping hz.hc: already downloaded.: 100%|##########| 65.0/65.0 [00:00<?, ?B/s]"
      ]
     },
     "metadata": {},
     "output_type": "display_data"
    },
    {
     "data": {
      "application/vnd.jupyter.widget-view+json": {
       "model_id": "bcfb2bd4b6bb40e9a357de1542140c19",
       "version_major": 2,
       "version_minor": 0
      },
      "text/plain": [
       "Skipping hz.meg4: already downloaded.: 100%|##########| 1.02M/1.02M [00:00<?, ?B/s]"
      ]
     },
     "metadata": {},
     "output_type": "display_data"
    },
    {
     "data": {
      "application/vnd.jupyter.widget-view+json": {
       "model_id": "4381af5ad8194f72bca4e3770198f084",
       "version_major": 2,
       "version_minor": 0
      },
      "text/plain": [
       "Skipping hz.hc: already downloaded.: 100%|##########| 65.0/65.0 [00:00<?, ?B/s]"
      ]
     },
     "metadata": {},
     "output_type": "display_data"
    },
    {
     "data": {
      "application/vnd.jupyter.widget-view+json": {
       "model_id": "ef0c57d9bbc5420b9786a73c044c1126",
       "version_major": 2,
       "version_minor": 0
      },
      "text/plain": [
       "Skipping hz.hist: already downloaded.: 100%|##########| 1.00/1.00 [00:00<?, ?B/s]"
      ]
     },
     "metadata": {},
     "output_type": "display_data"
    },
    {
     "data": {
      "application/vnd.jupyter.widget-view+json": {
       "model_id": "3de5d4fbf834490fb716011f1cb31b80",
       "version_major": 2,
       "version_minor": 0
      },
      "text/plain": [
       "Skipping BadChannels: already downloaded.: 0.00B [00:00, ?B/s]"
      ]
     },
     "metadata": {},
     "output_type": "display_data"
    },
    {
     "data": {
      "application/vnd.jupyter.widget-view+json": {
       "model_id": "006f9082331646a98aff1c37b6744173",
       "version_major": 2,
       "version_minor": 0
      },
      "text/plain": [
       "Skipping hz.res4: already downloaded.: 100%|##########| 2.95M/2.95M [00:00<?, ?B/s]"
      ]
     },
     "metadata": {},
     "output_type": "display_data"
    },
    {
     "data": {
      "application/vnd.jupyter.widget-view+json": {
       "model_id": "57f07c3eff8b406fb156ba0c6ec3bbb8",
       "version_major": 2,
       "version_minor": 0
      },
      "text/plain": [
       "Skipping hz.infods: already downloaded.: 100%|##########| 2.24k/2.24k [00:00<?, ?B/s]"
      ]
     },
     "metadata": {},
     "output_type": "display_data"
    },
    {
     "data": {
      "application/vnd.jupyter.widget-view+json": {
       "model_id": "9eb6140af42445ba90aa015fbbb0d83f",
       "version_major": 2,
       "version_minor": 0
      },
      "text/plain": [
       "Skipping hz2.acq: already downloaded.: 100%|##########| 35.2k/35.2k [00:00<?, ?B/s]"
      ]
     },
     "metadata": {},
     "output_type": "display_data"
    },
    {
     "data": {
      "application/vnd.jupyter.widget-view+json": {
       "model_id": "775c823489b046cf9e07a8240d32e8cf",
       "version_major": 2,
       "version_minor": 0
      },
      "text/plain": [
       "Skipping hz.newds: already downloaded.: 100%|##########| 234/234 [00:00<?, ?B/s]"
      ]
     },
     "metadata": {},
     "output_type": "display_data"
    },
    {
     "data": {
      "application/vnd.jupyter.widget-view+json": {
       "model_id": "f6d89d094b7849eba6803a8109fa9963",
       "version_major": 2,
       "version_minor": 0
      },
      "text/plain": [
       "Skipping hz2.infods: already downloaded.: 100%|##########| 2.24k/2.24k [00:00<?, ?B/s]"
      ]
     },
     "metadata": {},
     "output_type": "display_data"
    },
    {
     "data": {
      "application/vnd.jupyter.widget-view+json": {
       "model_id": "e0c27929414649c69ce408015ce7ddf4",
       "version_major": 2,
       "version_minor": 0
      },
      "text/plain": [
       "Skipping BadChannels: already downloaded.: 0.00B [00:00, ?B/s]"
      ]
     },
     "metadata": {},
     "output_type": "display_data"
    },
    {
     "data": {
      "application/vnd.jupyter.widget-view+json": {
       "model_id": "5332fb9d84c24129b3d11147c02cdc19",
       "version_major": 2,
       "version_minor": 0
      },
      "text/plain": [
       "Skipping hz2.hist: already downloaded.: 100%|##########| 1.00/1.00 [00:00<?, ?B/s]"
      ]
     },
     "metadata": {},
     "output_type": "display_data"
    },
    {
     "data": {
      "application/vnd.jupyter.widget-view+json": {
       "model_id": "5082f12259a146fea156b8ff4f3b5c68",
       "version_major": 2,
       "version_minor": 0
      },
      "text/plain": [
       "Skipping hz2.hc: already downloaded.: 100%|##########| 65.0/65.0 [00:00<?, ?B/s]"
      ]
     },
     "metadata": {},
     "output_type": "display_data"
    },
    {
     "data": {
      "application/vnd.jupyter.widget-view+json": {
       "model_id": "a3c93ebb30864caebf96db8846506b6d",
       "version_major": 2,
       "version_minor": 0
      },
      "text/plain": [
       "Skipping hz.meg4: already downloaded.: 100%|##########| 1.02M/1.02M [00:00<?, ?B/s]"
      ]
     },
     "metadata": {},
     "output_type": "display_data"
    },
    {
     "data": {
      "application/vnd.jupyter.widget-view+json": {
       "model_id": "4eca7dd0b87c4944bcca2b7956f70fda",
       "version_major": 2,
       "version_minor": 0
      },
      "text/plain": [
       "Skipping hz2.meg4: already downloaded.: 100%|##########| 1.02M/1.02M [00:00<?, ?B/s]"
      ]
     },
     "metadata": {},
     "output_type": "display_data"
    },
    {
     "data": {
      "application/vnd.jupyter.widget-view+json": {
       "model_id": "1c08a09ce6af42ada054bddd255f8c34",
       "version_major": 2,
       "version_minor": 0
      },
      "text/plain": [
       "Skipping hz.res4: already downloaded.: 100%|##########| 2.95M/2.95M [00:00<?, ?B/s]"
      ]
     },
     "metadata": {},
     "output_type": "display_data"
    },
    {
     "data": {
      "application/vnd.jupyter.widget-view+json": {
       "model_id": "b91737fa753547f9a21bc57cbff850ff",
       "version_major": 2,
       "version_minor": 0
      },
      "text/plain": [
       "Skipping hz2.hc: already downloaded.: 100%|##########| 65.0/65.0 [00:00<?, ?B/s]"
      ]
     },
     "metadata": {},
     "output_type": "display_data"
    },
    {
     "data": {
      "application/vnd.jupyter.widget-view+json": {
       "model_id": "b5eb3d8254f94c26b93a7831104a2856",
       "version_major": 2,
       "version_minor": 0
      },
      "text/plain": [
       "Skipping hz2.acq: already downloaded.: 100%|##########| 35.2k/35.2k [00:00<?, ?B/s]"
      ]
     },
     "metadata": {},
     "output_type": "display_data"
    },
    {
     "data": {
      "application/vnd.jupyter.widget-view+json": {
       "model_id": "e4b94c7df7234978a94f641b1e6f150b",
       "version_major": 2,
       "version_minor": 0
      },
      "text/plain": [
       "Skipping hz2.infods: already downloaded.: 100%|##########| 2.24k/2.24k [00:00<?, ?B/s]"
      ]
     },
     "metadata": {},
     "output_type": "display_data"
    },
    {
     "data": {
      "application/vnd.jupyter.widget-view+json": {
       "model_id": "1513e2b8bded4f62ba0d366173635bd6",
       "version_major": 2,
       "version_minor": 0
      },
      "text/plain": [
       "Skipping hz2.newds: already downloaded.: 100%|##########| 234/234 [00:00<?, ?B/s]"
      ]
     },
     "metadata": {},
     "output_type": "display_data"
    },
    {
     "data": {
      "application/vnd.jupyter.widget-view+json": {
       "model_id": "730446834d9541b8aa66c1e09295f006",
       "version_major": 2,
       "version_minor": 0
      },
      "text/plain": [
       "Skipping hz2.hist: already downloaded.: 100%|##########| 1.00/1.00 [00:00<?, ?B/s]"
      ]
     },
     "metadata": {},
     "output_type": "display_data"
    },
    {
     "data": {
      "application/vnd.jupyter.widget-view+json": {
       "model_id": "878e8e6481974751bb808174723180e5",
       "version_major": 2,
       "version_minor": 0
      },
      "text/plain": [
       "Skipping hz2.res4: already downloaded.: 100%|##########| 2.95M/2.95M [00:00<?, ?B/s]"
      ]
     },
     "metadata": {},
     "output_type": "display_data"
    },
    {
     "data": {
      "application/vnd.jupyter.widget-view+json": {
       "model_id": "9d827e586098439bbbb8d4cbc2753340",
       "version_major": 2,
       "version_minor": 0
      },
      "text/plain": [
       "Re-downloading sub-02_ses-01_coordsystem.json: file hash mismatch.:   0%|          | 0.00/538 [00:00<?, ?B/s]"
      ]
     },
     "metadata": {},
     "output_type": "display_data"
    },
    {
     "data": {
      "application/vnd.jupyter.widget-view+json": {
       "model_id": "6b48debd681f4d958c4901d354c00ea6",
       "version_major": 2,
       "version_minor": 0
      },
      "text/plain": [
       "Skipping hz2.meg4: already downloaded.: 100%|##########| 1.02M/1.02M [00:00<?, ?B/s]"
      ]
     },
     "metadata": {},
     "output_type": "display_data"
    },
    {
     "data": {
      "application/vnd.jupyter.widget-view+json": {
       "model_id": "373c44bc15d84813ae4150a50dd82cc3",
       "version_major": 2,
       "version_minor": 0
      },
      "text/plain": [
       "Re-downloading sub-02_ses-01_task-WorkingMemory_run-02_channels.tsv: file size mismatch.: 0.00B [00:00, ?B/s]"
      ]
     },
     "metadata": {},
     "output_type": "display_data"
    },
    {
     "data": {
      "application/vnd.jupyter.widget-view+json": {
       "model_id": "ac7271fa531d45a1b3baba41df3589ac",
       "version_major": 2,
       "version_minor": 0
      },
      "text/plain": [
       "Re-downloading sub-02_ses-01_task-WorkingMemory_run-01_channels.tsv: file size mismatch.: 0.00B [00:00, ?B/s]"
      ]
     },
     "metadata": {},
     "output_type": "display_data"
    },
    {
     "data": {
      "application/vnd.jupyter.widget-view+json": {
       "model_id": "e73ec3bbef8c45d59c717595afa966a2",
       "version_major": 2,
       "version_minor": 0
      },
      "text/plain": [
       "Re-downloading sub-02_ses-01_task-WorkingMemory_run-02_meg.json: file hash mismatch.:   0%|          | 0.00/55…"
      ]
     },
     "metadata": {},
     "output_type": "display_data"
    },
    {
     "data": {
      "application/vnd.jupyter.widget-view+json": {
       "model_id": "9220d035d1854f6bbbbd7acf04c35701",
       "version_major": 2,
       "version_minor": 0
      },
      "text/plain": [
       "Re-downloading sub-02_ses-01_task-WorkingMemory_run-01_meg.json: file hash mismatch.:   0%|          | 0.00/55…"
      ]
     },
     "metadata": {},
     "output_type": "display_data"
    },
    {
     "data": {
      "application/vnd.jupyter.widget-view+json": {
       "model_id": "bf24449c513f42c59186db735d1fd7dd",
       "version_major": 2,
       "version_minor": 0
      },
      "text/plain": [
       "Re-downloading sub-03_ses-01_task-WorkingMemory_run-01_channels.tsv: file size mismatch.: 0.00B [00:00, ?B/s]"
      ]
     },
     "metadata": {},
     "output_type": "display_data"
    },
    {
     "data": {
      "application/vnd.jupyter.widget-view+json": {
       "model_id": "776149b66ff94e8fa6a2481c845b5edc",
       "version_major": 2,
       "version_minor": 0
      },
      "text/plain": [
       "Re-downloading sub-03_ses-01_coordsystem.json: file hash mismatch.:   0%|          | 0.00/557 [00:00<?, ?B/s]"
      ]
     },
     "metadata": {},
     "output_type": "display_data"
    },
    {
     "data": {
      "application/vnd.jupyter.widget-view+json": {
       "model_id": "c220ad1ceadb443ea9a6ec58971d70f0",
       "version_major": 2,
       "version_minor": 0
      },
      "text/plain": [
       "Skipping hz2.newds: already downloaded.: 100%|##########| 234/234 [00:00<?, ?B/s]"
      ]
     },
     "metadata": {},
     "output_type": "display_data"
    },
    {
     "data": {
      "application/vnd.jupyter.widget-view+json": {
       "model_id": "8f0fae72035a45c7b59d4339f463fedd",
       "version_major": 2,
       "version_minor": 0
      },
      "text/plain": [
       "Skipping hz2.res4: already downloaded.: 100%|##########| 2.95M/2.95M [00:00<?, ?B/s]"
      ]
     },
     "metadata": {},
     "output_type": "display_data"
    },
    {
     "data": {
      "application/vnd.jupyter.widget-view+json": {
       "model_id": "a153d91b8bac4698b475acafe4880e5e",
       "version_major": 2,
       "version_minor": 0
      },
      "text/plain": [
       "Re-downloading sub-03_ses-01_task-WorkingMemory_run-01_meg.json: file hash mismatch.:   0%|          | 0.00/55…"
      ]
     },
     "metadata": {},
     "output_type": "display_data"
    },
    {
     "data": {
      "application/vnd.jupyter.widget-view+json": {
       "model_id": "d640e4519f624bd6b7804470368e8388",
       "version_major": 2,
       "version_minor": 0
      },
      "text/plain": [
       "Re-downloading sub-03_ses-01_task-WorkingMemory_run-02_meg.json: file hash mismatch.:   0%|          | 0.00/55…"
      ]
     },
     "metadata": {},
     "output_type": "display_data"
    },
    {
     "data": {
      "application/vnd.jupyter.widget-view+json": {
       "model_id": "c47cda9e84264e5c8790590117868a62",
       "version_major": 2,
       "version_minor": 0
      },
      "text/plain": [
       "Re-downloading sub-02_ses-01_task-WorkingMemory_run-03_channels.tsv: file size mismatch.: 0.00B [00:00, ?B/s]"
      ]
     },
     "metadata": {},
     "output_type": "display_data"
    },
    {
     "data": {
      "application/vnd.jupyter.widget-view+json": {
       "model_id": "9c934eeee2c2444c88b45e36139860b6",
       "version_major": 2,
       "version_minor": 0
      },
      "text/plain": [
       "Re-downloading sub-03_ses-01_task-WorkingMemory_run-02_channels.tsv: file size mismatch.: 0.00B [00:00, ?B/s]"
      ]
     },
     "metadata": {},
     "output_type": "display_data"
    },
    {
     "data": {
      "application/vnd.jupyter.widget-view+json": {
       "model_id": "b438f0750715495e97645bae1fd79ebb",
       "version_major": 2,
       "version_minor": 0
      },
      "text/plain": [
       "Re-downloading sub-02_ses-01_task-WorkingMemory_run-03_meg.json: file hash mismatch.:   0%|          | 0.00/55…"
      ]
     },
     "metadata": {},
     "output_type": "display_data"
    },
    {
     "data": {
      "application/vnd.jupyter.widget-view+json": {
       "model_id": "80d803b13ded455fabd39d8aabdcf458",
       "version_major": 2,
       "version_minor": 0
      },
      "text/plain": [
       "Re-downloading sub-02_ses-01_task-WorkingMemory_run-04_channels.tsv: file size mismatch.: 0.00B [00:00, ?B/s]"
      ]
     },
     "metadata": {},
     "output_type": "display_data"
    },
    {
     "data": {
      "application/vnd.jupyter.widget-view+json": {
       "model_id": "44a96fa7aa7f43668c30fc5af01d1920",
       "version_major": 2,
       "version_minor": 0
      },
      "text/plain": [
       "Re-downloading sub-03_ses-01_task-WorkingMemory_run-03_channels.tsv: file size mismatch.: 0.00B [00:00, ?B/s]"
      ]
     },
     "metadata": {},
     "output_type": "display_data"
    },
    {
     "data": {
      "application/vnd.jupyter.widget-view+json": {
       "model_id": "ab72286454314086b8991fad5ce34447",
       "version_major": 2,
       "version_minor": 0
      },
      "text/plain": [
       "Re-downloading sub-02_ses-01_task-WorkingMemory_run-04_meg.json: file hash mismatch.:   0%|          | 0.00/55…"
      ]
     },
     "metadata": {},
     "output_type": "display_data"
    },
    {
     "data": {
      "application/vnd.jupyter.widget-view+json": {
       "model_id": "defd8dc00f9242e68dd37c441e92339c",
       "version_major": 2,
       "version_minor": 0
      },
      "text/plain": [
       "Re-downloading sub-03_ses-01_task-WorkingMemory_run-04_channels.tsv: file size mismatch.: 0.00B [00:00, ?B/s]"
      ]
     },
     "metadata": {},
     "output_type": "display_data"
    },
    {
     "data": {
      "application/vnd.jupyter.widget-view+json": {
       "model_id": "dd08d0f504d04a9391663b103864b1af",
       "version_major": 2,
       "version_minor": 0
      },
      "text/plain": [
       "Re-downloading sub-02_ses-01_task-WorkingMemory_run-05_channels.tsv: file size mismatch.: 0.00B [00:00, ?B/s]"
      ]
     },
     "metadata": {},
     "output_type": "display_data"
    },
    {
     "data": {
      "application/vnd.jupyter.widget-view+json": {
       "model_id": "2c82f18d4025485caa41c3e075058ae0",
       "version_major": 2,
       "version_minor": 0
      },
      "text/plain": [
       "Re-downloading sub-03_ses-01_task-WorkingMemory_run-04_meg.json: file hash mismatch.:   0%|          | 0.00/55…"
      ]
     },
     "metadata": {},
     "output_type": "display_data"
    },
    {
     "data": {
      "application/vnd.jupyter.widget-view+json": {
       "model_id": "9c493fb99d4c406dabedbd492bb71fcf",
       "version_major": 2,
       "version_minor": 0
      },
      "text/plain": [
       "Re-downloading sub-03_ses-01_task-WorkingMemory_run-03_meg.json: file hash mismatch.:   0%|          | 0.00/55…"
      ]
     },
     "metadata": {},
     "output_type": "display_data"
    },
    {
     "data": {
      "application/vnd.jupyter.widget-view+json": {
       "model_id": "fb66d9475eb0400cb4a9d0381acded29",
       "version_major": 2,
       "version_minor": 0
      },
      "text/plain": [
       "Re-downloading sub-02_ses-01_task-WorkingMemory_run-06_channels.tsv: file size mismatch.: 0.00B [00:00, ?B/s]"
      ]
     },
     "metadata": {},
     "output_type": "display_data"
    },
    {
     "data": {
      "application/vnd.jupyter.widget-view+json": {
       "model_id": "816c19b736534d338391de8a5989431a",
       "version_major": 2,
       "version_minor": 0
      },
      "text/plain": [
       "Re-downloading sub-02_ses-01_task-WorkingMemory_run-05_meg.json: file hash mismatch.:   0%|          | 0.00/55…"
      ]
     },
     "metadata": {},
     "output_type": "display_data"
    },
    {
     "data": {
      "application/vnd.jupyter.widget-view+json": {
       "model_id": "5953953297f34ef3a3f474f00e6abc8c",
       "version_major": 2,
       "version_minor": 0
      },
      "text/plain": [
       "Re-downloading sub-03_ses-01_task-WorkingMemory_run-05_channels.tsv: file size mismatch.: 0.00B [00:00, ?B/s]"
      ]
     },
     "metadata": {},
     "output_type": "display_data"
    },
    {
     "data": {
      "application/vnd.jupyter.widget-view+json": {
       "model_id": "9612bdf9d5e649e4bcf4fca4e138232d",
       "version_major": 2,
       "version_minor": 0
      },
      "text/plain": [
       "Re-downloading sub-02_ses-01_task-WorkingMemory_run-06_meg.json: file hash mismatch.:   0%|          | 0.00/55…"
      ]
     },
     "metadata": {},
     "output_type": "display_data"
    },
    {
     "data": {
      "application/vnd.jupyter.widget-view+json": {
       "model_id": "818000472e1b47deaffe52e8a8fb586b",
       "version_major": 2,
       "version_minor": 0
      },
      "text/plain": [
       "Re-downloading sub-02_ses-01_task-WorkingMemory_run-07_channels.tsv: file size mismatch.: 0.00B [00:00, ?B/s]"
      ]
     },
     "metadata": {},
     "output_type": "display_data"
    },
    {
     "data": {
      "application/vnd.jupyter.widget-view+json": {
       "model_id": "2ccbd2e33a9b4c7fb4841bb56da2d988",
       "version_major": 2,
       "version_minor": 0
      },
      "text/plain": [
       "Re-downloading sub-02_ses-01_task-WorkingMemory_run-07_meg.json: file hash mismatch.:   0%|          | 0.00/55…"
      ]
     },
     "metadata": {},
     "output_type": "display_data"
    },
    {
     "data": {
      "application/vnd.jupyter.widget-view+json": {
       "model_id": "68885b4caed34e00ad42ad8d6a034af9",
       "version_major": 2,
       "version_minor": 0
      },
      "text/plain": [
       "Re-downloading sub-03_ses-01_task-WorkingMemory_run-06_meg.json: file hash mismatch.:   0%|          | 0.00/55…"
      ]
     },
     "metadata": {},
     "output_type": "display_data"
    },
    {
     "data": {
      "application/vnd.jupyter.widget-view+json": {
       "model_id": "ee9d293d2fea46f8bbf074e57584e05c",
       "version_major": 2,
       "version_minor": 0
      },
      "text/plain": [
       "Re-downloading sub-03_ses-01_task-WorkingMemory_run-06_channels.tsv: file size mismatch.: 0.00B [00:00, ?B/s]"
      ]
     },
     "metadata": {},
     "output_type": "display_data"
    },
    {
     "data": {
      "application/vnd.jupyter.widget-view+json": {
       "model_id": "7a3af5842746458ab13fc1998836e395",
       "version_major": 2,
       "version_minor": 0
      },
      "text/plain": [
       "Re-downloading sub-03_ses-01_task-WorkingMemory_run-05_meg.json: file hash mismatch.:   0%|          | 0.00/55…"
      ]
     },
     "metadata": {},
     "output_type": "display_data"
    },
    {
     "data": {
      "application/vnd.jupyter.widget-view+json": {
       "model_id": "63057b55e9df4302904b03140f10866f",
       "version_major": 2,
       "version_minor": 0
      },
      "text/plain": [
       "Re-downloading sub-03_ses-01_task-WorkingMemory_run-07_channels.tsv: file size mismatch.: 0.00B [00:00, ?B/s]"
      ]
     },
     "metadata": {},
     "output_type": "display_data"
    },
    {
     "data": {
      "application/vnd.jupyter.widget-view+json": {
       "model_id": "d10ff0474cf14eff8e3517987c0acdac",
       "version_major": 2,
       "version_minor": 0
      },
      "text/plain": [
       "Re-downloading sub-02_ses-01_task-WorkingMemory_run-08_channels.tsv: file size mismatch.:   0%|          | 0.0…"
      ]
     },
     "metadata": {},
     "output_type": "display_data"
    },
    {
     "data": {
      "application/vnd.jupyter.widget-view+json": {
       "model_id": "7a18b58d9e214566871f88dc5c25683e",
       "version_major": 2,
       "version_minor": 0
      },
      "text/plain": [
       "Re-downloading BadChannels: file size mismatch.: 0.00B [00:00, ?B/s]"
      ]
     },
     "metadata": {},
     "output_type": "display_data"
    },
    {
     "data": {
      "application/vnd.jupyter.widget-view+json": {
       "model_id": "24340c822d7748a38a4aaa0da1bc0cce",
       "version_major": 2,
       "version_minor": 0
      },
      "text/plain": [
       "Re-downloading sub-02_ses-01_task-WorkingMemory_run-08_meg.json: file hash mismatch.:   0%|          | 0.00/55…"
      ]
     },
     "metadata": {},
     "output_type": "display_data"
    },
    {
     "data": {
      "application/vnd.jupyter.widget-view+json": {
       "model_id": "1bee7a3e88a2431ca1b855d40461d541",
       "version_major": 2,
       "version_minor": 0
      },
      "text/plain": [
       "Re-downloading sub-03_ses-01_task-WorkingMemory_run-07_meg.json: file hash mismatch.:   0%|          | 0.00/55…"
      ]
     },
     "metadata": {},
     "output_type": "display_data"
    },
    {
     "data": {
      "application/vnd.jupyter.widget-view+json": {
       "model_id": "c64f02debb824395a70b09ae6d80a266",
       "version_major": 2,
       "version_minor": 0
      },
      "text/plain": [
       "Skipping sub-02_ses-01_task-WorkingMemory_run-08_meg.meg4: already downloaded.: 100%|##########| 375M/375M [00…"
      ]
     },
     "metadata": {},
     "output_type": "display_data"
    },
    {
     "data": {
      "application/vnd.jupyter.widget-view+json": {
       "model_id": "b7d33b9208c1450e8fe83db092b00924",
       "version_major": 2,
       "version_minor": 0
      },
      "text/plain": [
       "Re-downloading BadChannels: file size mismatch.: 0.00B [00:00, ?B/s]"
      ]
     },
     "metadata": {},
     "output_type": "display_data"
    },
    {
     "data": {
      "application/vnd.jupyter.widget-view+json": {
       "model_id": "e96b881a56514ae5a33d179845beba32",
       "version_major": 2,
       "version_minor": 0
      },
      "text/plain": [
       "Re-downloading sub-03_ses-01_task-WorkingMemory_run-08_channels.tsv: file size mismatch.:   0%|          | 0.0…"
      ]
     },
     "metadata": {},
     "output_type": "display_data"
    },
    {
     "data": {
      "application/vnd.jupyter.widget-view+json": {
       "model_id": "d38e875840194f9fa5b02491f572b1c4",
       "version_major": 2,
       "version_minor": 0
      },
      "text/plain": [
       "Re-downloading sub-03_ses-01_task-WorkingMemory_run-08_meg.json: file hash mismatch.:   0%|          | 0.00/55…"
      ]
     },
     "metadata": {},
     "output_type": "display_data"
    },
    {
     "data": {
      "application/vnd.jupyter.widget-view+json": {
       "model_id": "701bf2d1d4c647d08a3d49b2e53a38b2",
       "version_major": 2,
       "version_minor": 0
      },
      "text/plain": [
       "Re-downloading BadChannels: file size mismatch.: 0.00B [00:00, ?B/s]"
      ]
     },
     "metadata": {},
     "output_type": "display_data"
    },
    {
     "data": {
      "application/vnd.jupyter.widget-view+json": {
       "model_id": "36535daca43e4522b46ff74841683f47",
       "version_major": 2,
       "version_minor": 0
      },
      "text/plain": [
       "Re-downloading BadChannels: file size mismatch.: 0.00B [00:00, ?B/s]"
      ]
     },
     "metadata": {},
     "output_type": "display_data"
    },
    {
     "data": {
      "application/vnd.jupyter.widget-view+json": {
       "model_id": "b069d21d452b4e618097b611b0c8aff1",
       "version_major": 2,
       "version_minor": 0
      },
      "text/plain": [
       "Re-downloading BadChannels: file size mismatch.: 0.00B [00:00, ?B/s]"
      ]
     },
     "metadata": {},
     "output_type": "display_data"
    },
    {
     "data": {
      "application/vnd.jupyter.widget-view+json": {
       "model_id": "f0df00f1fb8f444db892d9e8e9b76195",
       "version_major": 2,
       "version_minor": 0
      },
      "text/plain": [
       "Re-downloading BadChannels: file size mismatch.: 0.00B [00:00, ?B/s]"
      ]
     },
     "metadata": {},
     "output_type": "display_data"
    },
    {
     "data": {
      "application/vnd.jupyter.widget-view+json": {
       "model_id": "243aac17cc2c41358c1a60285f4041ff",
       "version_major": 2,
       "version_minor": 0
      },
      "text/plain": [
       "Re-downloading BadChannels: file size mismatch.: 0.00B [00:00, ?B/s]"
      ]
     },
     "metadata": {},
     "output_type": "display_data"
    },
    {
     "data": {
      "application/vnd.jupyter.widget-view+json": {
       "model_id": "b5ed8b0ebce64474985d72f954e7c6cb",
       "version_major": 2,
       "version_minor": 0
      },
      "text/plain": [
       "Re-downloading BadChannels: file size mismatch.: 0.00B [00:00, ?B/s]"
      ]
     },
     "metadata": {},
     "output_type": "display_data"
    },
    {
     "data": {
      "application/vnd.jupyter.widget-view+json": {
       "model_id": "d46c9a84f351411fb48b859a52cc504b",
       "version_major": 2,
       "version_minor": 0
      },
      "text/plain": [
       "Re-downloading BadChannels: file size mismatch.: 0.00B [00:00, ?B/s]"
      ]
     },
     "metadata": {},
     "output_type": "display_data"
    },
    {
     "data": {
      "application/vnd.jupyter.widget-view+json": {
       "model_id": "d3deab7960d744f399c30d789cacd406",
       "version_major": 2,
       "version_minor": 0
      },
      "text/plain": [
       "Re-downloading BadChannels: file size mismatch.: 0.00B [00:00, ?B/s]"
      ]
     },
     "metadata": {},
     "output_type": "display_data"
    },
    {
     "data": {
      "application/vnd.jupyter.widget-view+json": {
       "model_id": "a05f3802309c4759b78c86bb78917ce7",
       "version_major": 2,
       "version_minor": 0
      },
      "text/plain": [
       "Skipping sub-03_ses-01_task-WorkingMemory_run-08_meg.meg4: already downloaded.: 100%|##########| 372M/372M [00…"
      ]
     },
     "metadata": {},
     "output_type": "display_data"
    },
    {
     "data": {
      "application/vnd.jupyter.widget-view+json": {
       "model_id": "60fac05634ef47b6bedbf61741272559",
       "version_major": 2,
       "version_minor": 0
      },
      "text/plain": [
       "Re-downloading BadChannels: file size mismatch.: 0.00B [00:00, ?B/s]"
      ]
     },
     "metadata": {},
     "output_type": "display_data"
    },
    {
     "data": {
      "application/vnd.jupyter.widget-view+json": {
       "model_id": "9b4736a1bfe24168b942b28b834d88ff",
       "version_major": 2,
       "version_minor": 0
      },
      "text/plain": [
       "Re-downloading BadChannels: file size mismatch.: 0.00B [00:00, ?B/s]"
      ]
     },
     "metadata": {},
     "output_type": "display_data"
    },
    {
     "data": {
      "application/vnd.jupyter.widget-view+json": {
       "model_id": "2534285609fa4288bd3c123020d36b57",
       "version_major": 2,
       "version_minor": 0
      },
      "text/plain": [
       "Re-downloading BadChannels: file size mismatch.: 0.00B [00:00, ?B/s]"
      ]
     },
     "metadata": {},
     "output_type": "display_data"
    },
    {
     "name": "stdout",
     "output_type": "stream",
     "text": [
      "<Task pending name='Task-5' coro=<_download_files() running at /Users/cheylus/.virtualenvs/py311-mne_septembre/lib/python3.11/site-packages/openneuro/_download.py:582> wait_for=<_GatheringFuture finished result=[None, None, None, None, None, None, ...]>>\n",
      "<Task pending name='Task-6' coro=<_download_files() running at /Users/cheylus/.virtualenvs/py311-mne_septembre/lib/python3.11/site-packages/openneuro/_download.py:582> wait_for=<_GatheringFuture pending cb=[Task.task_wakeup()]>>\n",
      "<Task pending name='Task-4' coro=<Kernel.dispatch_queue() running at /Users/cheylus/.virtualenvs/py311-mne_septembre/lib/python3.11/site-packages/ipykernel/kernelbase.py:516> wait_for=<Task pending name='Task-556' coro=<InteractiveShell.run_cell_async() running at /Users/cheylus/.virtualenvs/py311-mne_septembre/lib/python3.11/site-packages/IPython/core/interactiveshell.py:3284> cb=[IPythonKernel._cancel_on_sigint.<locals>.cancel_unless_done(<Future pendi...ernel.py:310]>)() at /Users/cheylus/.virtualenvs/py311-mne_septembre/lib/python3.11/site-packages/ipykernel/ipkernel.py:310, Task.task_wakeup()]> cb=[IOLoop.add_future.<locals>.<lambda>() at /Users/cheylus/.virtualenvs/py311-mne_septembre/lib/python3.11/site-packages/tornado/ioloop.py:685]>\n",
      "<Task pending name='Task-556' coro=<InteractiveShell.run_cell_async() running at /Users/cheylus/.virtualenvs/py311-mne_septembre/lib/python3.11/site-packages/IPython/core/interactiveshell.py:3284> cb=[IPythonKernel._cancel_on_sigint.<locals>.cancel_unless_done(<Future pendi...ernel.py:310]>)() at /Users/cheylus/.virtualenvs/py311-mne_septembre/lib/python3.11/site-packages/ipykernel/ipkernel.py:310, Task.task_wakeup()]>\n",
      "<Task pending name='Task-526' coro=<_download_file() running at /Users/cheylus/.virtualenvs/py311-mne_septembre/lib/python3.11/site-packages/openneuro/_download.py:379> wait_for=<Future pending cb=[Task.task_wakeup()]> cb=[gather.<locals>._done_callback() at /usr/local/Cellar/python@3.11/3.11.4_1/Frameworks/Python.framework/Versions/3.11/lib/python3.11/asyncio/tasks.py:754]>\n"
     ]
    },
    {
     "data": {
      "application/vnd.jupyter.widget-view+json": {
       "model_id": "3f1e5c76cc0343a2bb5b0cbae76e6cc5",
       "version_major": 2,
       "version_minor": 0
      },
      "text/plain": [
       "Re-downloading BadChannels: file size mismatch.: 0.00B [00:00, ?B/s]"
      ]
     },
     "metadata": {},
     "output_type": "display_data"
    },
    {
     "data": {
      "application/vnd.jupyter.widget-view+json": {
       "model_id": "c90e0153e3244966a56f12244c406ab4",
       "version_major": 2,
       "version_minor": 0
      },
      "text/plain": [
       "Re-downloading BadChannels: file size mismatch.: 0.00B [00:00, ?B/s]"
      ]
     },
     "metadata": {},
     "output_type": "display_data"
    },
    {
     "data": {
      "application/vnd.jupyter.widget-view+json": {
       "model_id": "3b481166d85c45a7b77a8fbf8f6bd905",
       "version_major": 2,
       "version_minor": 0
      },
      "text/plain": [
       "Skipping hz.newds: already downloaded.: 100%|##########| 234/234 [00:00<?, ?B/s]"
      ]
     },
     "metadata": {},
     "output_type": "display_data"
    },
    {
     "data": {
      "application/vnd.jupyter.widget-view+json": {
       "model_id": "d28d8575dd144fcfb2b80765e74ea770",
       "version_major": 2,
       "version_minor": 0
      },
      "text/plain": [
       "Re-downloading BadChannels: file size mismatch.: 0.00B [00:00, ?B/s]"
      ]
     },
     "metadata": {},
     "output_type": "display_data"
    },
    {
     "name": "stdout",
     "output_type": "stream",
     "text": [
      "looks like download is really finished\n"
     ]
    }
   ],
   "source": [
    "# Try to make sure download is really finished\n",
    "loop = asyncio.get_running_loop()\n",
    "pending = asyncio.all_tasks(loop=loop)\n",
    "if len(pending) > 1:\n",
    "    print (len(pending), 'tasks still pending')\n",
    "    k = 0\n",
    "    for p in pending:\n",
    "        if not p.done(): \n",
    "            print(p)\n",
    "            pcoro = p.get_coro()\n",
    "            if pcoro.cr_code.co_name == '_download_file':\n",
    "                await p\n",
    "                assert p.done(), 'still waiting to download some files'\n",
    "print('looks like download is really finished')"
   ]
  },
  {
   "cell_type": "markdown",
   "id": "3df087c8-2b3c-4aa7-947f-762a26923a32",
   "metadata": {},
   "source": [
    "<div class=\"alert alert-warning\">\n",
    "    <h2>Warning!</h2>\n",
    "    <p>When download happens in a background process, openneuro can give a false report of a finished download.</p> \n",
    "    <p>Double make sure you have all the data before further processing.</p>\n",
    "</div>"
   ]
  },
  {
   "cell_type": "code",
   "execution_count": 4,
   "id": "6953576b-b8a9-4f9b-97ca-dbaeca1fe37c",
   "metadata": {},
   "outputs": [
    {
     "name": "stdout",
     "output_type": "stream",
     "text": [
      "|bids_data/\n",
      "|--- CHANGES\n",
      "|--- README\n",
      "|--- dataset_description.json\n",
      "|--- participants.json\n",
      "|--- participants.tsv\n",
      "|--- derivatives/\n",
      "|------ stimulus_epoch_preprocessing/\n",
      "|--------- sub-02/\n",
      "|------------ ses-01/\n",
      "|--------- sub-03/\n",
      "|------------ ses-01/\n",
      "|--- sub-02/\n",
      "|------ ses-01/\n",
      "|--------- sub-02_ses-01_scans.tsv\n",
      "|--------- behavdata/\n",
      "|------------ WorkMem_sub02.csv\n",
      "|--------- hpi/\n",
      "|------------ hpi_mri_surf.txt\n",
      "|--------- meg/\n",
      "|------------ sub-02_ses-01_coordsystem.json\n",
      "|------------ sub-02_ses-01_task-WorkingMemory_run-01_channels.tsv\n",
      "|------------ sub-02_ses-01_task-WorkingMemory_run-01_events.tsv\n",
      "|------------ sub-02_ses-01_task-WorkingMemory_run-01_meg.json\n",
      "|------------ sub-02_ses-01_task-WorkingMemory_run-02_channels.tsv\n",
      "|------------ sub-02_ses-01_task-WorkingMemory_run-02_events.tsv\n",
      "|------------ sub-02_ses-01_task-WorkingMemory_run-02_meg.json\n",
      "|------------ sub-02_ses-01_task-WorkingMemory_run-03_channels.tsv\n",
      "|------------ sub-02_ses-01_task-WorkingMemory_run-03_events.tsv\n",
      "|------------ sub-02_ses-01_task-WorkingMemory_run-03_meg.json\n",
      "|------------ sub-02_ses-01_task-WorkingMemory_run-04_channels.tsv\n",
      "|------------ sub-02_ses-01_task-WorkingMemory_run-04_events.tsv\n",
      "|------------ sub-02_ses-01_task-WorkingMemory_run-04_meg.json\n",
      "|------------ sub-02_ses-01_task-WorkingMemory_run-05_channels.tsv\n",
      "|------------ sub-02_ses-01_task-WorkingMemory_run-05_events.tsv\n",
      "|------------ sub-02_ses-01_task-WorkingMemory_run-05_meg.json\n",
      "|------------ sub-02_ses-01_task-WorkingMemory_run-06_channels.tsv\n",
      "|------------ sub-02_ses-01_task-WorkingMemory_run-06_events.tsv\n",
      "|------------ sub-02_ses-01_task-WorkingMemory_run-06_meg.json\n",
      "|------------ sub-02_ses-01_task-WorkingMemory_run-07_channels.tsv\n",
      "|------------ sub-02_ses-01_task-WorkingMemory_run-07_events.tsv\n",
      "|------------ sub-02_ses-01_task-WorkingMemory_run-07_meg.json\n",
      "|------------ sub-02_ses-01_task-WorkingMemory_run-08_channels.tsv\n",
      "|------------ sub-02_ses-01_task-WorkingMemory_run-08_events.tsv\n",
      "|------------ sub-02_ses-01_task-WorkingMemory_run-08_meg.json\n",
      "|------------ sub-02_ses-01_task-WorkingMemory_run-01_meg.ds/\n",
      "|------------ sub-02_ses-01_task-WorkingMemory_run-02_meg.ds/\n",
      "|------------ sub-02_ses-01_task-WorkingMemory_run-03_meg.ds/\n",
      "|------------ sub-02_ses-01_task-WorkingMemory_run-04_meg.ds/\n",
      "|------------ sub-02_ses-01_task-WorkingMemory_run-05_meg.ds/\n",
      "|------------ sub-02_ses-01_task-WorkingMemory_run-06_meg.ds/\n",
      "|------------ sub-02_ses-01_task-WorkingMemory_run-07_meg.ds/\n",
      "|------------ sub-02_ses-01_task-WorkingMemory_run-08_meg.ds/\n",
      "|--- sub-03/\n",
      "|------ ses-01/\n",
      "|--------- sub-03_ses-01_scans.tsv\n",
      "|--------- behavdata/\n",
      "|------------ WorkMem_sub03.csv\n",
      "|--------- hpi/\n",
      "|------------ hpi_mri_surf.txt\n",
      "|--------- meg/\n",
      "|------------ sub-03_ses-01_coordsystem.json\n",
      "|------------ sub-03_ses-01_task-WorkingMemory_run-01_channels.tsv\n",
      "|------------ sub-03_ses-01_task-WorkingMemory_run-01_events.tsv\n",
      "|------------ sub-03_ses-01_task-WorkingMemory_run-01_meg.json\n",
      "|------------ sub-03_ses-01_task-WorkingMemory_run-02_channels.tsv\n",
      "|------------ sub-03_ses-01_task-WorkingMemory_run-02_events.tsv\n",
      "|------------ sub-03_ses-01_task-WorkingMemory_run-02_meg.json\n",
      "|------------ sub-03_ses-01_task-WorkingMemory_run-03_channels.tsv\n",
      "|------------ sub-03_ses-01_task-WorkingMemory_run-03_events.tsv\n",
      "|------------ sub-03_ses-01_task-WorkingMemory_run-03_meg.json\n",
      "|------------ sub-03_ses-01_task-WorkingMemory_run-04_channels.tsv\n",
      "|------------ sub-03_ses-01_task-WorkingMemory_run-04_events.tsv\n",
      "|------------ sub-03_ses-01_task-WorkingMemory_run-04_meg.json\n",
      "|------------ sub-03_ses-01_task-WorkingMemory_run-05_channels.tsv\n",
      "|------------ sub-03_ses-01_task-WorkingMemory_run-05_events.tsv\n",
      "|------------ sub-03_ses-01_task-WorkingMemory_run-05_meg.json\n",
      "|------------ sub-03_ses-01_task-WorkingMemory_run-06_channels.tsv\n",
      "|------------ sub-03_ses-01_task-WorkingMemory_run-06_events.tsv\n",
      "|------------ sub-03_ses-01_task-WorkingMemory_run-06_meg.json\n",
      "|------------ sub-03_ses-01_task-WorkingMemory_run-07_channels.tsv\n",
      "|------------ sub-03_ses-01_task-WorkingMemory_run-07_events.tsv\n",
      "|------------ sub-03_ses-01_task-WorkingMemory_run-07_meg.json\n",
      "|------------ sub-03_ses-01_task-WorkingMemory_run-08_channels.tsv\n",
      "|------------ sub-03_ses-01_task-WorkingMemory_run-08_events.tsv\n",
      "|------------ sub-03_ses-01_task-WorkingMemory_run-08_meg.json\n",
      "|------------ sub-03_ses-01_task-WorkingMemory_run-01_meg.ds/\n",
      "|------------ sub-03_ses-01_task-WorkingMemory_run-02_meg.ds/\n",
      "|------------ sub-03_ses-01_task-WorkingMemory_run-03_meg.ds/\n",
      "|------------ sub-03_ses-01_task-WorkingMemory_run-04_meg.ds/\n",
      "|------------ sub-03_ses-01_task-WorkingMemory_run-05_meg.ds/\n",
      "|------------ sub-03_ses-01_task-WorkingMemory_run-06_meg.ds/\n",
      "|------------ sub-03_ses-01_task-WorkingMemory_run-07_meg.ds/\n",
      "|------------ sub-03_ses-01_task-WorkingMemory_run-08_meg.ds/\n"
     ]
    }
   ],
   "source": [
    "mne_bids.print_dir_tree(bids_root, max_depth=4)"
   ]
  },
  {
   "cell_type": "code",
   "execution_count": 5,
   "id": "7cc7027c-58a9-49e0-81ef-f4227358d090",
   "metadata": {},
   "outputs": [
    {
     "name": "stdout",
     "output_type": "stream",
     "text": [
      "Summarizing participants.tsv ./bids_data/participants.tsv...\n",
      "Summarizing scans.tsv files [PosixPath('bids_data/sub-02/ses-01/sub-02_ses-01_scans.tsv'), PosixPath('bids_data/sub-03/ses-01/sub-03_ses-01_scans.tsv')]...\n",
      "The participant template found: comprised of 6 male and 16 female participants;\n",
      "handedness were all unknown;\n",
      "ages all unknown\n",
      " The Differential brain mechanisms of selection and maintenance of information\n",
      "during working memory (MEG data) dataset was created by Romain Quentin, Jean-\n",
      "Remi King, Etienne Sallard, Nathan Fishman, Ryan Thompson, Ethan Buch, and\n",
      "Leonardo Cohen and conforms to BIDS version 1.1.1. This report was generated\n",
      "with MNE-BIDS (https://doi.org/10.21105/joss.01896). The dataset consists of 2\n",
      "participants (comprised of 6 male and 16 female participants; handedness were\n",
      "all unknown; ages all unknown) and 1 recording sessions: 01. Data was recorded\n",
      "using an MEG system (CTF) sampled at 1200.0 Hz with line noise at 50 Hz. There\n",
      "were 16 scans in total. Recording durations ranged from 246.0 to 420.0 seconds\n",
      "(mean = 281.12, std = 39.46), for a total of 4497.99 seconds of data recorded\n",
      "over all scans. For each dataset, there were on average 308.0 (std = 0.0)\n",
      "recording channels per scan, out of which 308.0 (std = 0.0) were used in\n",
      "analysis (0.0 +/- 0.0 were removed from analysis).\n"
     ]
    }
   ],
   "source": [
    "print(mne_bids.make_report(bids_root))"
   ]
  },
  {
   "cell_type": "markdown",
   "id": "f3a17fa7-7a28-4a35-80d8-d2dd6252b07b",
   "metadata": {},
   "source": [
    "## Change channel type from OTHER to MEG axial gradiometer\n",
    "\n",
    "The channel type for MEG channels is incorrect in _channels.tsv files in this BIDS dataset. \n",
    "We will replace these sidecar channels files with a corrected one."
   ]
  },
  {
   "cell_type": "code",
   "execution_count": 6,
   "id": "4c7d5235-b1d1-459f-a3bc-2e8bff4b13b2",
   "metadata": {},
   "outputs": [
    {
     "name": "stdout",
     "output_type": "stream",
     "text": [
      "copy ctf272_channels.tsv on bids_data/sub-02/ses-01/meg/sub-02_ses-01_task-WorkingMemory_run-01_channels.tsv\n",
      "copy ctf272_channels.tsv on bids_data/sub-03/ses-01/meg/sub-03_ses-01_task-WorkingMemory_run-01_channels.tsv\n",
      "copy ctf272_channels.tsv on bids_data/sub-02/ses-01/meg/sub-02_ses-01_task-WorkingMemory_run-02_channels.tsv\n",
      "copy ctf272_channels.tsv on bids_data/sub-03/ses-01/meg/sub-03_ses-01_task-WorkingMemory_run-02_channels.tsv\n",
      "copy ctf272_channels.tsv on bids_data/sub-02/ses-01/meg/sub-02_ses-01_task-WorkingMemory_run-03_channels.tsv\n",
      "copy ctf272_channels.tsv on bids_data/sub-03/ses-01/meg/sub-03_ses-01_task-WorkingMemory_run-03_channels.tsv\n",
      "copy ctf272_channels.tsv on bids_data/sub-02/ses-01/meg/sub-02_ses-01_task-WorkingMemory_run-04_channels.tsv\n",
      "copy ctf272_channels.tsv on bids_data/sub-03/ses-01/meg/sub-03_ses-01_task-WorkingMemory_run-04_channels.tsv\n",
      "copy ctf272_channels.tsv on bids_data/sub-02/ses-01/meg/sub-02_ses-01_task-WorkingMemory_run-05_channels.tsv\n",
      "copy ctf272_channels.tsv on bids_data/sub-03/ses-01/meg/sub-03_ses-01_task-WorkingMemory_run-05_channels.tsv\n",
      "copy ctf272_channels.tsv on bids_data/sub-02/ses-01/meg/sub-02_ses-01_task-WorkingMemory_run-06_channels.tsv\n",
      "copy ctf272_channels.tsv on bids_data/sub-03/ses-01/meg/sub-03_ses-01_task-WorkingMemory_run-06_channels.tsv\n",
      "copy ctf272_channels.tsv on bids_data/sub-02/ses-01/meg/sub-02_ses-01_task-WorkingMemory_run-07_channels.tsv\n",
      "copy ctf272_channels.tsv on bids_data/sub-03/ses-01/meg/sub-03_ses-01_task-WorkingMemory_run-07_channels.tsv\n",
      "copy ctf272_channels.tsv on bids_data/sub-02/ses-01/meg/sub-02_ses-01_task-WorkingMemory_run-08_channels.tsv\n",
      "copy ctf272_channels.tsv on bids_data/sub-03/ses-01/meg/sub-03_ses-01_task-WorkingMemory_run-08_channels.tsv\n"
     ]
    }
   ],
   "source": [
    "for run in mne_bids.get_entity_vals(bids_root, 'run'):\n",
    "    for s in mne_bids.get_entity_vals(bids_root, 'subject'):\n",
    "        bids_path = mne_bids.BIDSPath(root=bids_root, \n",
    "                                      task='WorkingMemory', \n",
    "                                      subject=s, \n",
    "                                      session='01', \n",
    "                                      run=run, \n",
    "                                      datatype='meg')\n",
    "        ch_tsv = mne_bids.read._find_matching_sidecar(bids_path,'channels','.tsv')\n",
    "        print('copy ctf272_channels.tsv on', ch_tsv)\n",
    "        shutil.copy('ctf272_channels.tsv', ch_tsv)"
   ]
  },
  {
   "cell_type": "markdown",
   "id": "3c56b490-b5a3-4e14-8daa-0e73265ed510",
   "metadata": {},
   "source": [
    "## Change power line frequency from 50 Hz to 60 Hz\n",
    "\n",
    "Power line noise in northern america is not at 50 but 60 Hz."
   ]
  },
  {
   "cell_type": "code",
   "execution_count": 7,
   "id": "67996a84-d6d1-46b8-8fa0-b8a1b12f8e3f",
   "metadata": {},
   "outputs": [
    {
     "name": "stdout",
     "output_type": "stream",
     "text": [
      "Writing 'bids_data/sub-02/ses-01/meg/sub-02_ses-01_task-WorkingMemory_run-01_meg.json'...\n",
      "Writing 'bids_data/sub-03/ses-01/meg/sub-03_ses-01_task-WorkingMemory_run-01_meg.json'...\n",
      "Writing 'bids_data/sub-02/ses-01/meg/sub-02_ses-01_task-WorkingMemory_run-02_meg.json'...\n",
      "Writing 'bids_data/sub-03/ses-01/meg/sub-03_ses-01_task-WorkingMemory_run-02_meg.json'...\n",
      "Writing 'bids_data/sub-02/ses-01/meg/sub-02_ses-01_task-WorkingMemory_run-03_meg.json'...\n",
      "Writing 'bids_data/sub-03/ses-01/meg/sub-03_ses-01_task-WorkingMemory_run-03_meg.json'...\n",
      "Writing 'bids_data/sub-02/ses-01/meg/sub-02_ses-01_task-WorkingMemory_run-04_meg.json'...\n",
      "Writing 'bids_data/sub-03/ses-01/meg/sub-03_ses-01_task-WorkingMemory_run-04_meg.json'...\n",
      "Writing 'bids_data/sub-02/ses-01/meg/sub-02_ses-01_task-WorkingMemory_run-05_meg.json'...\n",
      "Writing 'bids_data/sub-03/ses-01/meg/sub-03_ses-01_task-WorkingMemory_run-05_meg.json'...\n",
      "Writing 'bids_data/sub-02/ses-01/meg/sub-02_ses-01_task-WorkingMemory_run-06_meg.json'...\n",
      "Writing 'bids_data/sub-03/ses-01/meg/sub-03_ses-01_task-WorkingMemory_run-06_meg.json'...\n",
      "Writing 'bids_data/sub-02/ses-01/meg/sub-02_ses-01_task-WorkingMemory_run-07_meg.json'...\n",
      "Writing 'bids_data/sub-03/ses-01/meg/sub-03_ses-01_task-WorkingMemory_run-07_meg.json'...\n",
      "Writing 'bids_data/sub-02/ses-01/meg/sub-02_ses-01_task-WorkingMemory_run-08_meg.json'...\n",
      "Writing 'bids_data/sub-03/ses-01/meg/sub-03_ses-01_task-WorkingMemory_run-08_meg.json'...\n"
     ]
    }
   ],
   "source": [
    "for run in mne_bids.get_entity_vals(bids_root, 'run'):\n",
    "    for s in mne_bids.get_entity_vals(bids_root, 'subject'):\n",
    "        bids_path = mne_bids.BIDSPath(root=bids_root, \n",
    "                                      task='WorkingMemory', \n",
    "                                      subject=s, \n",
    "                                      session='01', \n",
    "                                      run=run, \n",
    "                                      datatype='meg')\n",
    "        sidecar_json = bids_path.copy().update(extension=\".json\")\n",
    "        mne_bids.update_sidecar_json(sidecar_json, entries={\"PowerLineFrequency\": 60})\n",
    "    "
   ]
  },
  {
   "cell_type": "markdown",
   "id": "b90f9186-997a-4e98-a707-38ab38ab0e80",
   "metadata": {},
   "source": [
    "## Change HeadCoilCoordinateSystem to CTF (to conform to BIDS 1.8 specs) "
   ]
  },
  {
   "cell_type": "code",
   "execution_count": 8,
   "id": "d4f0d418-4119-4746-9c6b-8fe0ab86e06e",
   "metadata": {},
   "outputs": [
    {
     "name": "stdout",
     "output_type": "stream",
     "text": [
      "Writing 'bids_data/sub-02/ses-01/meg/sub-02_ses-01_coordsystem.json'...\n",
      "Writing 'bids_data/sub-03/ses-01/meg/sub-03_ses-01_coordsystem.json'...\n"
     ]
    }
   ],
   "source": [
    "for s in mne_bids.get_entity_vals(bids_root, 'subject'):\n",
    "    sidecar_json = bids_path.copy().update(run=None,\n",
    "                                           subject=s,\n",
    "                                           task=None,\n",
    "                                           suffix=\"coordsystem\", \n",
    "                                           extension=\".json\")\n",
    "    mne_bids.update_sidecar_json(sidecar_json, entries={\"HeadCoilCoordinateSystem\": \"CTF\"})"
   ]
  },
  {
   "cell_type": "markdown",
   "id": "0cfd60d2",
   "metadata": {},
   "source": [
    "## Compute evoked data for decoding"
   ]
  },
  {
   "cell_type": "code",
   "execution_count": 9,
   "id": "a80b3421-899f-4681-97df-fedea9883db7",
   "metadata": {},
   "outputs": [
    {
     "name": "stdout",
     "output_type": "stream",
     "text": [
      "bids_data/sub-02/ses-01/meg/sub-02_ses-01_task-WorkingMemory_run-01_meg.ds\n",
      "Reading 0 ... 503999  =      0.000 ...   419.999 secs...\n",
      "Used Annotations descriptions: ['CueLeftSF', 'CueRightOrient', 'CueRightSF', 'Probe1', 'Probe2', 'Probe3', 'Probe4', 'Probe5', 'Probe6', 'Probe7', 'Probe8', 'stimulus1', 'stimulus10', 'stimulus100', 'stimulus115', 'stimulus12', 'stimulus120', 'stimulus125', 'stimulus14', 'stimulus15', 'stimulus16', 'stimulus17', 'stimulus18', 'stimulus19', 'stimulus2', 'stimulus20', 'stimulus22', 'stimulus24', 'stimulus27', 'stimulus28', 'stimulus30', 'stimulus33', 'stimulus35', 'stimulus36', 'stimulus39', 'stimulus4', 'stimulus40', 'stimulus42', 'stimulus45', 'stimulus48', 'stimulus5', 'stimulus50', 'stimulus52', 'stimulus55', 'stimulus7', 'stimulus8', 'stimulus80', 'stimulus84', 'stimulus92']\n",
      "Filtering raw data in 1 contiguous segment\n",
      "Setting up low-pass filter at 25 Hz\n",
      "\n",
      "FIR filter parameters\n",
      "---------------------\n",
      "Designing a one-pass, zero-phase, non-causal lowpass filter:\n",
      "- Windowed time-domain design (firwin) method\n",
      "- Hamming window with 0.0194 passband ripple and 53 dB stopband attenuation\n",
      "- Upper passband edge: 25.00 Hz\n",
      "- Upper transition bandwidth: 6.25 Hz (-6 dB cutoff frequency: 28.12 Hz)\n",
      "- Filter length: 635 samples (0.529 s)\n",
      "\n"
     ]
    },
    {
     "name": "stderr",
     "output_type": "stream",
     "text": [
      "[Parallel(n_jobs=1)]: Done  17 tasks      | elapsed:    0.4s\n",
      "[Parallel(n_jobs=1)]: Done  71 tasks      | elapsed:    1.6s\n",
      "[Parallel(n_jobs=1)]: Done 161 tasks      | elapsed:    3.2s\n",
      "[Parallel(n_jobs=1)]: Done 287 tasks      | elapsed:    5.0s\n"
     ]
    },
    {
     "name": "stdout",
     "output_type": "stream",
     "text": [
      "bids_data/sub-02/ses-01/meg/sub-02_ses-01_task-WorkingMemory_run-02_meg.ds\n",
      "Reading 0 ... 307199  =      0.000 ...   255.999 secs...\n",
      "Used Annotations descriptions: ['CueLeftSF', 'CueRightOrient', 'CueRightSF', 'Probe1', 'Probe2', 'Probe3', 'Probe4', 'Probe5', 'Probe6', 'Probe7', 'Probe8', 'stimulus10', 'stimulus11', 'stimulus12', 'stimulus13', 'stimulus14', 'stimulus17', 'stimulus18', 'stimulus20', 'stimulus21', 'stimulus23', 'stimulus24', 'stimulus25', 'stimulus26', 'stimulus3', 'stimulus35', 'stimulus40', 'stimulus44', 'stimulus48', 'stimulus5', 'stimulus52', 'stimulus56', 'stimulus63', 'stimulus64', 'stimulus66', 'stimulus7', 'stimulus70', 'stimulus72', 'stimulus75', 'stimulus8', 'stimulus88', 'stimulus92', 'stimulus96']\n",
      "Filtering raw data in 1 contiguous segment\n",
      "Setting up low-pass filter at 25 Hz\n",
      "\n",
      "FIR filter parameters\n",
      "---------------------\n",
      "Designing a one-pass, zero-phase, non-causal lowpass filter:\n",
      "- Windowed time-domain design (firwin) method\n",
      "- Hamming window with 0.0194 passband ripple and 53 dB stopband attenuation\n",
      "- Upper passband edge: 25.00 Hz\n",
      "- Upper transition bandwidth: 6.25 Hz (-6 dB cutoff frequency: 28.12 Hz)\n",
      "- Filter length: 635 samples (0.529 s)\n",
      "\n"
     ]
    },
    {
     "name": "stderr",
     "output_type": "stream",
     "text": [
      "[Parallel(n_jobs=1)]: Done  17 tasks      | elapsed:    0.7s\n",
      "[Parallel(n_jobs=1)]: Done  71 tasks      | elapsed:    2.2s\n",
      "[Parallel(n_jobs=1)]: Done 161 tasks      | elapsed:    3.6s\n",
      "[Parallel(n_jobs=1)]: Done 287 tasks      | elapsed:    5.1s\n"
     ]
    },
    {
     "name": "stdout",
     "output_type": "stream",
     "text": [
      "bids_data/sub-02/ses-01/meg/sub-02_ses-01_task-WorkingMemory_run-03_meg.ds\n",
      "Reading 0 ... 316799  =      0.000 ...   263.999 secs...\n",
      "Used Annotations descriptions: ['CueLeftSF', 'CueRightOrient', 'CueRightSF', 'Probe1', 'Probe2', 'Probe3', 'Probe4', 'Probe5', 'Probe6', 'Probe7', 'Probe8', 'stimulus100', 'stimulus105', 'stimulus12', 'stimulus120', 'stimulus13', 'stimulus17', 'stimulus18', 'stimulus19', 'stimulus2', 'stimulus20', 'stimulus21', 'stimulus24', 'stimulus25', 'stimulus32', 'stimulus33', 'stimulus36', 'stimulus38', 'stimulus42', 'stimulus44', 'stimulus45', 'stimulus48', 'stimulus50', 'stimulus54', 'stimulus56', 'stimulus57', 'stimulus6', 'stimulus60', 'stimulus64', 'stimulus7', 'stimulus72', 'stimulus76', 'stimulus80', 'stimulus84', 'stimulus9', 'stimulus90', 'stimulus92']\n",
      "Filtering raw data in 1 contiguous segment\n",
      "Setting up low-pass filter at 25 Hz\n",
      "\n",
      "FIR filter parameters\n",
      "---------------------\n",
      "Designing a one-pass, zero-phase, non-causal lowpass filter:\n",
      "- Windowed time-domain design (firwin) method\n",
      "- Hamming window with 0.0194 passband ripple and 53 dB stopband attenuation\n",
      "- Upper passband edge: 25.00 Hz\n",
      "- Upper transition bandwidth: 6.25 Hz (-6 dB cutoff frequency: 28.12 Hz)\n",
      "- Filter length: 635 samples (0.529 s)\n",
      "\n"
     ]
    },
    {
     "name": "stderr",
     "output_type": "stream",
     "text": [
      "[Parallel(n_jobs=1)]: Done  17 tasks      | elapsed:    1.4s\n",
      "[Parallel(n_jobs=1)]: Done  71 tasks      | elapsed:    4.6s\n",
      "[Parallel(n_jobs=1)]: Done 161 tasks      | elapsed:    8.2s\n",
      "[Parallel(n_jobs=1)]: Done 287 tasks      | elapsed:   13.5s\n"
     ]
    },
    {
     "name": "stdout",
     "output_type": "stream",
     "text": [
      "bids_data/sub-02/ses-01/meg/sub-02_ses-01_task-WorkingMemory_run-04_meg.ds\n",
      "Reading 0 ... 323999  =      0.000 ...   269.999 secs...\n",
      "Used Annotations descriptions: ['CueLeftSF', 'CueRightOrient', 'CueRightSF', 'Probe1', 'Probe2', 'Probe3', 'Probe4', 'Probe5', 'Probe6', 'Probe7', 'Probe8', 'stimulus10', 'stimulus115', 'stimulus13', 'stimulus14', 'stimulus15', 'stimulus16', 'stimulus18', 'stimulus20', 'stimulus21', 'stimulus23', 'stimulus24', 'stimulus27', 'stimulus28', 'stimulus3', 'stimulus36', 'stimulus39', 'stimulus40', 'stimulus42', 'stimulus44', 'stimulus48', 'stimulus5', 'stimulus50', 'stimulus51', 'stimulus52', 'stimulus6', 'stimulus63', 'stimulus65', 'stimulus68', 'stimulus69', 'stimulus76', 'stimulus8', 'stimulus80', 'stimulus84', 'stimulus85', 'stimulus9', 'stimulus90', 'stimulus95']\n",
      "Filtering raw data in 1 contiguous segment\n",
      "Setting up low-pass filter at 25 Hz\n",
      "\n",
      "FIR filter parameters\n",
      "---------------------\n",
      "Designing a one-pass, zero-phase, non-causal lowpass filter:\n",
      "- Windowed time-domain design (firwin) method\n",
      "- Hamming window with 0.0194 passband ripple and 53 dB stopband attenuation\n",
      "- Upper passband edge: 25.00 Hz\n",
      "- Upper transition bandwidth: 6.25 Hz (-6 dB cutoff frequency: 28.12 Hz)\n",
      "- Filter length: 635 samples (0.529 s)\n",
      "\n"
     ]
    },
    {
     "name": "stderr",
     "output_type": "stream",
     "text": [
      "[Parallel(n_jobs=1)]: Done  17 tasks      | elapsed:    1.0s\n",
      "[Parallel(n_jobs=1)]: Done  71 tasks      | elapsed:    3.5s\n",
      "[Parallel(n_jobs=1)]: Done 161 tasks      | elapsed:    7.7s\n",
      "[Parallel(n_jobs=1)]: Done 287 tasks      | elapsed:   13.3s\n"
     ]
    },
    {
     "name": "stdout",
     "output_type": "stream",
     "text": [
      "bids_data/sub-02/ses-01/meg/sub-02_ses-01_task-WorkingMemory_run-05_meg.ds\n",
      "Reading 0 ... 295199  =      0.000 ...   245.999 secs...\n",
      "Used Annotations descriptions: ['CueLeftSF', 'CueRightOrient', 'CueRightSF', 'Probe1', 'Probe2', 'Probe3', 'Probe4', 'Probe5', 'Probe6', 'Probe7', 'Probe8', 'stimulus10', 'stimulus100', 'stimulus105', 'stimulus11', 'stimulus110', 'stimulus12', 'stimulus120', 'stimulus14', 'stimulus15', 'stimulus16', 'stimulus18', 'stimulus2', 'stimulus20', 'stimulus21', 'stimulus23', 'stimulus25', 'stimulus28', 'stimulus30', 'stimulus34', 'stimulus36', 'stimulus38', 'stimulus39', 'stimulus4', 'stimulus40', 'stimulus44', 'stimulus48', 'stimulus51', 'stimulus55', 'stimulus6', 'stimulus60', 'stimulus65', 'stimulus69', 'stimulus7', 'stimulus75', 'stimulus8', 'stimulus80', 'stimulus85', 'stimulus9', 'stimulus90']\n",
      "Filtering raw data in 1 contiguous segment\n",
      "Setting up low-pass filter at 25 Hz\n",
      "\n",
      "FIR filter parameters\n",
      "---------------------\n",
      "Designing a one-pass, zero-phase, non-causal lowpass filter:\n",
      "- Windowed time-domain design (firwin) method\n",
      "- Hamming window with 0.0194 passband ripple and 53 dB stopband attenuation\n",
      "- Upper passband edge: 25.00 Hz\n",
      "- Upper transition bandwidth: 6.25 Hz (-6 dB cutoff frequency: 28.12 Hz)\n",
      "- Filter length: 635 samples (0.529 s)\n",
      "\n"
     ]
    },
    {
     "name": "stderr",
     "output_type": "stream",
     "text": [
      "[Parallel(n_jobs=1)]: Done  17 tasks      | elapsed:    0.8s\n",
      "[Parallel(n_jobs=1)]: Done  71 tasks      | elapsed:    3.3s\n",
      "[Parallel(n_jobs=1)]: Done 161 tasks      | elapsed:    6.1s\n",
      "[Parallel(n_jobs=1)]: Done 287 tasks      | elapsed:   10.4s\n"
     ]
    },
    {
     "name": "stdout",
     "output_type": "stream",
     "text": [
      "bids_data/sub-02/ses-01/meg/sub-02_ses-01_task-WorkingMemory_run-06_meg.ds\n",
      "Reading 0 ... 302399  =      0.000 ...   251.999 secs...\n",
      "Used Annotations descriptions: ['CueLeftSF', 'CueRightOrient', 'CueRightSF', 'Probe1', 'Probe2', 'Probe3', 'Probe4', 'Probe5', 'Probe6', 'Probe7', 'Probe8', 'stimulus1', 'stimulus10', 'stimulus11', 'stimulus115', 'stimulus12', 'stimulus15', 'stimulus16', 'stimulus2', 'stimulus20', 'stimulus21', 'stimulus24', 'stimulus25', 'stimulus27', 'stimulus28', 'stimulus3', 'stimulus30', 'stimulus34', 'stimulus36', 'stimulus38', 'stimulus39', 'stimulus44', 'stimulus50', 'stimulus52', 'stimulus55', 'stimulus56', 'stimulus57', 'stimulus6', 'stimulus60', 'stimulus65', 'stimulus66', 'stimulus7', 'stimulus8', 'stimulus80', 'stimulus85', 'stimulus9', 'stimulus95', 'stimulus96']\n",
      "Filtering raw data in 1 contiguous segment\n",
      "Setting up low-pass filter at 25 Hz\n",
      "\n",
      "FIR filter parameters\n",
      "---------------------\n",
      "Designing a one-pass, zero-phase, non-causal lowpass filter:\n",
      "- Windowed time-domain design (firwin) method\n",
      "- Hamming window with 0.0194 passband ripple and 53 dB stopband attenuation\n",
      "- Upper passband edge: 25.00 Hz\n",
      "- Upper transition bandwidth: 6.25 Hz (-6 dB cutoff frequency: 28.12 Hz)\n",
      "- Filter length: 635 samples (0.529 s)\n",
      "\n"
     ]
    },
    {
     "name": "stderr",
     "output_type": "stream",
     "text": [
      "[Parallel(n_jobs=1)]: Done  17 tasks      | elapsed:    0.7s\n",
      "[Parallel(n_jobs=1)]: Done  71 tasks      | elapsed:    2.8s\n",
      "[Parallel(n_jobs=1)]: Done 161 tasks      | elapsed:    6.0s\n",
      "[Parallel(n_jobs=1)]: Done 287 tasks      | elapsed:   11.6s\n"
     ]
    },
    {
     "name": "stdout",
     "output_type": "stream",
     "text": [
      "bids_data/sub-02/ses-01/meg/sub-02_ses-01_task-WorkingMemory_run-07_meg.ds\n",
      "Reading 0 ... 350399  =      0.000 ...   291.999 secs...\n",
      "Used Annotations descriptions: ['CueLeftSF', 'CueRightOrient', 'CueRightSF', 'Probe1', 'Probe2', 'Probe3', 'Probe4', 'Probe5', 'Probe6', 'Probe7', 'Probe8', 'stimulus100', 'stimulus105', 'stimulus12', 'stimulus18', 'stimulus20', 'stimulus21', 'stimulus22', 'stimulus24', 'stimulus25', 'stimulus3', 'stimulus30', 'stimulus32', 'stimulus34', 'stimulus36', 'stimulus38', 'stimulus40', 'stimulus42', 'stimulus44', 'stimulus46', 'stimulus48', 'stimulus50', 'stimulus51', 'stimulus54', 'stimulus56', 'stimulus6', 'stimulus64', 'stimulus66', 'stimulus7', 'stimulus72', 'stimulus76', 'stimulus8', 'stimulus80', 'stimulus88', 'stimulus9', 'stimulus95']\n",
      "Filtering raw data in 1 contiguous segment\n",
      "Setting up low-pass filter at 25 Hz\n",
      "\n",
      "FIR filter parameters\n",
      "---------------------\n",
      "Designing a one-pass, zero-phase, non-causal lowpass filter:\n",
      "- Windowed time-domain design (firwin) method\n",
      "- Hamming window with 0.0194 passband ripple and 53 dB stopband attenuation\n",
      "- Upper passband edge: 25.00 Hz\n",
      "- Upper transition bandwidth: 6.25 Hz (-6 dB cutoff frequency: 28.12 Hz)\n",
      "- Filter length: 635 samples (0.529 s)\n",
      "\n"
     ]
    },
    {
     "name": "stderr",
     "output_type": "stream",
     "text": [
      "[Parallel(n_jobs=1)]: Done  17 tasks      | elapsed:    0.7s\n",
      "[Parallel(n_jobs=1)]: Done  71 tasks      | elapsed:    3.0s\n",
      "[Parallel(n_jobs=1)]: Done 161 tasks      | elapsed:    5.3s\n",
      "[Parallel(n_jobs=1)]: Done 287 tasks      | elapsed:    8.3s\n"
     ]
    },
    {
     "name": "stdout",
     "output_type": "stream",
     "text": [
      "bids_data/sub-02/ses-01/meg/sub-02_ses-01_task-WorkingMemory_run-08_meg.ds\n",
      "Reading 0 ... 319199  =      0.000 ...   265.999 secs...\n",
      "Used Annotations descriptions: ['CueLeftSF', 'CueRightOrient', 'CueRightSF', 'Probe1', 'Probe2', 'Probe3', 'Probe4', 'Probe5', 'Probe6', 'Probe7', 'Probe8', 'stimulus1', 'stimulus100', 'stimulus105', 'stimulus11', 'stimulus110', 'stimulus12', 'stimulus120', 'stimulus14', 'stimulus15', 'stimulus18', 'stimulus19', 'stimulus2', 'stimulus20', 'stimulus21', 'stimulus23', 'stimulus24', 'stimulus25', 'stimulus28', 'stimulus3', 'stimulus30', 'stimulus33', 'stimulus36', 'stimulus39', 'stimulus40', 'stimulus44', 'stimulus45', 'stimulus48', 'stimulus5', 'stimulus50', 'stimulus51', 'stimulus57', 'stimulus60', 'stimulus64', 'stimulus66', 'stimulus68', 'stimulus72', 'stimulus76', 'stimulus80', 'stimulus84', 'stimulus9', 'stimulus90']\n",
      "Filtering raw data in 1 contiguous segment\n",
      "Setting up low-pass filter at 25 Hz\n",
      "\n",
      "FIR filter parameters\n",
      "---------------------\n",
      "Designing a one-pass, zero-phase, non-causal lowpass filter:\n",
      "- Windowed time-domain design (firwin) method\n",
      "- Hamming window with 0.0194 passband ripple and 53 dB stopband attenuation\n",
      "- Upper passband edge: 25.00 Hz\n",
      "- Upper transition bandwidth: 6.25 Hz (-6 dB cutoff frequency: 28.12 Hz)\n",
      "- Filter length: 635 samples (0.529 s)\n",
      "\n"
     ]
    },
    {
     "name": "stderr",
     "output_type": "stream",
     "text": [
      "[Parallel(n_jobs=1)]: Done  17 tasks      | elapsed:    0.7s\n",
      "[Parallel(n_jobs=1)]: Done  71 tasks      | elapsed:    2.8s\n",
      "[Parallel(n_jobs=1)]: Done 161 tasks      | elapsed:    6.7s\n",
      "[Parallel(n_jobs=1)]: Done 287 tasks      | elapsed:   11.5s\n"
     ]
    },
    {
     "name": "stdout",
     "output_type": "stream",
     "text": [
      "Not setting metadata\n",
      "424 matching events found\n",
      "Applying baseline correction (mode: mean)\n"
     ]
    },
    {
     "name": "stderr",
     "output_type": "stream",
     "text": [
      "/var/folders/wt/pqw3lrz575l81bk2v6wq0zv80000gn/T/ipykernel_47412/2307918302.py:50: RuntimeWarning: Concatenation of Annotations within Epochs is not supported yet. All annotations will be dropped.\n",
      "  epochs = mne.epochs.concatenate_epochs(epochs_list)\n"
     ]
    },
    {
     "name": "stdout",
     "output_type": "stream",
     "text": [
      "Overwriting existing file.\n",
      "Wrote bids_data/derivatives/stimulus_epoch_preprocessing/sub-02/ses-01/meg/sub-02_ses-01_task-WorkingMemory_meg-epo.fif\n",
      "bids_data/sub-03/ses-01/meg/sub-03_ses-01_task-WorkingMemory_run-01_meg.ds\n",
      "Reading 0 ... 340799  =      0.000 ...   283.999 secs...\n",
      "Used Annotations descriptions: ['CueLeftSF', 'CueRightOrient', 'CueRightSF', 'Probe1', 'Probe2', 'Probe3', 'Probe4', 'Probe5', 'Probe6', 'Probe7', 'Probe8', 'stimulus10', 'stimulus115', 'stimulus12', 'stimulus120', 'stimulus125', 'stimulus17', 'stimulus18', 'stimulus2', 'stimulus20', 'stimulus22', 'stimulus24', 'stimulus25', 'stimulus28', 'stimulus3', 'stimulus30', 'stimulus38', 'stimulus4', 'stimulus45', 'stimulus48', 'stimulus5', 'stimulus50', 'stimulus52', 'stimulus56', 'stimulus64', 'stimulus65', 'stimulus68', 'stimulus7', 'stimulus70', 'stimulus72', 'stimulus75', 'stimulus84']\n",
      "Filtering raw data in 1 contiguous segment\n",
      "Setting up low-pass filter at 25 Hz\n",
      "\n",
      "FIR filter parameters\n",
      "---------------------\n",
      "Designing a one-pass, zero-phase, non-causal lowpass filter:\n",
      "- Windowed time-domain design (firwin) method\n",
      "- Hamming window with 0.0194 passband ripple and 53 dB stopband attenuation\n",
      "- Upper passband edge: 25.00 Hz\n",
      "- Upper transition bandwidth: 6.25 Hz (-6 dB cutoff frequency: 28.12 Hz)\n",
      "- Filter length: 635 samples (0.529 s)\n",
      "\n"
     ]
    },
    {
     "name": "stderr",
     "output_type": "stream",
     "text": [
      "[Parallel(n_jobs=1)]: Done  17 tasks      | elapsed:    2.5s\n",
      "[Parallel(n_jobs=1)]: Done  71 tasks      | elapsed:    7.1s\n",
      "[Parallel(n_jobs=1)]: Done 161 tasks      | elapsed:   15.8s\n",
      "[Parallel(n_jobs=1)]: Done 287 tasks      | elapsed:   26.5s\n"
     ]
    },
    {
     "name": "stdout",
     "output_type": "stream",
     "text": [
      "bids_data/sub-03/ses-01/meg/sub-03_ses-01_task-WorkingMemory_run-02_meg.ds\n",
      "Reading 0 ... 347999  =      0.000 ...   289.999 secs...\n",
      "Used Annotations descriptions: ['CueLeftSF', 'CueRightOrient', 'CueRightSF', 'Probe1', 'Probe2', 'Probe3', 'Probe4', 'Probe5', 'Probe6', 'Probe7', 'Probe8', 'stimulus10', 'stimulus105', 'stimulus11', 'stimulus110', 'stimulus115', 'stimulus12', 'stimulus125', 'stimulus14', 'stimulus16', 'stimulus18', 'stimulus19', 'stimulus2', 'stimulus20', 'stimulus22', 'stimulus24', 'stimulus27', 'stimulus28', 'stimulus3', 'stimulus32', 'stimulus35', 'stimulus38', 'stimulus39', 'stimulus42', 'stimulus44', 'stimulus45', 'stimulus5', 'stimulus52', 'stimulus57', 'stimulus6', 'stimulus60', 'stimulus63', 'stimulus65', 'stimulus68', 'stimulus70', 'stimulus75', 'stimulus76', 'stimulus8', 'stimulus88', 'stimulus9']\n",
      "Filtering raw data in 1 contiguous segment\n",
      "Setting up low-pass filter at 25 Hz\n",
      "\n",
      "FIR filter parameters\n",
      "---------------------\n",
      "Designing a one-pass, zero-phase, non-causal lowpass filter:\n",
      "- Windowed time-domain design (firwin) method\n",
      "- Hamming window with 0.0194 passband ripple and 53 dB stopband attenuation\n",
      "- Upper passband edge: 25.00 Hz\n",
      "- Upper transition bandwidth: 6.25 Hz (-6 dB cutoff frequency: 28.12 Hz)\n",
      "- Filter length: 635 samples (0.529 s)\n",
      "\n"
     ]
    },
    {
     "name": "stderr",
     "output_type": "stream",
     "text": [
      "[Parallel(n_jobs=1)]: Done  17 tasks      | elapsed:    1.8s\n",
      "[Parallel(n_jobs=1)]: Done  71 tasks      | elapsed:    7.7s\n",
      "[Parallel(n_jobs=1)]: Done 161 tasks      | elapsed:   14.9s\n",
      "[Parallel(n_jobs=1)]: Done 287 tasks      | elapsed:   24.9s\n"
     ]
    },
    {
     "name": "stdout",
     "output_type": "stream",
     "text": [
      "bids_data/sub-03/ses-01/meg/sub-03_ses-01_task-WorkingMemory_run-03_meg.ds\n",
      "Reading 0 ... 371999  =      0.000 ...   309.999 secs...\n",
      "Used Annotations descriptions: ['CueLeftSF', 'CueRightOrient', 'CueRightSF', 'Probe1', 'Probe2', 'Probe3', 'Probe4', 'Probe5', 'Probe6', 'Probe7', 'Probe8', 'stimulus1', 'stimulus10', 'stimulus100', 'stimulus110', 'stimulus12', 'stimulus125', 'stimulus14', 'stimulus16', 'stimulus17', 'stimulus18', 'stimulus2', 'stimulus20', 'stimulus21', 'stimulus22', 'stimulus27', 'stimulus3', 'stimulus30', 'stimulus32', 'stimulus34', 'stimulus35', 'stimulus36', 'stimulus38', 'stimulus39', 'stimulus4', 'stimulus40', 'stimulus44', 'stimulus46', 'stimulus48', 'stimulus5', 'stimulus6', 'stimulus7', 'stimulus72', 'stimulus80', 'stimulus85', 'stimulus90', 'stimulus95']\n",
      "Filtering raw data in 1 contiguous segment\n",
      "Setting up low-pass filter at 25 Hz\n",
      "\n",
      "FIR filter parameters\n",
      "---------------------\n",
      "Designing a one-pass, zero-phase, non-causal lowpass filter:\n",
      "- Windowed time-domain design (firwin) method\n",
      "- Hamming window with 0.0194 passband ripple and 53 dB stopband attenuation\n",
      "- Upper passband edge: 25.00 Hz\n",
      "- Upper transition bandwidth: 6.25 Hz (-6 dB cutoff frequency: 28.12 Hz)\n",
      "- Filter length: 635 samples (0.529 s)\n",
      "\n"
     ]
    },
    {
     "name": "stderr",
     "output_type": "stream",
     "text": [
      "[Parallel(n_jobs=1)]: Done  17 tasks      | elapsed:    1.7s\n",
      "[Parallel(n_jobs=1)]: Done  71 tasks      | elapsed:    5.0s\n",
      "[Parallel(n_jobs=1)]: Done 161 tasks      | elapsed:   10.3s\n",
      "[Parallel(n_jobs=1)]: Done 287 tasks      | elapsed:   16.0s\n"
     ]
    },
    {
     "name": "stdout",
     "output_type": "stream",
     "text": [
      "bids_data/sub-03/ses-01/meg/sub-03_ses-01_task-WorkingMemory_run-04_meg.ds\n",
      "Reading 0 ... 343199  =      0.000 ...   285.999 secs...\n",
      "Used Annotations descriptions: ['CueLeftSF', 'CueRightOrient', 'CueRightSF', 'Probe1', 'Probe2', 'Probe3', 'Probe4', 'Probe5', 'Probe6', 'Probe7', 'Probe8', 'stimulus1', 'stimulus10', 'stimulus100', 'stimulus11', 'stimulus14', 'stimulus15', 'stimulus16', 'stimulus17', 'stimulus18', 'stimulus2', 'stimulus21', 'stimulus22', 'stimulus24', 'stimulus25', 'stimulus26', 'stimulus28', 'stimulus3', 'stimulus30', 'stimulus32', 'stimulus33', 'stimulus36', 'stimulus39', 'stimulus4', 'stimulus40', 'stimulus42', 'stimulus46', 'stimulus48', 'stimulus5', 'stimulus51', 'stimulus54', 'stimulus6', 'stimulus66', 'stimulus68', 'stimulus72', 'stimulus76', 'stimulus80', 'stimulus9', 'stimulus92']\n",
      "Filtering raw data in 1 contiguous segment\n",
      "Setting up low-pass filter at 25 Hz\n",
      "\n",
      "FIR filter parameters\n",
      "---------------------\n",
      "Designing a one-pass, zero-phase, non-causal lowpass filter:\n",
      "- Windowed time-domain design (firwin) method\n",
      "- Hamming window with 0.0194 passband ripple and 53 dB stopband attenuation\n",
      "- Upper passband edge: 25.00 Hz\n",
      "- Upper transition bandwidth: 6.25 Hz (-6 dB cutoff frequency: 28.12 Hz)\n",
      "- Filter length: 635 samples (0.529 s)\n",
      "\n"
     ]
    },
    {
     "name": "stderr",
     "output_type": "stream",
     "text": [
      "[Parallel(n_jobs=1)]: Done  17 tasks      | elapsed:    1.1s\n",
      "[Parallel(n_jobs=1)]: Done  71 tasks      | elapsed:    3.8s\n",
      "[Parallel(n_jobs=1)]: Done 161 tasks      | elapsed:    8.3s\n",
      "[Parallel(n_jobs=1)]: Done 287 tasks      | elapsed:   14.6s\n"
     ]
    },
    {
     "name": "stdout",
     "output_type": "stream",
     "text": [
      "bids_data/sub-03/ses-01/meg/sub-03_ses-01_task-WorkingMemory_run-05_meg.ds\n",
      "Reading 0 ... 333599  =      0.000 ...   277.999 secs...\n",
      "Used Annotations descriptions: ['CueLeftSF', 'CueRightOrient', 'CueRightSF', 'Probe1', 'Probe2', 'Probe3', 'Probe4', 'Probe5', 'Probe6', 'Probe7', 'Probe8', 'stimulus1', 'stimulus10', 'stimulus100', 'stimulus11', 'stimulus110', 'stimulus125', 'stimulus16', 'stimulus17', 'stimulus18', 'stimulus19', 'stimulus2', 'stimulus21', 'stimulus22', 'stimulus24', 'stimulus26', 'stimulus28', 'stimulus3', 'stimulus30', 'stimulus32', 'stimulus33', 'stimulus35', 'stimulus36', 'stimulus39', 'stimulus40', 'stimulus44', 'stimulus48', 'stimulus52', 'stimulus54', 'stimulus55', 'stimulus6', 'stimulus63', 'stimulus64', 'stimulus66', 'stimulus7', 'stimulus72', 'stimulus75', 'stimulus76', 'stimulus80', 'stimulus85', 'stimulus9', 'stimulus90', 'stimulus92', 'stimulus95']\n",
      "Filtering raw data in 1 contiguous segment\n",
      "Setting up low-pass filter at 25 Hz\n",
      "\n",
      "FIR filter parameters\n",
      "---------------------\n",
      "Designing a one-pass, zero-phase, non-causal lowpass filter:\n",
      "- Windowed time-domain design (firwin) method\n",
      "- Hamming window with 0.0194 passband ripple and 53 dB stopband attenuation\n",
      "- Upper passband edge: 25.00 Hz\n",
      "- Upper transition bandwidth: 6.25 Hz (-6 dB cutoff frequency: 28.12 Hz)\n",
      "- Filter length: 635 samples (0.529 s)\n",
      "\n"
     ]
    },
    {
     "name": "stderr",
     "output_type": "stream",
     "text": [
      "[Parallel(n_jobs=1)]: Done  17 tasks      | elapsed:    0.4s\n",
      "[Parallel(n_jobs=1)]: Done  71 tasks      | elapsed:    2.3s\n",
      "[Parallel(n_jobs=1)]: Done 161 tasks      | elapsed:    4.4s\n",
      "[Parallel(n_jobs=1)]: Done 287 tasks      | elapsed:    7.7s\n"
     ]
    },
    {
     "name": "stdout",
     "output_type": "stream",
     "text": [
      "bids_data/sub-03/ses-01/meg/sub-03_ses-01_task-WorkingMemory_run-06_meg.ds\n",
      "Reading 0 ... 314399  =      0.000 ...   261.999 secs...\n",
      "Used Annotations descriptions: ['CueLeftSF', 'CueRightOrient', 'CueRightSF', 'Probe1', 'Probe2', 'Probe3', 'Probe4', 'Probe5', 'Probe6', 'Probe7', 'Probe8', 'stimulus1', 'stimulus10', 'stimulus100', 'stimulus11', 'stimulus12', 'stimulus14', 'stimulus16', 'stimulus19', 'stimulus20', 'stimulus21', 'stimulus23', 'stimulus26', 'stimulus3', 'stimulus30', 'stimulus32', 'stimulus34', 'stimulus35', 'stimulus36', 'stimulus38', 'stimulus4', 'stimulus40', 'stimulus45', 'stimulus46', 'stimulus5', 'stimulus51', 'stimulus52', 'stimulus55', 'stimulus56', 'stimulus60', 'stimulus69', 'stimulus80', 'stimulus84', 'stimulus9', 'stimulus90']\n",
      "Filtering raw data in 1 contiguous segment\n",
      "Setting up low-pass filter at 25 Hz\n",
      "\n",
      "FIR filter parameters\n",
      "---------------------\n",
      "Designing a one-pass, zero-phase, non-causal lowpass filter:\n",
      "- Windowed time-domain design (firwin) method\n",
      "- Hamming window with 0.0194 passband ripple and 53 dB stopband attenuation\n",
      "- Upper passband edge: 25.00 Hz\n",
      "- Upper transition bandwidth: 6.25 Hz (-6 dB cutoff frequency: 28.12 Hz)\n",
      "- Filter length: 635 samples (0.529 s)\n",
      "\n"
     ]
    },
    {
     "name": "stderr",
     "output_type": "stream",
     "text": [
      "[Parallel(n_jobs=1)]: Done  17 tasks      | elapsed:    0.9s\n",
      "[Parallel(n_jobs=1)]: Done  71 tasks      | elapsed:    3.5s\n",
      "[Parallel(n_jobs=1)]: Done 161 tasks      | elapsed:    6.8s\n",
      "[Parallel(n_jobs=1)]: Done 287 tasks      | elapsed:   11.3s\n"
     ]
    },
    {
     "name": "stdout",
     "output_type": "stream",
     "text": [
      "bids_data/sub-03/ses-01/meg/sub-03_ses-01_task-WorkingMemory_run-07_meg.ds\n",
      "Reading 0 ... 309599  =      0.000 ...   257.999 secs...\n",
      "Used Annotations descriptions: ['CueLeftSF', 'CueRightOrient', 'CueRightSF', 'Probe1', 'Probe2', 'Probe3', 'Probe4', 'Probe5', 'Probe6', 'Probe7', 'Probe8', 'stimulus1', 'stimulus10', 'stimulus100', 'stimulus12', 'stimulus14', 'stimulus15', 'stimulus16', 'stimulus18', 'stimulus20', 'stimulus21', 'stimulus22', 'stimulus23', 'stimulus24', 'stimulus28', 'stimulus3', 'stimulus30', 'stimulus36', 'stimulus4', 'stimulus40', 'stimulus44', 'stimulus45', 'stimulus46', 'stimulus48', 'stimulus51', 'stimulus55', 'stimulus6', 'stimulus63', 'stimulus66', 'stimulus70', 'stimulus72', 'stimulus75', 'stimulus8', 'stimulus88', 'stimulus90', 'stimulus96']\n",
      "Filtering raw data in 1 contiguous segment\n",
      "Setting up low-pass filter at 25 Hz\n",
      "\n",
      "FIR filter parameters\n",
      "---------------------\n",
      "Designing a one-pass, zero-phase, non-causal lowpass filter:\n",
      "- Windowed time-domain design (firwin) method\n",
      "- Hamming window with 0.0194 passband ripple and 53 dB stopband attenuation\n",
      "- Upper passband edge: 25.00 Hz\n",
      "- Upper transition bandwidth: 6.25 Hz (-6 dB cutoff frequency: 28.12 Hz)\n",
      "- Filter length: 635 samples (0.529 s)\n",
      "\n"
     ]
    },
    {
     "name": "stderr",
     "output_type": "stream",
     "text": [
      "[Parallel(n_jobs=1)]: Done  17 tasks      | elapsed:    0.6s\n",
      "[Parallel(n_jobs=1)]: Done  71 tasks      | elapsed:    2.3s\n",
      "[Parallel(n_jobs=1)]: Done 161 tasks      | elapsed:    4.6s\n",
      "[Parallel(n_jobs=1)]: Done 287 tasks      | elapsed:    7.0s\n"
     ]
    },
    {
     "name": "stdout",
     "output_type": "stream",
     "text": [
      "bids_data/sub-03/ses-01/meg/sub-03_ses-01_task-WorkingMemory_run-08_meg.ds\n",
      "Reading 0 ... 316799  =      0.000 ...   263.999 secs...\n",
      "Used Annotations descriptions: ['CueLeftSF', 'CueRightOrient', 'CueRightSF', 'Probe1', 'Probe2', 'Probe3', 'Probe4', 'Probe5', 'Probe6', 'Probe7', 'Probe8', 'stimulus10', 'stimulus100', 'stimulus105', 'stimulus11', 'stimulus110', 'stimulus115', 'stimulus125', 'stimulus13', 'stimulus14', 'stimulus16', 'stimulus17', 'stimulus18', 'stimulus19', 'stimulus27', 'stimulus28', 'stimulus3', 'stimulus30', 'stimulus32', 'stimulus34', 'stimulus36', 'stimulus38', 'stimulus4', 'stimulus40', 'stimulus42', 'stimulus44', 'stimulus46', 'stimulus48', 'stimulus6', 'stimulus60', 'stimulus68', 'stimulus7', 'stimulus75', 'stimulus8', 'stimulus80', 'stimulus84', 'stimulus9', 'stimulus95']\n",
      "Filtering raw data in 1 contiguous segment\n",
      "Setting up low-pass filter at 25 Hz\n",
      "\n",
      "FIR filter parameters\n",
      "---------------------\n",
      "Designing a one-pass, zero-phase, non-causal lowpass filter:\n",
      "- Windowed time-domain design (firwin) method\n",
      "- Hamming window with 0.0194 passband ripple and 53 dB stopband attenuation\n",
      "- Upper passband edge: 25.00 Hz\n",
      "- Upper transition bandwidth: 6.25 Hz (-6 dB cutoff frequency: 28.12 Hz)\n",
      "- Filter length: 635 samples (0.529 s)\n",
      "\n"
     ]
    },
    {
     "name": "stderr",
     "output_type": "stream",
     "text": [
      "[Parallel(n_jobs=1)]: Done  17 tasks      | elapsed:    0.7s\n",
      "[Parallel(n_jobs=1)]: Done  71 tasks      | elapsed:    2.4s\n",
      "[Parallel(n_jobs=1)]: Done 161 tasks      | elapsed:    4.8s\n",
      "[Parallel(n_jobs=1)]: Done 287 tasks      | elapsed:    8.3s\n"
     ]
    },
    {
     "name": "stdout",
     "output_type": "stream",
     "text": [
      "Not setting metadata\n",
      "436 matching events found\n",
      "Applying baseline correction (mode: mean)\n"
     ]
    },
    {
     "name": "stderr",
     "output_type": "stream",
     "text": [
      "/var/folders/wt/pqw3lrz575l81bk2v6wq0zv80000gn/T/ipykernel_47412/2307918302.py:50: RuntimeWarning: Concatenation of Annotations within Epochs is not supported yet. All annotations will be dropped.\n",
      "  epochs = mne.epochs.concatenate_epochs(epochs_list)\n"
     ]
    },
    {
     "name": "stdout",
     "output_type": "stream",
     "text": [
      "Overwriting existing file.\n",
      "Wrote bids_data/derivatives/stimulus_epoch_preprocessing/sub-03/ses-01/meg/sub-03_ses-01_task-WorkingMemory_meg-epo.fif\n"
     ]
    }
   ],
   "source": [
    "# specify a C locale to enable US-style date reading on Linux (workaround for a bug)\n",
    "import locale\n",
    "locale.setlocale(locale.LC_ALL, 'C')\n",
    "\n",
    "import mne\n",
    "stim_id = dict([ ('stimulus' + str(i), i) for i in range(1,126)] )\n",
    "cue_id = {'CueLeftSF': 126,\n",
    "          'CueLeftOrient/': 127,\n",
    "          'CueRightSF': 128,\n",
    "          'CueRightOrient': 129}\n",
    "probe_id = dict([ ('Probe' + str(i-129), i) for i in range(130,156) ])\n",
    "# merge all 3 in event_id\n",
    "event_id = stim_id.copy()\n",
    "event_id.update(cue_id)\n",
    "event_id.update(probe_id)\n",
    "for s in mne_bids.get_entity_vals(bids_root, 'subject'):\n",
    "   epochs_list = list()\n",
    "   # update our bids PATH whith this subject\n",
    "   bids_path = bids_path.update(subject=s)\n",
    "   for run in mne_bids.get_entity_vals(bids_root, 'run'):\n",
    "      # update our bids PATH whith this run number\n",
    "      bids_path = bids_path.update(run=run)\n",
    "      print(bids_path)\n",
    "      raw = mne_bids.read_raw_bids(bids_path=bids_path, \n",
    "                                    verbose='error', \n",
    "                                    extra_params=dict(preload=False,\n",
    "                                                      system_clock='ignore'))\n",
    "      # correct our stimulus channel\n",
    "      raw.load_data()  # load data into memory\n",
    "      # find triggers\n",
    "      events_meg, evtid = mne.events_from_annotations(raw, event_id)\n",
    "      # Add 48ms to the trigger events (according to delay with photodiod)\n",
    "      events_meg[:, 0] += int(round(.048 * raw.info['sfreq']))\n",
    "      # filter the raw\n",
    "      raw.filter(l_freq=None, h_freq=25.0, fir_design='firwin')\n",
    "      # Epoch the data\n",
    "      tmin = -0.2\n",
    "      tmax = 0.9\n",
    "      epochs = mne.Epochs(raw, events_meg, event_id=stim_id,\n",
    "                           tmin=tmin, tmax=tmax, preload=True,\n",
    "                           baseline=(-0.2, 0), decim=10, \n",
    "                           detrend = 1,\n",
    "                           on_missing='ignore', verbose=False)\n",
    "      # Copy first run dev_head_t to following runs\n",
    "      if run == '01':\n",
    "         dev_head_t = epochs.info['dev_head_t']\n",
    "      else:\n",
    "         epochs.info['dev_head_t'] = dev_head_t\n",
    "      epochs_list.append(epochs)\n",
    "   epochs = mne.epochs.concatenate_epochs(epochs_list)\n",
    "   # update our bids PATH for epoched data\n",
    "   epochs_path = bids_path.copy().update(\n",
    "      root = bids_path.root / 'derivatives' / 'stimulus_epoch_preprocessing',\n",
    "      run = None,\n",
    "      suffix = 'meg-epo',\n",
    "      check = False,\n",
    "      extension = \".fif\")\n",
    "   # Create epochs folder if necessary\n",
    "   epochs_path.mkdir(exist_ok=True)\n",
    "   # save epochs\n",
    "   epochs.save(str(epochs_path), overwrite=True)\n",
    "   print('Wrote',epochs_path)"
   ]
  }
 ],
 "metadata": {
  "kernelspec": {
   "display_name": "Python 3 (ipykernel)",
   "language": "python",
   "name": "python3"
  },
  "language_info": {
   "codemirror_mode": {
    "name": "ipython",
    "version": 3
   },
   "file_extension": ".py",
   "mimetype": "text/x-python",
   "name": "python",
   "nbconvert_exporter": "python",
   "pygments_lexer": "ipython3",
   "version": "3.11.4"
  }
 },
 "nbformat": 4,
 "nbformat_minor": 5
}
